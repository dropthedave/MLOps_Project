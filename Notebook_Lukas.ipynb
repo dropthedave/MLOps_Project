{
 "cells": [
  {
   "attachments": {},
   "cell_type": "markdown",
   "metadata": {},
   "source": [
    "# Imports"
   ]
  },
  {
   "cell_type": "code",
   "execution_count": 1,
   "metadata": {},
   "outputs": [],
   "source": [
    "# basics\n",
    "import os\n",
    "import pandas as pd\n",
    "import numpy as np\n",
    "import matplotlib.pyplot as plt\n",
    "import seaborn as sns\n",
    "import ast\n",
    "# scikit-learn\n",
    "from sklearn.model_selection import train_test_split\n",
    "from sklearn.pipeline import Pipeline\n",
    "from sklearn.preprocessing import StandardScaler\n",
    "from sklearn.impute import SimpleImputer\n",
    "from sklearn.model_selection import GridSearchCV\n",
    "from sklearn.linear_model import LogisticRegression\n",
    "from sklearn.tree import DecisionTreeClassifier\n",
    "from sklearn.ensemble import RandomForestClassifier\n",
    "from sklearn.metrics import accuracy_score\n",
    "from sklearn.metrics import precision_score\n",
    "from sklearn.metrics import recall_score\n",
    "from sklearn.metrics import f1_score\n",
    "from sklearn.metrics import classification_report\n",
    "from sklearn.metrics import RocCurveDisplay\n",
    "# mlflow\n",
    "import mlflow\n",
    "# great expectations\n",
    "import great_expectations as gx\n",
    "# termcolor\n",
    "from termcolor import colored"
   ]
  },
  {
   "cell_type": "code",
   "execution_count": 2,
   "metadata": {},
   "outputs": [],
   "source": [
    "x = RandomForestClassifier(random_state=420)"
   ]
  },
  {
   "cell_type": "code",
   "execution_count": 3,
   "metadata": {},
   "outputs": [
    {
     "name": "stdout",
     "output_type": "stream",
     "text": [
      "RandomForestClassifier\n"
     ]
    }
   ],
   "source": [
    "print(str(x).split(\"(\")[0])"
   ]
  },
  {
   "attachments": {},
   "cell_type": "markdown",
   "metadata": {},
   "source": [
    "# MLFlow Experiment\n",
    "\n",
    "FIRST: \n",
    "1. open ***mlflow ui*** via terminal"
   ]
  },
  {
   "cell_type": "code",
   "execution_count": 4,
   "metadata": {},
   "outputs": [],
   "source": [
    "# Create a new experiment\n",
    "experiment_name = \"MLOps Project\"\n",
    "\n",
    "# create new experiment if not existing\n",
    "try:\n",
    "    mlflow.create_experiment(experiment_name)\n",
    "    mlflow.set_experiment(experiment_name)\n",
    "# if experiment already exists, set experiment\n",
    "except:\n",
    "    mlflow.set_experiment(experiment_name)"
   ]
  },
  {
   "cell_type": "code",
   "execution_count": 5,
   "metadata": {},
   "outputs": [],
   "source": [
    "# get experiment id\n",
    "experiment_id = mlflow.get_experiment_by_name(experiment_name).experiment_id"
   ]
  },
  {
   "attachments": {},
   "cell_type": "markdown",
   "metadata": {},
   "source": [
    "# Load Data"
   ]
  },
  {
   "cell_type": "code",
   "execution_count": 6,
   "metadata": {},
   "outputs": [],
   "source": [
    "dataframe = pd.read_csv('Data/smoke_detection.csv', index_col=[0])"
   ]
  },
  {
   "attachments": {},
   "cell_type": "markdown",
   "metadata": {},
   "source": [
    "# Split Data\n",
    "\n",
    "To simulate multiple datasets we're going to order the dataset bei the *UTC* column and split it into 3 equal parts"
   ]
  },
  {
   "cell_type": "code",
   "execution_count": 7,
   "metadata": {},
   "outputs": [],
   "source": [
    "def split_dataframe(dataframe: pd.DataFrame) -> tuple[pd.DataFrame, pd.DataFrame, pd.DataFrame]:\n",
    "    # order dataframe by month\n",
    "    dataframe = dataframe.sort_values(by='UTC').reset_index(drop=True)\n",
    "    \n",
    "    # split dataframe into 3 equal sized datasets\n",
    "    dataframe_1 = dataframe.iloc[:int(len(dataframe)/3)]\n",
    "    dataframe_2 = dataframe.iloc[int(len(dataframe)/3):int(len(dataframe)/3)*2]\n",
    "    dataframe_3 = dataframe.iloc[int(len(dataframe)/3)*2:]\n",
    "    \n",
    "    return dataframe_1, dataframe_2, dataframe_3"
   ]
  },
  {
   "cell_type": "code",
   "execution_count": 8,
   "metadata": {},
   "outputs": [],
   "source": [
    "# pandas dataframes\n",
    "df1, df2, df3 = split_dataframe(dataframe)"
   ]
  },
  {
   "attachments": {},
   "cell_type": "markdown",
   "metadata": {},
   "source": [
    "# EDA"
   ]
  },
  {
   "cell_type": "code",
   "execution_count": 9,
   "metadata": {},
   "outputs": [
    {
     "name": "stdout",
     "output_type": "stream",
     "text": [
      "Rows: 20876\n",
      "Columns: 15\n"
     ]
    }
   ],
   "source": [
    "print(f'Rows: {df1.shape[0]}\\nColumns: {df1.shape[1]}')"
   ]
  },
  {
   "cell_type": "code",
   "execution_count": 10,
   "metadata": {},
   "outputs": [
    {
     "data": {
      "text/html": [
       "<div>\n",
       "<style scoped>\n",
       "    .dataframe tbody tr th:only-of-type {\n",
       "        vertical-align: middle;\n",
       "    }\n",
       "\n",
       "    .dataframe tbody tr th {\n",
       "        vertical-align: top;\n",
       "    }\n",
       "\n",
       "    .dataframe thead th {\n",
       "        text-align: right;\n",
       "    }\n",
       "</style>\n",
       "<table border=\"1\" class=\"dataframe\">\n",
       "  <thead>\n",
       "    <tr style=\"text-align: right;\">\n",
       "      <th></th>\n",
       "      <th>UTC</th>\n",
       "      <th>Temperature[C]</th>\n",
       "      <th>Humidity[%]</th>\n",
       "      <th>TVOC[ppb]</th>\n",
       "      <th>eCO2[ppm]</th>\n",
       "      <th>Raw H2</th>\n",
       "      <th>Raw Ethanol</th>\n",
       "      <th>Pressure[hPa]</th>\n",
       "      <th>PM1.0</th>\n",
       "      <th>PM2.5</th>\n",
       "      <th>NC0.5</th>\n",
       "      <th>NC1.0</th>\n",
       "      <th>NC2.5</th>\n",
       "      <th>CNT</th>\n",
       "      <th>Fire Alarm</th>\n",
       "    </tr>\n",
       "  </thead>\n",
       "  <tbody>\n",
       "    <tr>\n",
       "      <th>11965</th>\n",
       "      <td>1654739552</td>\n",
       "      <td>-7.972</td>\n",
       "      <td>53.96</td>\n",
       "      <td>171</td>\n",
       "      <td>400</td>\n",
       "      <td>13173</td>\n",
       "      <td>20103</td>\n",
       "      <td>939.683</td>\n",
       "      <td>1.08</td>\n",
       "      <td>1.12</td>\n",
       "      <td>7.41</td>\n",
       "      <td>1.156</td>\n",
       "      <td>0.026</td>\n",
       "      <td>6221</td>\n",
       "      <td>1</td>\n",
       "    </tr>\n",
       "    <tr>\n",
       "      <th>9084</th>\n",
       "      <td>1654736671</td>\n",
       "      <td>7.357</td>\n",
       "      <td>59.84</td>\n",
       "      <td>258</td>\n",
       "      <td>400</td>\n",
       "      <td>13149</td>\n",
       "      <td>19954</td>\n",
       "      <td>939.672</td>\n",
       "      <td>2.15</td>\n",
       "      <td>2.23</td>\n",
       "      <td>14.77</td>\n",
       "      <td>2.303</td>\n",
       "      <td>0.052</td>\n",
       "      <td>3340</td>\n",
       "      <td>1</td>\n",
       "    </tr>\n",
       "    <tr>\n",
       "      <th>15444</th>\n",
       "      <td>1654743031</td>\n",
       "      <td>-4.292</td>\n",
       "      <td>53.61</td>\n",
       "      <td>766</td>\n",
       "      <td>927</td>\n",
       "      <td>12663</td>\n",
       "      <td>19537</td>\n",
       "      <td>939.154</td>\n",
       "      <td>2.51</td>\n",
       "      <td>2.61</td>\n",
       "      <td>17.27</td>\n",
       "      <td>2.694</td>\n",
       "      <td>0.061</td>\n",
       "      <td>9700</td>\n",
       "      <td>1</td>\n",
       "    </tr>\n",
       "    <tr>\n",
       "      <th>8390</th>\n",
       "      <td>1654735977</td>\n",
       "      <td>15.875</td>\n",
       "      <td>53.01</td>\n",
       "      <td>74</td>\n",
       "      <td>400</td>\n",
       "      <td>13195</td>\n",
       "      <td>20103</td>\n",
       "      <td>939.647</td>\n",
       "      <td>1.18</td>\n",
       "      <td>1.23</td>\n",
       "      <td>8.12</td>\n",
       "      <td>1.266</td>\n",
       "      <td>0.029</td>\n",
       "      <td>2646</td>\n",
       "      <td>0</td>\n",
       "    </tr>\n",
       "    <tr>\n",
       "      <th>17819</th>\n",
       "      <td>1654745406</td>\n",
       "      <td>17.362</td>\n",
       "      <td>47.78</td>\n",
       "      <td>1015</td>\n",
       "      <td>574</td>\n",
       "      <td>12826</td>\n",
       "      <td>19472</td>\n",
       "      <td>939.001</td>\n",
       "      <td>1.93</td>\n",
       "      <td>2.01</td>\n",
       "      <td>13.29</td>\n",
       "      <td>2.073</td>\n",
       "      <td>0.047</td>\n",
       "      <td>12075</td>\n",
       "      <td>1</td>\n",
       "    </tr>\n",
       "  </tbody>\n",
       "</table>\n",
       "</div>"
      ],
      "text/plain": [
       "              UTC  Temperature[C]  Humidity[%]  TVOC[ppb]  eCO2[ppm]  Raw H2  \\\n",
       "11965  1654739552          -7.972        53.96        171        400   13173   \n",
       "9084   1654736671           7.357        59.84        258        400   13149   \n",
       "15444  1654743031          -4.292        53.61        766        927   12663   \n",
       "8390   1654735977          15.875        53.01         74        400   13195   \n",
       "17819  1654745406          17.362        47.78       1015        574   12826   \n",
       "\n",
       "       Raw Ethanol  Pressure[hPa]  PM1.0  PM2.5  NC0.5  NC1.0  NC2.5    CNT  \\\n",
       "11965        20103        939.683   1.08   1.12   7.41  1.156  0.026   6221   \n",
       "9084         19954        939.672   2.15   2.23  14.77  2.303  0.052   3340   \n",
       "15444        19537        939.154   2.51   2.61  17.27  2.694  0.061   9700   \n",
       "8390         20103        939.647   1.18   1.23   8.12  1.266  0.029   2646   \n",
       "17819        19472        939.001   1.93   2.01  13.29  2.073  0.047  12075   \n",
       "\n",
       "       Fire Alarm  \n",
       "11965           1  \n",
       "9084            1  \n",
       "15444           1  \n",
       "8390            0  \n",
       "17819           1  "
      ]
     },
     "execution_count": 10,
     "metadata": {},
     "output_type": "execute_result"
    }
   ],
   "source": [
    "# first look at the data\n",
    "df1.sample(5)"
   ]
  },
  {
   "cell_type": "code",
   "execution_count": 11,
   "metadata": {},
   "outputs": [
    {
     "data": {
      "text/html": [
       "<div>\n",
       "<style scoped>\n",
       "    .dataframe tbody tr th:only-of-type {\n",
       "        vertical-align: middle;\n",
       "    }\n",
       "\n",
       "    .dataframe tbody tr th {\n",
       "        vertical-align: top;\n",
       "    }\n",
       "\n",
       "    .dataframe thead th {\n",
       "        text-align: right;\n",
       "    }\n",
       "</style>\n",
       "<table border=\"1\" class=\"dataframe\">\n",
       "  <thead>\n",
       "    <tr style=\"text-align: right;\">\n",
       "      <th></th>\n",
       "      <th>dtype</th>\n",
       "      <th>count</th>\n",
       "      <th>mean</th>\n",
       "      <th>std</th>\n",
       "      <th>min</th>\n",
       "      <th>25%</th>\n",
       "      <th>50%</th>\n",
       "      <th>75%</th>\n",
       "      <th>max</th>\n",
       "      <th>nulls</th>\n",
       "      <th>empty strings</th>\n",
       "    </tr>\n",
       "  </thead>\n",
       "  <tbody>\n",
       "    <tr>\n",
       "      <th>UTC</th>\n",
       "      <td>int64</td>\n",
       "      <td>20876.0</td>\n",
       "      <td>1.654734e+09</td>\n",
       "      <td>12154.941397</td>\n",
       "      <td>1.654712e+09</td>\n",
       "      <td>1.654717e+09</td>\n",
       "      <td>1.654738e+09</td>\n",
       "      <td>1.654743e+09</td>\n",
       "      <td>1.654748e+09</td>\n",
       "      <td>0</td>\n",
       "      <td>0</td>\n",
       "    </tr>\n",
       "    <tr>\n",
       "      <th>Temperature[C]</th>\n",
       "      <td>float64</td>\n",
       "      <td>20876.0</td>\n",
       "      <td>1.445650e+01</td>\n",
       "      <td>16.777181</td>\n",
       "      <td>-9.276000e+00</td>\n",
       "      <td>-4.094000e+00</td>\n",
       "      <td>1.693150e+01</td>\n",
       "      <td>2.637800e+01</td>\n",
       "      <td>5.993000e+01</td>\n",
       "      <td>0</td>\n",
       "      <td>0</td>\n",
       "    </tr>\n",
       "    <tr>\n",
       "      <th>Humidity[%]</th>\n",
       "      <td>float64</td>\n",
       "      <td>20876.0</td>\n",
       "      <td>4.826455e+01</td>\n",
       "      <td>9.486005</td>\n",
       "      <td>1.074000e+01</td>\n",
       "      <td>4.700000e+01</td>\n",
       "      <td>5.015000e+01</td>\n",
       "      <td>5.336000e+01</td>\n",
       "      <td>7.520000e+01</td>\n",
       "      <td>0</td>\n",
       "      <td>0</td>\n",
       "    </tr>\n",
       "    <tr>\n",
       "      <th>TVOC[ppb]</th>\n",
       "      <td>int64</td>\n",
       "      <td>20876.0</td>\n",
       "      <td>2.311279e+03</td>\n",
       "      <td>9539.882264</td>\n",
       "      <td>0.000000e+00</td>\n",
       "      <td>6.700000e+01</td>\n",
       "      <td>2.220000e+02</td>\n",
       "      <td>1.027000e+03</td>\n",
       "      <td>6.000000e+04</td>\n",
       "      <td>0</td>\n",
       "      <td>0</td>\n",
       "    </tr>\n",
       "    <tr>\n",
       "      <th>eCO2[ppm]</th>\n",
       "      <td>int64</td>\n",
       "      <td>20876.0</td>\n",
       "      <td>6.927393e+02</td>\n",
       "      <td>1925.904927</td>\n",
       "      <td>4.000000e+02</td>\n",
       "      <td>4.000000e+02</td>\n",
       "      <td>4.000000e+02</td>\n",
       "      <td>5.090000e+02</td>\n",
       "      <td>3.918500e+04</td>\n",
       "      <td>0</td>\n",
       "      <td>0</td>\n",
       "    </tr>\n",
       "    <tr>\n",
       "      <th>Raw H2</th>\n",
       "      <td>int64</td>\n",
       "      <td>20876.0</td>\n",
       "      <td>1.295284e+04</td>\n",
       "      <td>318.702438</td>\n",
       "      <td>1.066800e+04</td>\n",
       "      <td>1.279400e+04</td>\n",
       "      <td>1.286800e+04</td>\n",
       "      <td>1.315100e+04</td>\n",
       "      <td>1.380300e+04</td>\n",
       "      <td>0</td>\n",
       "      <td>0</td>\n",
       "    </tr>\n",
       "    <tr>\n",
       "      <th>Raw Ethanol</th>\n",
       "      <td>int64</td>\n",
       "      <td>20876.0</td>\n",
       "      <td>1.990383e+04</td>\n",
       "      <td>683.249922</td>\n",
       "      <td>1.531700e+04</td>\n",
       "      <td>1.948400e+04</td>\n",
       "      <td>1.997600e+04</td>\n",
       "      <td>2.019125e+04</td>\n",
       "      <td>2.141000e+04</td>\n",
       "      <td>0</td>\n",
       "      <td>0</td>\n",
       "    </tr>\n",
       "    <tr>\n",
       "      <th>Pressure[hPa]</th>\n",
       "      <td>float64</td>\n",
       "      <td>20876.0</td>\n",
       "      <td>9.387859e+02</td>\n",
       "      <td>1.004823</td>\n",
       "      <td>9.366240e+02</td>\n",
       "      <td>9.375470e+02</td>\n",
       "      <td>9.390970e+02</td>\n",
       "      <td>9.396340e+02</td>\n",
       "      <td>9.398610e+02</td>\n",
       "      <td>0</td>\n",
       "      <td>0</td>\n",
       "    </tr>\n",
       "    <tr>\n",
       "      <th>PM1.0</th>\n",
       "      <td>float64</td>\n",
       "      <td>20876.0</td>\n",
       "      <td>1.130871e+02</td>\n",
       "      <td>950.738240</td>\n",
       "      <td>0.000000e+00</td>\n",
       "      <td>7.600000e-01</td>\n",
       "      <td>1.820000e+00</td>\n",
       "      <td>2.160000e+00</td>\n",
       "      <td>1.334669e+04</td>\n",
       "      <td>0</td>\n",
       "      <td>0</td>\n",
       "    </tr>\n",
       "    <tr>\n",
       "      <th>PM2.5</th>\n",
       "      <td>float64</td>\n",
       "      <td>20876.0</td>\n",
       "      <td>1.936200e+02</td>\n",
       "      <td>1864.035040</td>\n",
       "      <td>0.000000e+00</td>\n",
       "      <td>8.000000e-01</td>\n",
       "      <td>1.890000e+00</td>\n",
       "      <td>2.240000e+00</td>\n",
       "      <td>4.126298e+04</td>\n",
       "      <td>0</td>\n",
       "      <td>0</td>\n",
       "    </tr>\n",
       "    <tr>\n",
       "      <th>NC0.5</th>\n",
       "      <td>float64</td>\n",
       "      <td>20876.0</td>\n",
       "      <td>5.870627e+02</td>\n",
       "      <td>4728.450840</td>\n",
       "      <td>0.000000e+00</td>\n",
       "      <td>5.230000e+00</td>\n",
       "      <td>1.251000e+01</td>\n",
       "      <td>1.485000e+01</td>\n",
       "      <td>6.148203e+04</td>\n",
       "      <td>0</td>\n",
       "      <td>0</td>\n",
       "    </tr>\n",
       "    <tr>\n",
       "      <th>NC1.0</th>\n",
       "      <td>float64</td>\n",
       "      <td>20876.0</td>\n",
       "      <td>2.124171e+02</td>\n",
       "      <td>2075.544762</td>\n",
       "      <td>0.000000e+00</td>\n",
       "      <td>8.230000e-01</td>\n",
       "      <td>1.952000e+00</td>\n",
       "      <td>2.316000e+00</td>\n",
       "      <td>4.708960e+04</td>\n",
       "      <td>0</td>\n",
       "      <td>0</td>\n",
       "    </tr>\n",
       "    <tr>\n",
       "      <th>NC2.5</th>\n",
       "      <td>float64</td>\n",
       "      <td>20876.0</td>\n",
       "      <td>7.663674e+01</td>\n",
       "      <td>950.600013</td>\n",
       "      <td>0.000000e+00</td>\n",
       "      <td>2.000000e-02</td>\n",
       "      <td>4.400000e-02</td>\n",
       "      <td>5.300000e-02</td>\n",
       "      <td>2.691684e+04</td>\n",
       "      <td>0</td>\n",
       "      <td>0</td>\n",
       "    </tr>\n",
       "    <tr>\n",
       "      <th>CNT</th>\n",
       "      <td>int64</td>\n",
       "      <td>20876.0</td>\n",
       "      <td>6.273953e+03</td>\n",
       "      <td>4356.956119</td>\n",
       "      <td>0.000000e+00</td>\n",
       "      <td>2.609000e+03</td>\n",
       "      <td>5.218500e+03</td>\n",
       "      <td>9.912250e+03</td>\n",
       "      <td>1.513100e+04</td>\n",
       "      <td>0</td>\n",
       "      <td>0</td>\n",
       "    </tr>\n",
       "    <tr>\n",
       "      <th>Fire Alarm</th>\n",
       "      <td>int64</td>\n",
       "      <td>20876.0</td>\n",
       "      <td>5.727151e-01</td>\n",
       "      <td>0.494696</td>\n",
       "      <td>0.000000e+00</td>\n",
       "      <td>0.000000e+00</td>\n",
       "      <td>1.000000e+00</td>\n",
       "      <td>1.000000e+00</td>\n",
       "      <td>1.000000e+00</td>\n",
       "      <td>0</td>\n",
       "      <td>0</td>\n",
       "    </tr>\n",
       "  </tbody>\n",
       "</table>\n",
       "</div>"
      ],
      "text/plain": [
       "                  dtype    count          mean           std           min  \\\n",
       "UTC               int64  20876.0  1.654734e+09  12154.941397  1.654712e+09   \n",
       "Temperature[C]  float64  20876.0  1.445650e+01     16.777181 -9.276000e+00   \n",
       "Humidity[%]     float64  20876.0  4.826455e+01      9.486005  1.074000e+01   \n",
       "TVOC[ppb]         int64  20876.0  2.311279e+03   9539.882264  0.000000e+00   \n",
       "eCO2[ppm]         int64  20876.0  6.927393e+02   1925.904927  4.000000e+02   \n",
       "Raw H2            int64  20876.0  1.295284e+04    318.702438  1.066800e+04   \n",
       "Raw Ethanol       int64  20876.0  1.990383e+04    683.249922  1.531700e+04   \n",
       "Pressure[hPa]   float64  20876.0  9.387859e+02      1.004823  9.366240e+02   \n",
       "PM1.0           float64  20876.0  1.130871e+02    950.738240  0.000000e+00   \n",
       "PM2.5           float64  20876.0  1.936200e+02   1864.035040  0.000000e+00   \n",
       "NC0.5           float64  20876.0  5.870627e+02   4728.450840  0.000000e+00   \n",
       "NC1.0           float64  20876.0  2.124171e+02   2075.544762  0.000000e+00   \n",
       "NC2.5           float64  20876.0  7.663674e+01    950.600013  0.000000e+00   \n",
       "CNT               int64  20876.0  6.273953e+03   4356.956119  0.000000e+00   \n",
       "Fire Alarm        int64  20876.0  5.727151e-01      0.494696  0.000000e+00   \n",
       "\n",
       "                         25%           50%           75%           max  nulls  \\\n",
       "UTC             1.654717e+09  1.654738e+09  1.654743e+09  1.654748e+09      0   \n",
       "Temperature[C] -4.094000e+00  1.693150e+01  2.637800e+01  5.993000e+01      0   \n",
       "Humidity[%]     4.700000e+01  5.015000e+01  5.336000e+01  7.520000e+01      0   \n",
       "TVOC[ppb]       6.700000e+01  2.220000e+02  1.027000e+03  6.000000e+04      0   \n",
       "eCO2[ppm]       4.000000e+02  4.000000e+02  5.090000e+02  3.918500e+04      0   \n",
       "Raw H2          1.279400e+04  1.286800e+04  1.315100e+04  1.380300e+04      0   \n",
       "Raw Ethanol     1.948400e+04  1.997600e+04  2.019125e+04  2.141000e+04      0   \n",
       "Pressure[hPa]   9.375470e+02  9.390970e+02  9.396340e+02  9.398610e+02      0   \n",
       "PM1.0           7.600000e-01  1.820000e+00  2.160000e+00  1.334669e+04      0   \n",
       "PM2.5           8.000000e-01  1.890000e+00  2.240000e+00  4.126298e+04      0   \n",
       "NC0.5           5.230000e+00  1.251000e+01  1.485000e+01  6.148203e+04      0   \n",
       "NC1.0           8.230000e-01  1.952000e+00  2.316000e+00  4.708960e+04      0   \n",
       "NC2.5           2.000000e-02  4.400000e-02  5.300000e-02  2.691684e+04      0   \n",
       "CNT             2.609000e+03  5.218500e+03  9.912250e+03  1.513100e+04      0   \n",
       "Fire Alarm      0.000000e+00  1.000000e+00  1.000000e+00  1.000000e+00      0   \n",
       "\n",
       "                empty strings  \n",
       "UTC                         0  \n",
       "Temperature[C]              0  \n",
       "Humidity[%]                 0  \n",
       "TVOC[ppb]                   0  \n",
       "eCO2[ppm]                   0  \n",
       "Raw H2                      0  \n",
       "Raw Ethanol                 0  \n",
       "Pressure[hPa]               0  \n",
       "PM1.0                       0  \n",
       "PM2.5                       0  \n",
       "NC0.5                       0  \n",
       "NC1.0                       0  \n",
       "NC2.5                       0  \n",
       "CNT                         0  \n",
       "Fire Alarm                  0  "
      ]
     },
     "execution_count": 11,
     "metadata": {},
     "output_type": "execute_result"
    }
   ],
   "source": [
    "# descriptive statistics, data types and missing values\n",
    "def dataset_infos(dataframe: pd.DataFrame = dataframe) -> pd.DataFrame:\n",
    "    # descriptive statistics\n",
    "    descriptives = dataframe.describe(include='all').T\n",
    "\n",
    "    # data types column\n",
    "    descriptives.insert(loc=0, column='dtype', value=dataframe.dtypes)\n",
    "    \n",
    "    # missing values\n",
    "    missing = pd.concat([dataframe.isnull().sum(), dataframe.eq('').sum()], keys=['nulls','empty strings'], axis=1)\n",
    "    \n",
    "    return pd.merge(descriptives, missing, left_index=True, right_index=True)\n",
    "\n",
    "dataset_infos(df1)"
   ]
  },
  {
   "cell_type": "code",
   "execution_count": 12,
   "metadata": {},
   "outputs": [
    {
     "name": "stdout",
     "output_type": "stream",
     "text": [
      "Duplicated Rows: 0\n"
     ]
    }
   ],
   "source": [
    "# duplicate rows\n",
    "print(f'Duplicated Rows: {df1.duplicated().sum()}')"
   ]
  },
  {
   "cell_type": "code",
   "execution_count": 13,
   "metadata": {},
   "outputs": [
    {
     "data": {
      "image/png": "[encoded data removed]",
      "text/plain": [
       "<Figure size 1000x500 with 1 Axes>"
      ]
     },
     "metadata": {},
     "output_type": "display_data"
    }
   ],
   "source": [
    "# plot target distribution (pie chart)\n",
    "def plot_target_distribution(dataframe: pd.DataFrame = dataframe, target='Fire Alarm'):\n",
    "    plt.figure(figsize=(10,5))\n",
    "    plt.pie(dataframe[target].value_counts(), labels=dataframe[target].value_counts().index, autopct='%1.1f%%', startangle=90)\n",
    "    plt.title('Target Distribution')\n",
    "    plt.legend()\n",
    "    plt.show()\n",
    "\n",
    "plot_target_distribution(df1)"
   ]
  },
  {
   "attachments": {},
   "cell_type": "markdown",
   "metadata": {},
   "source": [
    "# Preprocessing"
   ]
  },
  {
   "cell_type": "code",
   "execution_count": 14,
   "metadata": {},
   "outputs": [],
   "source": [
    "x, y = df1.drop(columns=['Fire Alarm']), df1['Fire Alarm']"
   ]
  },
  {
   "cell_type": "code",
   "execution_count": 15,
   "metadata": {},
   "outputs": [],
   "source": [
    "xtrain, xtest, ytrain, ytest = train_test_split(x, y, test_size=0.2, stratify=y,random_state=420)"
   ]
  },
  {
   "cell_type": "code",
   "execution_count": 16,
   "metadata": {},
   "outputs": [],
   "source": [
    "def preprocessing(data: pd.DataFrame) -> pd.DataFrame:\n",
    "  '''\n",
    "  Preprocessing function\n",
    "  Input: dataframe\n",
    "  Output: transformed data\n",
    "  '''\n",
    "\n",
    "  run_name = \"Preprocessing Pipeline\"\n",
    "\n",
    "  # preprocessing pipeline\n",
    "  pipeline = Pipeline([\n",
    "    ('imputer', SimpleImputer(strategy='median')),\n",
    "    ('scaler', StandardScaler())\n",
    "    ])\n",
    "    \n",
    "  # Search for preprocessing run\n",
    "  run = mlflow.search_runs(experiment_ids=experiment_id, filter_string=f\"tags.mlflow.runName = '{run_name}'\")\n",
    "  # get run id\n",
    "  run_id = run.iloc[0].run_id if not run.empty else None\n",
    "\n",
    "  # if preprocessing-run does not exist\n",
    "  if run.empty:\n",
    "    # fit & transform pipeline\n",
    "    data_preprocessed = pipeline.fit_transform(data)\n",
    "    # start run\n",
    "    with mlflow.start_run(run_name=run_name) as run:\n",
    "      # log pipeline\n",
    "      mlflow.sklearn.log_model(pipeline, 'PreprocessingPipeline')\n",
    "      # end run\n",
    "      mlflow.end_run()\n",
    "    \n",
    "  # if preprocessing-run exists\n",
    "  else:\n",
    "    # load pipeline\n",
    "    pipeline = mlflow.sklearn.load_model(f'runs:/{run_id}/PreprocessingPipeline')\n",
    "    # transform data\n",
    "    data_preprocessed = pipeline.transform(data)\n",
    "    \n",
    "  return data_preprocessed"
   ]
  },
  {
   "cell_type": "code",
   "execution_count": 17,
   "metadata": {},
   "outputs": [
    {
     "name": "stderr",
     "output_type": "stream",
     "text": [
      "2023/05/25 13:18:27 WARNING mlflow.sklearn: Model was missing function: predict. Not logging python_function flavor!\n"
     ]
    }
   ],
   "source": [
    "# preprocess training data\n",
    "xtrain_prepro = preprocessing(xtrain)"
   ]
  },
  {
   "cell_type": "code",
   "execution_count": 18,
   "metadata": {},
   "outputs": [],
   "source": [
    "# preprocess test data\n",
    "xtest_prepro = preprocessing(xtest)"
   ]
  },
  {
   "attachments": {},
   "cell_type": "markdown",
   "metadata": {},
   "source": [
    "# Modelling"
   ]
  },
  {
   "attachments": {},
   "cell_type": "markdown",
   "metadata": {},
   "source": [
    "## Training Multiple Classifiers"
   ]
  },
  {
   "cell_type": "code",
   "execution_count": 19,
   "metadata": {},
   "outputs": [],
   "source": [
    "# fit prediction model on train dataset\n",
    "def classifier_comparison(\n",
    "    xtrain: pd.DataFrame = xtrain_prepro,\n",
    "    ytrain: pd.DataFrame = ytrain,\n",
    "    xtest: pd.DataFrame = xtest_prepro,\n",
    "    ytest: pd.DataFrame = ytest,\n",
    "    clf: dict = {\n",
    "        'Logistic Regression': LogisticRegression(random_state=420),\n",
    "        'Decision Tree': DecisionTreeClassifier(random_state=420),\n",
    "        'Random Forest': RandomForestClassifier(random_state=420)\n",
    "        }\n",
    "    ):\n",
    "\n",
    "    run_name = \"Classifier Comparison\"\n",
    "\n",
    "    # start run\n",
    "    with mlflow.start_run(run_name=run_name) as run:\n",
    "        # build plot\n",
    "        fig, ax = plt.subplots(1, figsize=(10, 7))\n",
    "        # iterate over classifiers\n",
    "        for name, clf in clf.items():\n",
    "            # fit classifier\n",
    "            clf.fit(xtrain, ytrain)\n",
    "            # plot roc curve\n",
    "            RocCurveDisplay.from_estimator(clf, xtest, ytest, ax=ax, name=name)\n",
    "        ax.set_title('Receiver Operating Characteristic (ROC)')\n",
    "        ax.plot([0,1], [0,1], linestyle='--')\n",
    "        # save plot\n",
    "        plt.savefig('Plots/ROC Curves.png')\n",
    "        # log plot\n",
    "        mlflow.log_figure(fig, 'Plots/ROC Curves.png')\n",
    "        # end run\n",
    "        mlflow.end_run()\n",
    "    \n",
    "    return plt.show()\n"
   ]
  },
  {
   "cell_type": "code",
   "execution_count": 20,
   "metadata": {},
   "outputs": [
    {
     "data": {
      "image/png": "[encoded data removed]",
      "text/plain": [
       "<Figure size 1000x700 with 1 Axes>"
      ]
     },
     "metadata": {},
     "output_type": "display_data"
    }
   ],
   "source": [
    "classifier_comparison(xtrain=xtrain_prepro, ytrain=ytrain, xtest=xtest_prepro, ytest=ytest)"
   ]
  },
  {
   "attachments": {},
   "cell_type": "markdown",
   "metadata": {},
   "source": [
    "## GridSearchCV"
   ]
  },
  {
   "cell_type": "code",
   "execution_count": 21,
   "metadata": {},
   "outputs": [],
   "source": [
    "def grid_search(\n",
    "    xtrain: pd.DataFrame = xtrain_prepro,\n",
    "    ytrain: pd.DataFrame = ytrain,\n",
    "    xtest: pd.DataFrame = xtest_prepro,\n",
    "    ytest: pd.DataFrame = ytest,\n",
    "    clf = RandomForestClassifier(random_state=420),\n",
    "    param_grid: dict = {\n",
    "        'n_estimators': [100, 200, 300, 400, 500],\n",
    "        'max_depth': [3, 4, 5, 6, 7, 8, 9, 10]\n",
    "        }\n",
    "    ):\n",
    "\n",
    "    # run name\n",
    "    clf_name = str(clf).split(\"(\")[0]\n",
    "    run_name = f\"Grid Search - {clf_name}\"\n",
    "\n",
    "    # start run\n",
    "    with mlflow.start_run(run_name=run_name) as run:\n",
    "        # initialize grid search\n",
    "        grid = GridSearchCV(clf, param_grid, cv=5, scoring='f1', n_jobs=-1)\n",
    "        # fit grid search\n",
    "        grid.fit(xtrain, ytrain)\n",
    "        # predict on test data\n",
    "        ypred = grid.predict(xtest)\n",
    "        # log model accuracy\n",
    "        mlflow.log_metric(f'grid_search_accuracy', accuracy_score(ytest, ypred))\n",
    "        # log model precision\n",
    "        mlflow.log_metric(f'grid_search_precision', precision_score(ytest, ypred))\n",
    "        # log model recall\n",
    "        mlflow.log_metric(f'grid_search_recall', recall_score(ytest, ypred))\n",
    "        # log model f1-score\n",
    "        mlflow.log_metric(f'grid_search_f1_score', f1_score(ytest, ypred))\n",
    "        # log model\n",
    "        mlflow.sklearn.log_model(grid, f'GridSearch_{clf_name}')\n",
    "        # log best parameters\n",
    "        mlflow.log_param('best_params', grid.best_params_)\n",
    "        # print classification report\n",
    "        print(f'Classification Report:\\n\\n{classification_report(ytest, ypred)}\\n\\n')\n",
    "        # end run\n",
    "        mlflow.end_run()"
   ]
  },
  {
   "cell_type": "code",
   "execution_count": 22,
   "metadata": {},
   "outputs": [
    {
     "name": "stdout",
     "output_type": "stream",
     "text": [
      "Classification Report:\n",
      "\n",
      "              precision    recall  f1-score   support\n",
      "\n",
      "           0       1.00      1.00      1.00      1784\n",
      "           1       1.00      1.00      1.00      2392\n",
      "\n",
      "    accuracy                           1.00      4176\n",
      "   macro avg       1.00      1.00      1.00      4176\n",
      "weighted avg       1.00      1.00      1.00      4176\n",
      "\n",
      "\n",
      "\n"
     ]
    }
   ],
   "source": [
    "# logistic regression grid_params\n",
    "grid_params = {\n",
    "    'penalty': ['l1', 'l2'],\n",
    "    'C': [0.001, 0.01, 0.1, 1, 10, 100, 1000]\n",
    "    }\n",
    "\n",
    "grid_search(xtrain=xtrain_prepro, ytrain=ytrain, xtest=xtest_prepro, ytest=ytest, clf=LogisticRegression(random_state=420), param_grid=grid_params)"
   ]
  },
  {
   "cell_type": "code",
   "execution_count": 23,
   "metadata": {},
   "outputs": [
    {
     "name": "stdout",
     "output_type": "stream",
     "text": [
      "Classification Report:\n",
      "\n",
      "              precision    recall  f1-score   support\n",
      "\n",
      "           0       1.00      1.00      1.00      1784\n",
      "           1       1.00      1.00      1.00      2392\n",
      "\n",
      "    accuracy                           1.00      4176\n",
      "   macro avg       1.00      1.00      1.00      4176\n",
      "weighted avg       1.00      1.00      1.00      4176\n",
      "\n",
      "\n",
      "\n"
     ]
    }
   ],
   "source": [
    "# decision tree grid_params\n",
    "grid_params = {\n",
    "    'max_depth': [3, 4, 5, 6, 7, 8, 9, 10],\n",
    "    'min_samples_split': [2, 3, 4, 5, 6, 7, 8, 9, 10]\n",
    "    }\n",
    "\n",
    "grid_search(xtrain=xtrain_prepro, ytrain=ytrain, xtest=xtest_prepro, ytest=ytest, clf=DecisionTreeClassifier(random_state=420), param_grid=grid_params)"
   ]
  },
  {
   "cell_type": "code",
   "execution_count": 24,
   "metadata": {},
   "outputs": [
    {
     "name": "stdout",
     "output_type": "stream",
     "text": [
      "Classification Report:\n",
      "\n",
      "              precision    recall  f1-score   support\n",
      "\n",
      "           0       1.00      1.00      1.00      1784\n",
      "           1       1.00      1.00      1.00      2392\n",
      "\n",
      "    accuracy                           1.00      4176\n",
      "   macro avg       1.00      1.00      1.00      4176\n",
      "weighted avg       1.00      1.00      1.00      4176\n",
      "\n",
      "\n",
      "\n"
     ]
    }
   ],
   "source": [
    "grid_search(xtrain=xtrain_prepro, ytrain=ytrain, xtest=xtest_prepro, ytest=ytest, clf=RandomForestClassifier(random_state=420))"
   ]
  },
  {
   "attachments": {},
   "cell_type": "markdown",
   "metadata": {},
   "source": [
    "## Train Model with GridSearchCV-Parameters and all Training Data"
   ]
  },
  {
   "cell_type": "code",
   "execution_count": 25,
   "metadata": {},
   "outputs": [],
   "source": [
    "def training(x: pd.DataFrame, y: pd.DataFrame, clf = RandomForestClassifier(random_state=420)):\n",
    "    \n",
    "    # run name\n",
    "    clf_name = str(clf).split(\"(\")[0]\n",
    "    run_name = f\"Trained Model - {clf_name}\"\n",
    "\n",
    "    # check if grid search run exists\n",
    "    model_grid_search = f\"Grid Search - {clf_name}\"\n",
    "\n",
    "    # Search for grid search run\n",
    "    run = mlflow.search_runs(experiment_ids=experiment_id, filter_string=f\"tags.mlflow.runName = '{model_grid_search}'\")\n",
    "    \n",
    "    # if grid search run does not exist\n",
    "    if run.empty:\n",
    "        print(f'No grid search run found for {clf_name}...')\n",
    "        print('Model logged with default parameters...')\n",
    "        # initialize default model\n",
    "        model = clf\n",
    "    # if grid search run exists\n",
    "    else:\n",
    "        print(f'Grid search run found for {clf_name}...')\n",
    "        print('Model logged with optimal parameters...')\n",
    "    # get grid search parameters\n",
    "        grid_params = ast.literal_eval(run.iloc[0]['params.best_params'])\n",
    "        # initialize model\n",
    "        model = clf.set_params(**grid_params)\n",
    "\n",
    "    # start run\n",
    "    with mlflow.start_run(run_name=run_name) as run:\n",
    "        # fit model\n",
    "        model.fit(x, y)\n",
    "        # log model\n",
    "        mlflow.sklearn.log_model(model, 'model')\n",
    "        # end run\n",
    "        mlflow.end_run()"
   ]
  },
  {
   "cell_type": "code",
   "execution_count": 26,
   "metadata": {},
   "outputs": [],
   "source": [
    "# combine training and test data\n",
    "x = np.concatenate((xtrain_prepro, xtest_prepro), axis=0)\n",
    "y = np.concatenate((ytrain, ytest), axis=0)"
   ]
  },
  {
   "cell_type": "code",
   "execution_count": 27,
   "metadata": {},
   "outputs": [
    {
     "name": "stdout",
     "output_type": "stream",
     "text": [
      "Grid search run found for LogisticRegression...\n",
      "Model logged with optimal parameters...\n"
     ]
    }
   ],
   "source": [
    "training(x, y, clf=LogisticRegression(random_state=420))"
   ]
  },
  {
   "cell_type": "code",
   "execution_count": 28,
   "metadata": {},
   "outputs": [
    {
     "name": "stdout",
     "output_type": "stream",
     "text": [
      "Grid search run found for DecisionTreeClassifier...\n",
      "Model logged with optimal parameters...\n"
     ]
    }
   ],
   "source": [
    "training(x, y, clf=DecisionTreeClassifier(random_state=420))"
   ]
  },
  {
   "cell_type": "code",
   "execution_count": 29,
   "metadata": {},
   "outputs": [
    {
     "name": "stdout",
     "output_type": "stream",
     "text": [
      "Grid search run found for RandomForestClassifier...\n",
      "Model logged with optimal parameters...\n"
     ]
    }
   ],
   "source": [
    "training(x, y, clf=RandomForestClassifier(random_state=420))"
   ]
  },
  {
   "attachments": {},
   "cell_type": "markdown",
   "metadata": {},
   "source": [
    "## Prediction"
   ]
  },
  {
   "cell_type": "code",
   "execution_count": 30,
   "metadata": {},
   "outputs": [],
   "source": [
    "def predict_new_data(x, y, clf = RandomForestClassifier(random_state=420)):\n",
    "\n",
    "    # get dataframe name\n",
    "    dataframe_name = [i for i in globals() if globals()[i] is x][0]\n",
    "\n",
    "    # run name\n",
    "    clf_name = str(clf).split(\"(\")[0]\n",
    "    run_name = f\"{clf_name} Prediction - {dataframe_name}\"\n",
    "\n",
    "    # check if classifier already got trained\n",
    "    trained_model_search = f\"Trained Model - {clf_name}\"\n",
    "\n",
    "    # search run\n",
    "    run = mlflow.search_runs(experiment_ids=experiment_id, filter_string=f\"tags.mlflow.runName = '{trained_model_search}'\")\n",
    "    \n",
    "    # if no trained model found\n",
    "    if run.empty:\n",
    "        print(f'No trained model found for {clf_name}...')\n",
    "    # if trained model found\n",
    "    else:\n",
    "        print(f'Trained model found for {clf_name}...')\n",
    "        # get run id\n",
    "        run_id = run.iloc[0].run_id if not run.empty else None\n",
    "        # load model (optimal)\n",
    "        model = mlflow.sklearn.load_model(f'runs:/{run_id}/model')\n",
    "\n",
    "    # start run\n",
    "    with mlflow.start_run(run_name=run_name) as run:\n",
    "        # predict on new data\n",
    "        ypred = model.predict(x)\n",
    "        # log model accuracy\n",
    "        mlflow.log_metric(f'{dataframe_name}_accuracy', accuracy_score(y, ypred))\n",
    "        # log model precision\n",
    "        mlflow.log_metric(f'{dataframe_name}_precision', precision_score(y, ypred))\n",
    "        # log model recall\n",
    "        mlflow.log_metric(f'{dataframe_name}_recall', recall_score(y, ypred))\n",
    "        # log model f1-score\n",
    "        mlflow.log_metric(f'{dataframe_name}_f1_score', f1_score(y, ypred))\n",
    "        # log parameters\n",
    "        mlflow.log_param(f'{dataframe_name}_params', model.get_params())\n",
    "        # log model\n",
    "        mlflow.sklearn.log_model(model, f'{dataframe_name}_model')\n",
    "        # print classification report\n",
    "        print(f'Classification Report:\\n\\n{classification_report(y, ypred)}\\n\\n')\n",
    "        # end run\n",
    "        mlflow.end_run()"
   ]
  },
  {
   "attachments": {},
   "cell_type": "markdown",
   "metadata": {},
   "source": [
    "# Great Expectations"
   ]
  },
  {
   "cell_type": "code",
   "execution_count": 31,
   "metadata": {},
   "outputs": [],
   "source": [
    "def great_expectations(check_dataframe, initial_dataframe=df1):\n",
    "\n",
    "    initial_df = gx.dataset.PandasDataset(initial_dataframe)\n",
    "    check_df = gx.dataset.PandasDataset(check_dataframe)\n",
    "    \n",
    "    # get column names from initial dataframe\n",
    "    gx_columns = initial_df.get_table_columns()\n",
    "    # get dtypes from initial dataframe\n",
    "    gx_dtypes = initial_df.dtypes.apply(lambda x: str(x)).to_dict()\n",
    "\n",
    "    # check if column are the same in all dataframes\n",
    "    column_check = check_df.expect_table_columns_to_match_ordered_list(column_list=gx_columns)\n",
    "    if column_check['success']:\n",
    "        print('Columns Check: ', colored('OK', 'green'))\n",
    "    else:\n",
    "        print('Columns Check: ', colored('Failed', 'red'))\n",
    "\n",
    "    # check if dtypes are the same in all dataframes\n",
    "    check_set = set()\n",
    "    for col, data_type in gx_dtypes.items():\n",
    "        datatype_check = check_df.expect_column_values_to_be_of_type(column=col, type_=data_type)\n",
    "        check_set.add(datatype_check['success'])\n",
    "    if all(check_set) == True:\n",
    "        print('Datatype Check: ', colored('OK', 'green'))\n",
    "    else:\n",
    "        print('Datatype Check: ', colored('Failed', 'red'))\n",
    "\n",
    "    # check if dataframe has missing values\n",
    "    check_set = set()\n",
    "    for col in gx_columns:\n",
    "        missing_values_check = check_df.expect_column_values_to_not_be_null(column=col)\n",
    "        check_set.add(missing_values_check['success'])\n",
    "    if all(check_set) == True:\n",
    "        print('Missing Values Check: ', colored('OK', 'green'))\n",
    "    else:\n",
    "        print('Missing Values Check: ', colored('Failed', 'red'))\n",
    "\n",
    "    # check if dataframe has duplicates\n",
    "    duplicates_check = check_df.expect_table_row_count_to_be_between(min_value=check_df.shape[0], max_value=check_df.shape[0])\n",
    "    if duplicates_check['success']:\n",
    "        print('Duplicates Check: ', colored('OK', 'green'))\n",
    "    else:\n",
    "        print('Duplicates Check: ', colored('Failed', 'red'))\n",
    "\n",
    "    # check if dataframe distribution is the same as in initial dataframe\n",
    "    check_set = set()\n",
    "    for col in gx_columns:\n",
    "        distribution_check = check_df.expect_column_kl_divergence_to_be_less_than(column=col, partition_object={'values': initial_df[col].value_counts().index.tolist(), 'weights': initial_df[col].value_counts(normalize=True).tolist()}, threshold=0.6)\n",
    "        check_set.add(distribution_check['success'])\n",
    "    if all(check_set) == True:\n",
    "        print('Distribution Check: ', colored('OK', 'green'))\n",
    "    else:\n",
    "        print('Distribution Check: ', colored('Failed', 'red'))\n",
    "\n",
    "    # check if dataframe has outliers\n",
    "    check_set = set()\n",
    "    for col in gx_columns:\n",
    "        outliers_check = check_df.expect_column_values_to_be_between(column=col, min_value=initial_df[col].min(), max_value=initial_df[col].max())\n",
    "        check_set.add(outliers_check['success'])\n",
    "    if all(check_set) == True:\n",
    "        print('Outlier Check: ', colored('OK', 'green'))\n",
    "    else:\n",
    "        print('Outlier Check: ', colored('Failed', 'red'))"
   ]
  },
  {
   "attachments": {},
   "cell_type": "markdown",
   "metadata": {},
   "source": [
    "# Dataset 2"
   ]
  },
  {
   "cell_type": "code",
   "execution_count": 32,
   "metadata": {},
   "outputs": [
    {
     "name": "stdout",
     "output_type": "stream",
     "text": [
      "Columns Check:  \u001b[32mOK\u001b[0m\n",
      "Datatype Check:  \u001b[32mOK\u001b[0m\n",
      "Missing Values Check:  \u001b[32mOK\u001b[0m\n",
      "Duplicates Check:  \u001b[32mOK\u001b[0m\n",
      "Distribution Check:  \u001b[31mFailed\u001b[0m\n",
      "Outlier Check:  \u001b[31mFailed\u001b[0m\n"
     ]
    }
   ],
   "source": [
    "great_expectations(check_dataframe=df2, initial_dataframe=df1)"
   ]
  },
  {
   "cell_type": "code",
   "execution_count": 33,
   "metadata": {},
   "outputs": [],
   "source": [
    "df2_prepro, df2_y = preprocessing(df2.drop(columns=['Fire Alarm'])), df2['Fire Alarm']"
   ]
  },
  {
   "cell_type": "code",
   "execution_count": 34,
   "metadata": {},
   "outputs": [
    {
     "name": "stdout",
     "output_type": "stream",
     "text": [
      "Trained model found for LogisticRegression...\n",
      "Classification Report:\n",
      "\n",
      "              precision    recall  f1-score   support\n",
      "\n",
      "           0       0.39      1.00      0.56      3178\n",
      "           1       1.00      0.71      0.83     17698\n",
      "\n",
      "    accuracy                           0.76     20876\n",
      "   macro avg       0.69      0.86      0.69     20876\n",
      "weighted avg       0.91      0.76      0.79     20876\n",
      "\n",
      "\n",
      "\n"
     ]
    }
   ],
   "source": [
    "predict_new_data(df2_prepro, df2_y, clf=LogisticRegression(random_state=420))"
   ]
  },
  {
   "cell_type": "code",
   "execution_count": 35,
   "metadata": {},
   "outputs": [
    {
     "name": "stdout",
     "output_type": "stream",
     "text": [
      "Trained model found for DecisionTreeClassifier...\n",
      "Classification Report:\n",
      "\n",
      "              precision    recall  f1-score   support\n",
      "\n",
      "           0       0.00      0.00      0.00      3178\n",
      "           1       0.85      1.00      0.92     17698\n",
      "\n",
      "    accuracy                           0.85     20876\n",
      "   macro avg       0.42      0.50      0.46     20876\n",
      "weighted avg       0.72      0.85      0.78     20876\n",
      "\n",
      "\n",
      "\n"
     ]
    }
   ],
   "source": [
    "predict_new_data(df2_prepro, df2_y, clf=DecisionTreeClassifier(random_state=420))"
   ]
  },
  {
   "cell_type": "code",
   "execution_count": 36,
   "metadata": {},
   "outputs": [
    {
     "name": "stdout",
     "output_type": "stream",
     "text": [
      "Trained model found for RandomForestClassifier...\n",
      "Classification Report:\n",
      "\n",
      "              precision    recall  f1-score   support\n",
      "\n",
      "           0       1.00      0.04      0.08      3178\n",
      "           1       0.85      1.00      0.92     17698\n",
      "\n",
      "    accuracy                           0.85     20876\n",
      "   macro avg       0.93      0.52      0.50     20876\n",
      "weighted avg       0.88      0.85      0.79     20876\n",
      "\n",
      "\n",
      "\n"
     ]
    }
   ],
   "source": [
    "predict_new_data(df2_prepro, df2_y, clf=RandomForestClassifier(random_state=420))"
   ]
  },
  {
   "attachments": {},
   "cell_type": "markdown",
   "metadata": {},
   "source": [
    "# Dataset 3"
   ]
  },
  {
   "cell_type": "code",
   "execution_count": 37,
   "metadata": {},
   "outputs": [
    {
     "name": "stdout",
     "output_type": "stream",
     "text": [
      "Columns Check:  \u001b[32mOK\u001b[0m\n",
      "Datatype Check:  \u001b[32mOK\u001b[0m\n",
      "Missing Values Check:  \u001b[32mOK\u001b[0m\n",
      "Duplicates Check:  \u001b[32mOK\u001b[0m\n",
      "Distribution Check:  \u001b[31mFailed\u001b[0m\n",
      "Outlier Check:  \u001b[31mFailed\u001b[0m\n"
     ]
    }
   ],
   "source": [
    "great_expectations(check_dataframe=df3, initial_dataframe=df1)"
   ]
  },
  {
   "cell_type": "code",
   "execution_count": 38,
   "metadata": {},
   "outputs": [],
   "source": [
    "df3_prepro, df3_y = preprocessing(df3.drop(columns=['Fire Alarm'])), df3['Fire Alarm']"
   ]
  },
  {
   "cell_type": "code",
   "execution_count": 39,
   "metadata": {},
   "outputs": [
    {
     "name": "stdout",
     "output_type": "stream",
     "text": [
      "Trained model found for LogisticRegression...\n",
      "Classification Report:\n",
      "\n",
      "              precision    recall  f1-score   support\n",
      "\n",
      "           0       0.71      0.75      0.73      5775\n",
      "           1       0.90      0.88      0.89     15103\n",
      "\n",
      "    accuracy                           0.84     20878\n",
      "   macro avg       0.80      0.82      0.81     20878\n",
      "weighted avg       0.85      0.84      0.85     20878\n",
      "\n",
      "\n",
      "\n"
     ]
    }
   ],
   "source": [
    "predict_new_data(df3_prepro, df3_y, clf=LogisticRegression(random_state=420))"
   ]
  },
  {
   "cell_type": "code",
   "execution_count": 40,
   "metadata": {},
   "outputs": [
    {
     "name": "stdout",
     "output_type": "stream",
     "text": [
      "Trained model found for DecisionTreeClassifier...\n",
      "Classification Report:\n",
      "\n",
      "              precision    recall  f1-score   support\n",
      "\n",
      "           0       0.00      0.00      0.00      5775\n",
      "           1       0.72      1.00      0.84     15103\n",
      "\n",
      "    accuracy                           0.72     20878\n",
      "   macro avg       0.36      0.50      0.42     20878\n",
      "weighted avg       0.52      0.72      0.61     20878\n",
      "\n",
      "\n",
      "\n"
     ]
    }
   ],
   "source": [
    "predict_new_data(df3_prepro, df3_y, clf=DecisionTreeClassifier(random_state=420))"
   ]
  },
  {
   "cell_type": "code",
   "execution_count": 41,
   "metadata": {},
   "outputs": [
    {
     "name": "stdout",
     "output_type": "stream",
     "text": [
      "Trained model found for RandomForestClassifier...\n",
      "Classification Report:\n",
      "\n",
      "              precision    recall  f1-score   support\n",
      "\n",
      "           0       0.39      0.13      0.19      5775\n",
      "           1       0.73      0.93      0.82     15103\n",
      "\n",
      "    accuracy                           0.70     20878\n",
      "   macro avg       0.56      0.53      0.51     20878\n",
      "weighted avg       0.64      0.70      0.65     20878\n",
      "\n",
      "\n",
      "\n"
     ]
    }
   ],
   "source": [
    "predict_new_data(df3_prepro, df3_y, clf=RandomForestClassifier(random_state=420))"
   ]
  },
  {
   "attachments": {},
   "cell_type": "markdown",
   "metadata": {},
   "source": [
    "# retrain"
   ]
  },
  {
   "cell_type": "code",
   "execution_count": 42,
   "metadata": {},
   "outputs": [],
   "source": [
    "# combine xtrain_prepro, xtest_prepro and df2_prepro\n",
    "# x = np.concatenate((xtrain_prepro, xtest_prepro, df2_prepro), axis=0)\n",
    "# combine ytrain, ytest and df2_y\n",
    "# y = np.concatenate((ytrain, ytest, df2_y), axis=0)"
   ]
  },
  {
   "cell_type": "code",
   "execution_count": 43,
   "metadata": {},
   "outputs": [],
   "source": [
    "# predict_new_data(df3_prepro, df3_y)"
   ]
  },
  {
   "cell_type": "code",
   "execution_count": null,
   "metadata": {},
   "outputs": [],
   "source": []
  }
 ],
 "metadata": {
  "kernelspec": {
   "display_name": "nova",
   "language": "python",
   "name": "python3"
  },
  "language_info": {
   "codemirror_mode": {
    "name": "ipython",
    "version": 3
   },
   "file_extension": ".py",
   "mimetype": "text/x-python",
   "name": "python",
   "nbconvert_exporter": "python",
   "pygments_lexer": "ipython3",
   "version": "3.10.10"
  },
  "orig_nbformat": 4
 },
 "nbformat": 4,
 "nbformat_minor": 2
}
