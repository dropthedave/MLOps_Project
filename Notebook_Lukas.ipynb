{
 "cells": [
  {
   "attachments": {},
   "cell_type": "markdown",
   "metadata": {},
   "source": [
    "# Imports"
   ]
  },
  {
   "cell_type": "code",
   "execution_count": 1,
   "metadata": {},
   "outputs": [],
   "source": [
    "# basics\n",
    "import os\n",
    "import pandas as pd\n",
    "import numpy as np\n",
    "import matplotlib.pyplot as plt\n",
    "import seaborn as sns\n",
    "import ast\n",
    "# scikit-learn\n",
    "from sklearn.model_selection import train_test_split\n",
    "from sklearn.pipeline import Pipeline\n",
    "from sklearn.preprocessing import StandardScaler\n",
    "from sklearn.impute import SimpleImputer\n",
    "from sklearn.model_selection import GridSearchCV\n",
    "from sklearn.linear_model import LogisticRegression\n",
    "from sklearn.tree import DecisionTreeClassifier\n",
    "from sklearn.ensemble import RandomForestClassifier\n",
    "from sklearn.metrics import accuracy_score\n",
    "from sklearn.metrics import precision_score\n",
    "from sklearn.metrics import recall_score\n",
    "from sklearn.metrics import f1_score\n",
    "from sklearn.metrics import classification_report\n",
    "# mlflow\n",
    "import mlflow\n",
    "# great expectations\n",
    "import great_expectations as gx\n",
    "# termcolor\n",
    "from termcolor import colored"
   ]
  },
  {
   "attachments": {},
   "cell_type": "markdown",
   "metadata": {},
   "source": [
    "# MLFlow Experiment\n",
    "\n",
    "FIRST: \n",
    "1. open ***mlflow ui*** via terminal"
   ]
  },
  {
   "cell_type": "code",
   "execution_count": 2,
   "metadata": {},
   "outputs": [],
   "source": [
    "# Create a new experiment\n",
    "experiment_name = \"MLOps Project\"\n",
    "\n",
    "# create new experiment if not existing\n",
    "try:\n",
    "    mlflow.create_experiment(experiment_name)\n",
    "    mlflow.set_experiment(experiment_name)\n",
    "# if experiment already exists, set experiment\n",
    "except:\n",
    "    mlflow.set_experiment(experiment_name)"
   ]
  },
  {
   "cell_type": "code",
   "execution_count": 3,
   "metadata": {},
   "outputs": [],
   "source": [
    "# get experiment id\n",
    "experiment_id = mlflow.get_experiment_by_name(experiment_name).experiment_id"
   ]
  },
  {
   "attachments": {},
   "cell_type": "markdown",
   "metadata": {},
   "source": [
    "# Load Data"
   ]
  },
  {
   "cell_type": "code",
   "execution_count": 4,
   "metadata": {},
   "outputs": [],
   "source": [
    "dataframe = pd.read_csv('Data/smoke_detection.csv', index_col=[0])"
   ]
  },
  {
   "attachments": {},
   "cell_type": "markdown",
   "metadata": {},
   "source": [
    "# Split Data\n",
    "\n",
    "To simulate multiple datasets we're going to order the dataset bei the *UTC* column and split it into 3 equal parts"
   ]
  },
  {
   "cell_type": "code",
   "execution_count": 5,
   "metadata": {},
   "outputs": [],
   "source": [
    "def split_dataframe(dataframe=dataframe):\n",
    "    # order dataframe by month\n",
    "    dataframe = dataframe.sort_values(by='UTC').reset_index(drop=True)\n",
    "    \n",
    "    # split dataframe into 3 equal sized datasets\n",
    "    dataframe_1 = dataframe.iloc[:int(len(dataframe)/3)]\n",
    "    dataframe_2 = dataframe.iloc[int(len(dataframe)/3):int(len(dataframe)/3)*2]\n",
    "    dataframe_3 = dataframe.iloc[int(len(dataframe)/3)*2:]\n",
    "    \n",
    "    return dataframe_1, dataframe_2, dataframe_3"
   ]
  },
  {
   "cell_type": "code",
   "execution_count": 6,
   "metadata": {},
   "outputs": [],
   "source": [
    "# pandas dataframes\n",
    "df1, df2, df3 = split_dataframe(dataframe)"
   ]
  },
  {
   "attachments": {},
   "cell_type": "markdown",
   "metadata": {},
   "source": [
    "# EDA"
   ]
  },
  {
   "cell_type": "code",
   "execution_count": 7,
   "metadata": {},
   "outputs": [
    {
     "name": "stdout",
     "output_type": "stream",
     "text": [
      "Rows: 20876\n",
      "Columns: 15\n"
     ]
    }
   ],
   "source": [
    "print(f'Rows: {df1.shape[0]}\\nColumns: {df1.shape[1]}')"
   ]
  },
  {
   "cell_type": "code",
   "execution_count": 8,
   "metadata": {},
   "outputs": [
    {
     "data": {
      "text/html": [
       "<div>\n",
       "<style scoped>\n",
       "    .dataframe tbody tr th:only-of-type {\n",
       "        vertical-align: middle;\n",
       "    }\n",
       "\n",
       "    .dataframe tbody tr th {\n",
       "        vertical-align: top;\n",
       "    }\n",
       "\n",
       "    .dataframe thead th {\n",
       "        text-align: right;\n",
       "    }\n",
       "</style>\n",
       "<table border=\"1\" class=\"dataframe\">\n",
       "  <thead>\n",
       "    <tr style=\"text-align: right;\">\n",
       "      <th></th>\n",
       "      <th>UTC</th>\n",
       "      <th>Temperature[C]</th>\n",
       "      <th>Humidity[%]</th>\n",
       "      <th>TVOC[ppb]</th>\n",
       "      <th>eCO2[ppm]</th>\n",
       "      <th>Raw H2</th>\n",
       "      <th>Raw Ethanol</th>\n",
       "      <th>Pressure[hPa]</th>\n",
       "      <th>PM1.0</th>\n",
       "      <th>PM2.5</th>\n",
       "      <th>NC0.5</th>\n",
       "      <th>NC1.0</th>\n",
       "      <th>NC2.5</th>\n",
       "      <th>CNT</th>\n",
       "      <th>Fire Alarm</th>\n",
       "    </tr>\n",
       "  </thead>\n",
       "  <tbody>\n",
       "    <tr>\n",
       "      <th>6202</th>\n",
       "      <td>1654733789</td>\n",
       "      <td>25.047</td>\n",
       "      <td>56.93</td>\n",
       "      <td>0</td>\n",
       "      <td>400</td>\n",
       "      <td>12777</td>\n",
       "      <td>19795</td>\n",
       "      <td>939.818</td>\n",
       "      <td>0.27</td>\n",
       "      <td>0.32</td>\n",
       "      <td>1.80</td>\n",
       "      <td>0.339</td>\n",
       "      <td>0.042</td>\n",
       "      <td>458</td>\n",
       "      <td>0</td>\n",
       "    </tr>\n",
       "    <tr>\n",
       "      <th>12615</th>\n",
       "      <td>1654740202</td>\n",
       "      <td>-5.740</td>\n",
       "      <td>50.62</td>\n",
       "      <td>237</td>\n",
       "      <td>400</td>\n",
       "      <td>13130</td>\n",
       "      <td>20035</td>\n",
       "      <td>939.639</td>\n",
       "      <td>0.48</td>\n",
       "      <td>0.50</td>\n",
       "      <td>3.30</td>\n",
       "      <td>0.514</td>\n",
       "      <td>0.012</td>\n",
       "      <td>6871</td>\n",
       "      <td>1</td>\n",
       "    </tr>\n",
       "    <tr>\n",
       "      <th>19562</th>\n",
       "      <td>1654747149</td>\n",
       "      <td>18.574</td>\n",
       "      <td>47.42</td>\n",
       "      <td>1164</td>\n",
       "      <td>510</td>\n",
       "      <td>12847</td>\n",
       "      <td>19448</td>\n",
       "      <td>938.885</td>\n",
       "      <td>1.88</td>\n",
       "      <td>1.95</td>\n",
       "      <td>12.94</td>\n",
       "      <td>2.017</td>\n",
       "      <td>0.046</td>\n",
       "      <td>13818</td>\n",
       "      <td>1</td>\n",
       "    </tr>\n",
       "    <tr>\n",
       "      <th>13573</th>\n",
       "      <td>1654741160</td>\n",
       "      <td>-4.092</td>\n",
       "      <td>50.44</td>\n",
       "      <td>291</td>\n",
       "      <td>400</td>\n",
       "      <td>13114</td>\n",
       "      <td>19966</td>\n",
       "      <td>939.428</td>\n",
       "      <td>0.46</td>\n",
       "      <td>0.48</td>\n",
       "      <td>3.15</td>\n",
       "      <td>0.491</td>\n",
       "      <td>0.011</td>\n",
       "      <td>7829</td>\n",
       "      <td>1</td>\n",
       "    </tr>\n",
       "    <tr>\n",
       "      <th>10668</th>\n",
       "      <td>1654738255</td>\n",
       "      <td>-7.997</td>\n",
       "      <td>53.78</td>\n",
       "      <td>18</td>\n",
       "      <td>400</td>\n",
       "      <td>13252</td>\n",
       "      <td>20193</td>\n",
       "      <td>939.662</td>\n",
       "      <td>2.25</td>\n",
       "      <td>2.33</td>\n",
       "      <td>15.46</td>\n",
       "      <td>2.410</td>\n",
       "      <td>0.054</td>\n",
       "      <td>4924</td>\n",
       "      <td>1</td>\n",
       "    </tr>\n",
       "  </tbody>\n",
       "</table>\n",
       "</div>"
      ],
      "text/plain": [
       "              UTC  Temperature[C]  Humidity[%]  TVOC[ppb]  eCO2[ppm]  Raw H2  \\\n",
       "6202   1654733789          25.047        56.93          0        400   12777   \n",
       "12615  1654740202          -5.740        50.62        237        400   13130   \n",
       "19562  1654747149          18.574        47.42       1164        510   12847   \n",
       "13573  1654741160          -4.092        50.44        291        400   13114   \n",
       "10668  1654738255          -7.997        53.78         18        400   13252   \n",
       "\n",
       "       Raw Ethanol  Pressure[hPa]  PM1.0  PM2.5  NC0.5  NC1.0  NC2.5    CNT  \\\n",
       "6202         19795        939.818   0.27   0.32   1.80  0.339  0.042    458   \n",
       "12615        20035        939.639   0.48   0.50   3.30  0.514  0.012   6871   \n",
       "19562        19448        938.885   1.88   1.95  12.94  2.017  0.046  13818   \n",
       "13573        19966        939.428   0.46   0.48   3.15  0.491  0.011   7829   \n",
       "10668        20193        939.662   2.25   2.33  15.46  2.410  0.054   4924   \n",
       "\n",
       "       Fire Alarm  \n",
       "6202            0  \n",
       "12615           1  \n",
       "19562           1  \n",
       "13573           1  \n",
       "10668           1  "
      ]
     },
     "execution_count": 8,
     "metadata": {},
     "output_type": "execute_result"
    }
   ],
   "source": [
    "# first look at the data\n",
    "df1.sample(5)"
   ]
  },
  {
   "cell_type": "code",
   "execution_count": 9,
   "metadata": {},
   "outputs": [
    {
     "data": {
      "text/html": [
       "<div>\n",
       "<style scoped>\n",
       "    .dataframe tbody tr th:only-of-type {\n",
       "        vertical-align: middle;\n",
       "    }\n",
       "\n",
       "    .dataframe tbody tr th {\n",
       "        vertical-align: top;\n",
       "    }\n",
       "\n",
       "    .dataframe thead th {\n",
       "        text-align: right;\n",
       "    }\n",
       "</style>\n",
       "<table border=\"1\" class=\"dataframe\">\n",
       "  <thead>\n",
       "    <tr style=\"text-align: right;\">\n",
       "      <th></th>\n",
       "      <th>dtype</th>\n",
       "      <th>count</th>\n",
       "      <th>mean</th>\n",
       "      <th>std</th>\n",
       "      <th>min</th>\n",
       "      <th>25%</th>\n",
       "      <th>50%</th>\n",
       "      <th>75%</th>\n",
       "      <th>max</th>\n",
       "      <th>nulls</th>\n",
       "      <th>empty strings</th>\n",
       "    </tr>\n",
       "  </thead>\n",
       "  <tbody>\n",
       "    <tr>\n",
       "      <th>UTC</th>\n",
       "      <td>int64</td>\n",
       "      <td>20876.0</td>\n",
       "      <td>1.654734e+09</td>\n",
       "      <td>12154.941397</td>\n",
       "      <td>1.654712e+09</td>\n",
       "      <td>1.654717e+09</td>\n",
       "      <td>1.654738e+09</td>\n",
       "      <td>1.654743e+09</td>\n",
       "      <td>1.654748e+09</td>\n",
       "      <td>0</td>\n",
       "      <td>0</td>\n",
       "    </tr>\n",
       "    <tr>\n",
       "      <th>Temperature[C]</th>\n",
       "      <td>float64</td>\n",
       "      <td>20876.0</td>\n",
       "      <td>1.445650e+01</td>\n",
       "      <td>16.777181</td>\n",
       "      <td>-9.276000e+00</td>\n",
       "      <td>-4.094000e+00</td>\n",
       "      <td>1.693150e+01</td>\n",
       "      <td>2.637800e+01</td>\n",
       "      <td>5.993000e+01</td>\n",
       "      <td>0</td>\n",
       "      <td>0</td>\n",
       "    </tr>\n",
       "    <tr>\n",
       "      <th>Humidity[%]</th>\n",
       "      <td>float64</td>\n",
       "      <td>20876.0</td>\n",
       "      <td>4.826455e+01</td>\n",
       "      <td>9.486005</td>\n",
       "      <td>1.074000e+01</td>\n",
       "      <td>4.700000e+01</td>\n",
       "      <td>5.015000e+01</td>\n",
       "      <td>5.336000e+01</td>\n",
       "      <td>7.520000e+01</td>\n",
       "      <td>0</td>\n",
       "      <td>0</td>\n",
       "    </tr>\n",
       "    <tr>\n",
       "      <th>TVOC[ppb]</th>\n",
       "      <td>int64</td>\n",
       "      <td>20876.0</td>\n",
       "      <td>2.311279e+03</td>\n",
       "      <td>9539.882264</td>\n",
       "      <td>0.000000e+00</td>\n",
       "      <td>6.700000e+01</td>\n",
       "      <td>2.220000e+02</td>\n",
       "      <td>1.027000e+03</td>\n",
       "      <td>6.000000e+04</td>\n",
       "      <td>0</td>\n",
       "      <td>0</td>\n",
       "    </tr>\n",
       "    <tr>\n",
       "      <th>eCO2[ppm]</th>\n",
       "      <td>int64</td>\n",
       "      <td>20876.0</td>\n",
       "      <td>6.927393e+02</td>\n",
       "      <td>1925.904927</td>\n",
       "      <td>4.000000e+02</td>\n",
       "      <td>4.000000e+02</td>\n",
       "      <td>4.000000e+02</td>\n",
       "      <td>5.090000e+02</td>\n",
       "      <td>3.918500e+04</td>\n",
       "      <td>0</td>\n",
       "      <td>0</td>\n",
       "    </tr>\n",
       "    <tr>\n",
       "      <th>Raw H2</th>\n",
       "      <td>int64</td>\n",
       "      <td>20876.0</td>\n",
       "      <td>1.295284e+04</td>\n",
       "      <td>318.702438</td>\n",
       "      <td>1.066800e+04</td>\n",
       "      <td>1.279400e+04</td>\n",
       "      <td>1.286800e+04</td>\n",
       "      <td>1.315100e+04</td>\n",
       "      <td>1.380300e+04</td>\n",
       "      <td>0</td>\n",
       "      <td>0</td>\n",
       "    </tr>\n",
       "    <tr>\n",
       "      <th>Raw Ethanol</th>\n",
       "      <td>int64</td>\n",
       "      <td>20876.0</td>\n",
       "      <td>1.990383e+04</td>\n",
       "      <td>683.249922</td>\n",
       "      <td>1.531700e+04</td>\n",
       "      <td>1.948400e+04</td>\n",
       "      <td>1.997600e+04</td>\n",
       "      <td>2.019125e+04</td>\n",
       "      <td>2.141000e+04</td>\n",
       "      <td>0</td>\n",
       "      <td>0</td>\n",
       "    </tr>\n",
       "    <tr>\n",
       "      <th>Pressure[hPa]</th>\n",
       "      <td>float64</td>\n",
       "      <td>20876.0</td>\n",
       "      <td>9.387859e+02</td>\n",
       "      <td>1.004823</td>\n",
       "      <td>9.366240e+02</td>\n",
       "      <td>9.375470e+02</td>\n",
       "      <td>9.390970e+02</td>\n",
       "      <td>9.396340e+02</td>\n",
       "      <td>9.398610e+02</td>\n",
       "      <td>0</td>\n",
       "      <td>0</td>\n",
       "    </tr>\n",
       "    <tr>\n",
       "      <th>PM1.0</th>\n",
       "      <td>float64</td>\n",
       "      <td>20876.0</td>\n",
       "      <td>1.130871e+02</td>\n",
       "      <td>950.738240</td>\n",
       "      <td>0.000000e+00</td>\n",
       "      <td>7.600000e-01</td>\n",
       "      <td>1.820000e+00</td>\n",
       "      <td>2.160000e+00</td>\n",
       "      <td>1.334669e+04</td>\n",
       "      <td>0</td>\n",
       "      <td>0</td>\n",
       "    </tr>\n",
       "    <tr>\n",
       "      <th>PM2.5</th>\n",
       "      <td>float64</td>\n",
       "      <td>20876.0</td>\n",
       "      <td>1.936200e+02</td>\n",
       "      <td>1864.035040</td>\n",
       "      <td>0.000000e+00</td>\n",
       "      <td>8.000000e-01</td>\n",
       "      <td>1.890000e+00</td>\n",
       "      <td>2.240000e+00</td>\n",
       "      <td>4.126298e+04</td>\n",
       "      <td>0</td>\n",
       "      <td>0</td>\n",
       "    </tr>\n",
       "    <tr>\n",
       "      <th>NC0.5</th>\n",
       "      <td>float64</td>\n",
       "      <td>20876.0</td>\n",
       "      <td>5.870627e+02</td>\n",
       "      <td>4728.450840</td>\n",
       "      <td>0.000000e+00</td>\n",
       "      <td>5.230000e+00</td>\n",
       "      <td>1.251000e+01</td>\n",
       "      <td>1.485000e+01</td>\n",
       "      <td>6.148203e+04</td>\n",
       "      <td>0</td>\n",
       "      <td>0</td>\n",
       "    </tr>\n",
       "    <tr>\n",
       "      <th>NC1.0</th>\n",
       "      <td>float64</td>\n",
       "      <td>20876.0</td>\n",
       "      <td>2.124171e+02</td>\n",
       "      <td>2075.544762</td>\n",
       "      <td>0.000000e+00</td>\n",
       "      <td>8.230000e-01</td>\n",
       "      <td>1.952000e+00</td>\n",
       "      <td>2.316000e+00</td>\n",
       "      <td>4.708960e+04</td>\n",
       "      <td>0</td>\n",
       "      <td>0</td>\n",
       "    </tr>\n",
       "    <tr>\n",
       "      <th>NC2.5</th>\n",
       "      <td>float64</td>\n",
       "      <td>20876.0</td>\n",
       "      <td>7.663674e+01</td>\n",
       "      <td>950.600013</td>\n",
       "      <td>0.000000e+00</td>\n",
       "      <td>2.000000e-02</td>\n",
       "      <td>4.400000e-02</td>\n",
       "      <td>5.300000e-02</td>\n",
       "      <td>2.691684e+04</td>\n",
       "      <td>0</td>\n",
       "      <td>0</td>\n",
       "    </tr>\n",
       "    <tr>\n",
       "      <th>CNT</th>\n",
       "      <td>int64</td>\n",
       "      <td>20876.0</td>\n",
       "      <td>6.273953e+03</td>\n",
       "      <td>4356.956119</td>\n",
       "      <td>0.000000e+00</td>\n",
       "      <td>2.609000e+03</td>\n",
       "      <td>5.218500e+03</td>\n",
       "      <td>9.912250e+03</td>\n",
       "      <td>1.513100e+04</td>\n",
       "      <td>0</td>\n",
       "      <td>0</td>\n",
       "    </tr>\n",
       "    <tr>\n",
       "      <th>Fire Alarm</th>\n",
       "      <td>int64</td>\n",
       "      <td>20876.0</td>\n",
       "      <td>5.727151e-01</td>\n",
       "      <td>0.494696</td>\n",
       "      <td>0.000000e+00</td>\n",
       "      <td>0.000000e+00</td>\n",
       "      <td>1.000000e+00</td>\n",
       "      <td>1.000000e+00</td>\n",
       "      <td>1.000000e+00</td>\n",
       "      <td>0</td>\n",
       "      <td>0</td>\n",
       "    </tr>\n",
       "  </tbody>\n",
       "</table>\n",
       "</div>"
      ],
      "text/plain": [
       "                  dtype    count          mean           std           min  \\\n",
       "UTC               int64  20876.0  1.654734e+09  12154.941397  1.654712e+09   \n",
       "Temperature[C]  float64  20876.0  1.445650e+01     16.777181 -9.276000e+00   \n",
       "Humidity[%]     float64  20876.0  4.826455e+01      9.486005  1.074000e+01   \n",
       "TVOC[ppb]         int64  20876.0  2.311279e+03   9539.882264  0.000000e+00   \n",
       "eCO2[ppm]         int64  20876.0  6.927393e+02   1925.904927  4.000000e+02   \n",
       "Raw H2            int64  20876.0  1.295284e+04    318.702438  1.066800e+04   \n",
       "Raw Ethanol       int64  20876.0  1.990383e+04    683.249922  1.531700e+04   \n",
       "Pressure[hPa]   float64  20876.0  9.387859e+02      1.004823  9.366240e+02   \n",
       "PM1.0           float64  20876.0  1.130871e+02    950.738240  0.000000e+00   \n",
       "PM2.5           float64  20876.0  1.936200e+02   1864.035040  0.000000e+00   \n",
       "NC0.5           float64  20876.0  5.870627e+02   4728.450840  0.000000e+00   \n",
       "NC1.0           float64  20876.0  2.124171e+02   2075.544762  0.000000e+00   \n",
       "NC2.5           float64  20876.0  7.663674e+01    950.600013  0.000000e+00   \n",
       "CNT               int64  20876.0  6.273953e+03   4356.956119  0.000000e+00   \n",
       "Fire Alarm        int64  20876.0  5.727151e-01      0.494696  0.000000e+00   \n",
       "\n",
       "                         25%           50%           75%           max  nulls  \\\n",
       "UTC             1.654717e+09  1.654738e+09  1.654743e+09  1.654748e+09      0   \n",
       "Temperature[C] -4.094000e+00  1.693150e+01  2.637800e+01  5.993000e+01      0   \n",
       "Humidity[%]     4.700000e+01  5.015000e+01  5.336000e+01  7.520000e+01      0   \n",
       "TVOC[ppb]       6.700000e+01  2.220000e+02  1.027000e+03  6.000000e+04      0   \n",
       "eCO2[ppm]       4.000000e+02  4.000000e+02  5.090000e+02  3.918500e+04      0   \n",
       "Raw H2          1.279400e+04  1.286800e+04  1.315100e+04  1.380300e+04      0   \n",
       "Raw Ethanol     1.948400e+04  1.997600e+04  2.019125e+04  2.141000e+04      0   \n",
       "Pressure[hPa]   9.375470e+02  9.390970e+02  9.396340e+02  9.398610e+02      0   \n",
       "PM1.0           7.600000e-01  1.820000e+00  2.160000e+00  1.334669e+04      0   \n",
       "PM2.5           8.000000e-01  1.890000e+00  2.240000e+00  4.126298e+04      0   \n",
       "NC0.5           5.230000e+00  1.251000e+01  1.485000e+01  6.148203e+04      0   \n",
       "NC1.0           8.230000e-01  1.952000e+00  2.316000e+00  4.708960e+04      0   \n",
       "NC2.5           2.000000e-02  4.400000e-02  5.300000e-02  2.691684e+04      0   \n",
       "CNT             2.609000e+03  5.218500e+03  9.912250e+03  1.513100e+04      0   \n",
       "Fire Alarm      0.000000e+00  1.000000e+00  1.000000e+00  1.000000e+00      0   \n",
       "\n",
       "                empty strings  \n",
       "UTC                         0  \n",
       "Temperature[C]              0  \n",
       "Humidity[%]                 0  \n",
       "TVOC[ppb]                   0  \n",
       "eCO2[ppm]                   0  \n",
       "Raw H2                      0  \n",
       "Raw Ethanol                 0  \n",
       "Pressure[hPa]               0  \n",
       "PM1.0                       0  \n",
       "PM2.5                       0  \n",
       "NC0.5                       0  \n",
       "NC1.0                       0  \n",
       "NC2.5                       0  \n",
       "CNT                         0  \n",
       "Fire Alarm                  0  "
      ]
     },
     "execution_count": 9,
     "metadata": {},
     "output_type": "execute_result"
    }
   ],
   "source": [
    "# descriptive statistics, data types and missing values\n",
    "def dataset_infos(dataframe):\n",
    "    # descriptive statistics\n",
    "    descriptives = dataframe.describe(include='all').T\n",
    "\n",
    "    # data types column\n",
    "    descriptives.insert(loc=0, column='dtype', value=dataframe.dtypes)\n",
    "    \n",
    "    # missing values\n",
    "    missing = pd.concat([dataframe.isnull().sum(), dataframe.eq('').sum()], keys=['nulls','empty strings'], axis=1)\n",
    "    \n",
    "    return pd.merge(descriptives, missing, left_index=True, right_index=True)\n",
    "\n",
    "dataset_infos(df1)"
   ]
  },
  {
   "cell_type": "code",
   "execution_count": 10,
   "metadata": {},
   "outputs": [
    {
     "name": "stdout",
     "output_type": "stream",
     "text": [
      "Duplicated Rows: 0\n"
     ]
    }
   ],
   "source": [
    "# duplicate rows\n",
    "print(f'Duplicated Rows: {df1.duplicated().sum()}')"
   ]
  },
  {
   "cell_type": "code",
   "execution_count": 11,
   "metadata": {},
   "outputs": [
    {
     "data": {
      "image/png": "[encoded data removed]",
      "text/plain": [
       "<Figure size 1000x500 with 1 Axes>"
      ]
     },
     "metadata": {},
     "output_type": "display_data"
    }
   ],
   "source": [
    "# plot target distribution (pie chart)\n",
    "def plot_target_distribution(dataframe, target='Fire Alarm'):\n",
    "    plt.figure(figsize=(10,5))\n",
    "    plt.pie(dataframe[target].value_counts(), labels=dataframe[target].value_counts().index, autopct='%1.1f%%', startangle=90)\n",
    "    plt.title('Target Distribution')\n",
    "    plt.legend()\n",
    "    plt.show()\n",
    "\n",
    "plot_target_distribution(df1)"
   ]
  },
  {
   "attachments": {},
   "cell_type": "markdown",
   "metadata": {},
   "source": [
    "# Preprocessing"
   ]
  },
  {
   "cell_type": "code",
   "execution_count": 12,
   "metadata": {},
   "outputs": [],
   "source": [
    "x, y = df1.drop(columns=['Fire Alarm']), df1['Fire Alarm']"
   ]
  },
  {
   "cell_type": "code",
   "execution_count": 13,
   "metadata": {},
   "outputs": [],
   "source": [
    "xtrain, xtest, ytrain, ytest = train_test_split(x, y, test_size=0.2, stratify=y,random_state=420)"
   ]
  },
  {
   "cell_type": "code",
   "execution_count": 14,
   "metadata": {},
   "outputs": [],
   "source": [
    "def preprocessing(data):\n",
    "  '''\n",
    "  Preprocessing function\n",
    "  Input: dataframe\n",
    "  Output: transformed data\n",
    "  '''\n",
    "\n",
    "  run_name = \"preprocessing\"\n",
    "\n",
    "  # preprocessing pipeline\n",
    "  pipeline = Pipeline([\n",
    "    ('imputer', SimpleImputer(strategy='median')),\n",
    "    ('scaler', StandardScaler())\n",
    "    ])\n",
    "    \n",
    "  # Search for preprocessing run\n",
    "  run = mlflow.search_runs(experiment_ids=experiment_id, filter_string=f\"tags.mlflow.runName = '{run_name}'\")\n",
    "  # get run id\n",
    "  run_id = run.iloc[0].run_id if not run.empty else None\n",
    "\n",
    "  # if preprocessing-run does not exist\n",
    "  if run.empty:\n",
    "    # fit & transform pipeline\n",
    "    data_preprocessed = pipeline.fit_transform(data)\n",
    "    # start run\n",
    "    with mlflow.start_run(run_name=run_name) as run:\n",
    "      # log pipeline\n",
    "      mlflow.sklearn.log_model(pipeline, 'pipeline')\n",
    "      # end run\n",
    "      mlflow.end_run()\n",
    "    \n",
    "  # if preprocessing-run exists\n",
    "  else:\n",
    "    # load pipeline\n",
    "    pipeline = mlflow.sklearn.load_model(f'runs:/{run_id}/pipeline')\n",
    "    # transform data\n",
    "    data_preprocessed = pipeline.transform(data)\n",
    "    \n",
    "  return data_preprocessed"
   ]
  },
  {
   "cell_type": "code",
   "execution_count": 15,
   "metadata": {},
   "outputs": [
    {
     "name": "stderr",
     "output_type": "stream",
     "text": [
      "2023/05/19 21:00:12 WARNING mlflow.sklearn: Model was missing function: predict. Not logging python_function flavor!\n"
     ]
    }
   ],
   "source": [
    "# preprocess training data\n",
    "xtrain_prepro = preprocessing(xtrain)"
   ]
  },
  {
   "cell_type": "code",
   "execution_count": 16,
   "metadata": {},
   "outputs": [],
   "source": [
    "# preprocess test data\n",
    "xtest_prepro = preprocessing(xtest)"
   ]
  },
  {
   "attachments": {},
   "cell_type": "markdown",
   "metadata": {},
   "source": [
    "# Modelling"
   ]
  },
  {
   "attachments": {},
   "cell_type": "markdown",
   "metadata": {},
   "source": [
    "## Training Multiple Classifiers"
   ]
  },
  {
   "cell_type": "code",
   "execution_count": 17,
   "metadata": {},
   "outputs": [],
   "source": [
    "# fit prediction model on train dataset\n",
    "def training(\n",
    "    xtrain = xtrain_prepro,\n",
    "    ytrain = ytrain,\n",
    "    xtest = xtest_prepro,\n",
    "    ytest = ytest,\n",
    "    clf = {\n",
    "        'Logistic Regression': LogisticRegression(random_state=420),\n",
    "        'Decision Tree': DecisionTreeClassifier(random_state=420),\n",
    "        'Random Forest': RandomForestClassifier(random_state=420)\n",
    "        }):\n",
    "\n",
    "    run_name = \"training (basic)\"\n",
    "\n",
    "    # start run\n",
    "    with mlflow.start_run(run_name=run_name) as run:\n",
    "        # train given classifiers\n",
    "        for clf_name, clf_val in clf.items():\n",
    "            # initialize model\n",
    "            model = clf_val\n",
    "            # fit model to training data\n",
    "            model.fit(xtrain_prepro, ytrain)\n",
    "            # predict on test data\n",
    "            ypred = model.predict(xtest_prepro)\n",
    "            # log model accuracy\n",
    "            mlflow.log_metric(f'accuracy_{clf_name}', accuracy_score(ytest, ypred))\n",
    "            # log model precision\n",
    "            mlflow.log_metric(f'precision_{clf_name}', precision_score(ytest, ypred))\n",
    "            # log model recall\n",
    "            mlflow.log_metric(f'recall_{clf_name}', recall_score(ytest, ypred))\n",
    "            # log model f1-score\n",
    "            mlflow.log_metric(f'f1_score_{clf_name}', f1_score(ytest, ypred))\n",
    "            # log model\n",
    "            mlflow.sklearn.log_model(model, f'model_{clf_name}')\n",
    "            # print classification report\n",
    "            print(f'Classification Report {clf_name}:\\n\\n{classification_report(ytest, ypred)}\\n\\n')\n",
    "        # end run\n",
    "        mlflow.end_run()"
   ]
  },
  {
   "cell_type": "code",
   "execution_count": 18,
   "metadata": {},
   "outputs": [
    {
     "name": "stdout",
     "output_type": "stream",
     "text": [
      "Classification Report Logistic Regression:\n",
      "\n",
      "              precision    recall  f1-score   support\n",
      "\n",
      "           0       1.00      1.00      1.00      1784\n",
      "           1       1.00      1.00      1.00      2392\n",
      "\n",
      "    accuracy                           1.00      4176\n",
      "   macro avg       1.00      1.00      1.00      4176\n",
      "weighted avg       1.00      1.00      1.00      4176\n",
      "\n",
      "\n",
      "\n",
      "Classification Report Decision Tree:\n",
      "\n",
      "              precision    recall  f1-score   support\n",
      "\n",
      "           0       1.00      1.00      1.00      1784\n",
      "           1       1.00      1.00      1.00      2392\n",
      "\n",
      "    accuracy                           1.00      4176\n",
      "   macro avg       1.00      1.00      1.00      4176\n",
      "weighted avg       1.00      1.00      1.00      4176\n",
      "\n",
      "\n",
      "\n",
      "Classification Report Random Forest:\n",
      "\n",
      "              precision    recall  f1-score   support\n",
      "\n",
      "           0       1.00      1.00      1.00      1784\n",
      "           1       1.00      1.00      1.00      2392\n",
      "\n",
      "    accuracy                           1.00      4176\n",
      "   macro avg       1.00      1.00      1.00      4176\n",
      "weighted avg       1.00      1.00      1.00      4176\n",
      "\n",
      "\n",
      "\n"
     ]
    }
   ],
   "source": [
    "training()"
   ]
  },
  {
   "attachments": {},
   "cell_type": "markdown",
   "metadata": {},
   "source": [
    "## GridSearchCV"
   ]
  },
  {
   "cell_type": "code",
   "execution_count": 19,
   "metadata": {},
   "outputs": [],
   "source": [
    "def grid_search(\n",
    "    xtrain = xtrain_prepro,\n",
    "    ytrain = ytrain,\n",
    "    xtest = xtest_prepro,\n",
    "    ytest = ytest,\n",
    "    clf = RandomForestClassifier(random_state=420),\n",
    "    param_grid = {\n",
    "        'n_estimators': [100, 200, 300, 400, 500],\n",
    "        'max_depth': [3, 4, 5, 6, 7, 8, 9, 10]\n",
    "        }):\n",
    "\n",
    "    run_name = \"grid search\"\n",
    "\n",
    "    # start run\n",
    "    with mlflow.start_run(run_name=run_name) as run:\n",
    "        # initialize grid search\n",
    "        grid = GridSearchCV(clf, param_grid, cv=5, scoring='f1', n_jobs=-1)\n",
    "        # fit grid search\n",
    "        grid.fit(xtrain, ytrain)\n",
    "        # predict on test data\n",
    "        ypred = grid.predict(xtest)\n",
    "        # log model accuracy\n",
    "        mlflow.log_metric(f'grid_search_accuracy', accuracy_score(ytest, ypred))\n",
    "        # log model precision\n",
    "        mlflow.log_metric(f'grid_search_precision', precision_score(ytest, ypred))\n",
    "        # log model recall\n",
    "        mlflow.log_metric(f'grid_search_recall', recall_score(ytest, ypred))\n",
    "        # log model f1-score\n",
    "        mlflow.log_metric(f'grid_search_f1_score', f1_score(ytest, ypred))\n",
    "        # log model\n",
    "        mlflow.sklearn.log_model(grid, 'grid_search_model')\n",
    "        # log best parameters\n",
    "        mlflow.log_param('best_params', grid.best_params_)\n",
    "        # print classification report\n",
    "        print(f'Classification Report:\\n\\n{classification_report(ytest, ypred)}\\n\\n')\n",
    "        # end run\n",
    "        mlflow.end_run()"
   ]
  },
  {
   "cell_type": "code",
   "execution_count": 20,
   "metadata": {},
   "outputs": [
    {
     "name": "stdout",
     "output_type": "stream",
     "text": [
      "Classification Report:\n",
      "\n",
      "              precision    recall  f1-score   support\n",
      "\n",
      "           0       1.00      1.00      1.00      1784\n",
      "           1       1.00      1.00      1.00      2392\n",
      "\n",
      "    accuracy                           1.00      4176\n",
      "   macro avg       1.00      1.00      1.00      4176\n",
      "weighted avg       1.00      1.00      1.00      4176\n",
      "\n",
      "\n",
      "\n"
     ]
    }
   ],
   "source": [
    "grid_search()"
   ]
  },
  {
   "attachments": {},
   "cell_type": "markdown",
   "metadata": {},
   "source": [
    "## Train Model with GridSearchCV-Parameters and all Training Data"
   ]
  },
  {
   "cell_type": "code",
   "execution_count": 21,
   "metadata": {},
   "outputs": [],
   "source": [
    "def train_best_model(x, y):\n",
    "    \n",
    "    run_name = \"training (optimal)\"\n",
    "\n",
    "    # Search for grid search run\n",
    "    run = mlflow.search_runs(experiment_ids=experiment_id, filter_string=f\"tags.mlflow.runName = 'grid search'\")\n",
    "    # get grid search parameters\n",
    "    grid_params = ast.literal_eval(run.iloc[0]['params.best_params'])\n",
    "\n",
    "    # start run\n",
    "    with mlflow.start_run(run_name=run_name) as run:\n",
    "        # get grid search parameters\n",
    "        params = grid_params\n",
    "        # initialize model\n",
    "        model = RandomForestClassifier(**params, random_state=420)\n",
    "        # fit model\n",
    "        model.fit(x, y)\n",
    "        # log model\n",
    "        mlflow.sklearn.log_model(model, 'model (optimal)')\n",
    "        # print model logged\n",
    "        print('Optimal model logged...')\n",
    "        # end run\n",
    "        mlflow.end_run()"
   ]
  },
  {
   "cell_type": "code",
   "execution_count": 22,
   "metadata": {},
   "outputs": [],
   "source": [
    "# combine training and test data\n",
    "x = np.concatenate((xtrain_prepro, xtest_prepro), axis=0)\n",
    "y = np.concatenate((ytrain, ytest), axis=0)"
   ]
  },
  {
   "cell_type": "code",
   "execution_count": 23,
   "metadata": {},
   "outputs": [
    {
     "name": "stdout",
     "output_type": "stream",
     "text": [
      "Optimal model logged...\n"
     ]
    }
   ],
   "source": [
    "train_best_model(x, y)"
   ]
  },
  {
   "attachments": {},
   "cell_type": "markdown",
   "metadata": {},
   "source": [
    "## Prediction"
   ]
  },
  {
   "cell_type": "code",
   "execution_count": 24,
   "metadata": {},
   "outputs": [],
   "source": [
    "def predict_new_data(x, y):\n",
    "    dataframe_name = [i for i in globals() if globals()[i] is x][0]\n",
    "    # name of run (name of dataframe)\n",
    "    run_name = f\"predict {dataframe_name}\"\n",
    "    # search \"model (optimal)\" run\n",
    "    run = mlflow.search_runs(experiment_ids=experiment_id, filter_string=f\"tags.mlflow.runName = 'training (optimal)'\")\n",
    "    # get run id\n",
    "    run_id = run.iloc[0].run_id if not run.empty else None\n",
    "    # load model (optimal)\n",
    "    model = mlflow.sklearn.load_model(f'runs:/{run_id}/model (optimal)')\n",
    "\n",
    "    # start run\n",
    "    with mlflow.start_run(run_name=run_name) as run:\n",
    "        # predict on new data\n",
    "        ypred = model.predict(x)\n",
    "        # log model accuracy\n",
    "        mlflow.log_metric(f'{dataframe_name}_accuracy', accuracy_score(y, ypred))\n",
    "        # log model precision\n",
    "        mlflow.log_metric(f'{dataframe_name}_precision', precision_score(y, ypred))\n",
    "        # log model recall\n",
    "        mlflow.log_metric(f'{dataframe_name}_recall', recall_score(y, ypred))\n",
    "        # log model f1-score\n",
    "        mlflow.log_metric(f'{dataframe_name}_f1_score', f1_score(y, ypred))\n",
    "        # log parameters\n",
    "        mlflow.log_param(f'{dataframe_name}_params', model.get_params())\n",
    "        # log model\n",
    "        mlflow.sklearn.log_model(model, f'{dataframe_name}_model')\n",
    "        # print classification report\n",
    "        print(f'Classification Report:\\n\\n{classification_report(y, ypred)}\\n\\n')\n",
    "        # end run\n",
    "        mlflow.end_run()"
   ]
  },
  {
   "attachments": {},
   "cell_type": "markdown",
   "metadata": {},
   "source": [
    "# Great Expectations"
   ]
  },
  {
   "cell_type": "code",
   "execution_count": 29,
   "metadata": {},
   "outputs": [],
   "source": [
    "def great_expectations(check_dataframe, initial_dataframe=df1):\n",
    "\n",
    "    initial_df = gx.dataset.PandasDataset(initial_dataframe)\n",
    "    check_df = gx.dataset.PandasDataset(check_dataframe)\n",
    "    \n",
    "    # get column names from initial dataframe\n",
    "    gx_columns = initial_df.get_table_columns()\n",
    "    # get dtypes from initial dataframe\n",
    "    gx_dtypes = initial_df.dtypes.apply(lambda x: str(x)).to_dict()\n",
    "\n",
    "    # check if column are the same in all dataframes\n",
    "    column_check = check_df.expect_table_columns_to_match_ordered_list(column_list=gx_columns)\n",
    "    if column_check['success']:\n",
    "        print('Columns Check: ', colored('OK', 'green'))\n",
    "    else:\n",
    "        print('Columns Check: ', colored('Failed', 'red'))\n",
    "\n",
    "    # check if dtypes are the same in all dataframes\n",
    "    check_set = set()\n",
    "    for col, data_type in gx_dtypes.items():\n",
    "        datatype_check = check_df.expect_column_values_to_be_of_type(column=col, type_=data_type)\n",
    "        check_set.add(datatype_check['success'])\n",
    "    if all(check_set) == True:\n",
    "        print('Datatype Check: ', colored('OK', 'green'))\n",
    "    else:\n",
    "        print('Datatype Check: ', colored('Failed', 'red'))\n",
    "\n",
    "    # check if dataframe has missing values\n",
    "    check_set = set()\n",
    "    for col in gx_columns:\n",
    "        missing_values_check = check_df.expect_column_values_to_not_be_null(column=col)\n",
    "        check_set.add(missing_values_check['success'])\n",
    "    if all(check_set) == True:\n",
    "        print('Missing Values Check: ', colored('OK', 'green'))\n",
    "    else:\n",
    "        print('Missing Values Check: ', colored('Failed', 'red'))\n",
    "\n",
    "    # check if dataframe has duplicates\n",
    "    duplicates_check = check_df.expect_table_row_count_to_be_between(min_value=check_df.shape[0], max_value=check_df.shape[0])\n",
    "    if duplicates_check['success']:\n",
    "        print('Duplicates Check: ', colored('OK', 'green'))\n",
    "    else:\n",
    "        print('Duplicates Check: ', colored('Failed', 'red'))\n",
    "\n",
    "    # check if dataframe distribution is the same as in initial dataframe\n",
    "    check_set = set()\n",
    "    for col in gx_columns:\n",
    "        distribution_check = check_df.expect_column_kl_divergence_to_be_less_than(column=col, partition_object={'values': initial_df[col].value_counts().index.tolist(), 'weights': initial_df[col].value_counts(normalize=True).tolist()}, threshold=0.6)\n",
    "        check_set.add(distribution_check['success'])\n",
    "    if all(check_set) == True:\n",
    "        print('Distribution Check: ', colored('OK', 'green'))\n",
    "    else:\n",
    "        print('Distribution Check: ', colored('Failed', 'red'))\n",
    "\n",
    "    # check if dataframe has outliers\n",
    "    check_set = set()\n",
    "    for col in gx_columns:\n",
    "        outliers_check = check_df.expect_column_values_to_be_between(column=col, min_value=initial_df[col].min(), max_value=initial_df[col].max())\n",
    "        check_set.add(outliers_check['success'])\n",
    "    if all(check_set) == True:\n",
    "        print('Outlier Check: ', colored('OK', 'green'))\n",
    "    else:\n",
    "        print('Outlier Check: ', colored('Failed', 'red'))"
   ]
  },
  {
   "attachments": {},
   "cell_type": "markdown",
   "metadata": {},
   "source": [
    "# Dataset 2"
   ]
  },
  {
   "cell_type": "code",
   "execution_count": 30,
   "metadata": {},
   "outputs": [
    {
     "name": "stdout",
     "output_type": "stream",
     "text": [
      "Columns Check:  \u001b[32mOK\u001b[0m\n",
      "Datatype Check:  \u001b[32mOK\u001b[0m\n",
      "Missing Values Check:  \u001b[32mOK\u001b[0m\n",
      "Duplicates Check:  \u001b[32mOK\u001b[0m\n",
      "Distribution Check:  \u001b[31mFailed\u001b[0m\n",
      "Outlier Check:  \u001b[31mFailed\u001b[0m\n"
     ]
    }
   ],
   "source": [
    "great_expectations(check_dataframe=df2, initial_dataframe=df1)"
   ]
  },
  {
   "cell_type": "code",
   "execution_count": 31,
   "metadata": {},
   "outputs": [],
   "source": [
    "df2_prepro, df2_y = preprocessing(df2.drop(columns=['Fire Alarm'])), df2['Fire Alarm']"
   ]
  },
  {
   "cell_type": "code",
   "execution_count": 32,
   "metadata": {},
   "outputs": [
    {
     "name": "stdout",
     "output_type": "stream",
     "text": [
      "Classification Report:\n",
      "\n",
      "              precision    recall  f1-score   support\n",
      "\n",
      "           0       1.00      0.04      0.08      3178\n",
      "           1       0.85      1.00      0.92     17698\n",
      "\n",
      "    accuracy                           0.85     20876\n",
      "   macro avg       0.93      0.52      0.50     20876\n",
      "weighted avg       0.88      0.85      0.79     20876\n",
      "\n",
      "\n",
      "\n"
     ]
    }
   ],
   "source": [
    "predict_new_data(df2_prepro, df2_y)"
   ]
  },
  {
   "attachments": {},
   "cell_type": "markdown",
   "metadata": {},
   "source": [
    "# Dataset 3"
   ]
  },
  {
   "cell_type": "code",
   "execution_count": 33,
   "metadata": {},
   "outputs": [
    {
     "name": "stdout",
     "output_type": "stream",
     "text": [
      "Columns Check:  \u001b[32mOK\u001b[0m\n",
      "Datatype Check:  \u001b[32mOK\u001b[0m\n",
      "Missing Values Check:  \u001b[32mOK\u001b[0m\n",
      "Duplicates Check:  \u001b[32mOK\u001b[0m\n",
      "Distribution Check:  \u001b[31mFailed\u001b[0m\n",
      "Outlier Check:  \u001b[31mFailed\u001b[0m\n"
     ]
    }
   ],
   "source": [
    "great_expectations(check_dataframe=df3, initial_dataframe=df1)"
   ]
  },
  {
   "cell_type": "code",
   "execution_count": 34,
   "metadata": {},
   "outputs": [],
   "source": [
    "df3_prepro, df3_y = preprocessing(df3.drop(columns=['Fire Alarm'])), df3['Fire Alarm']"
   ]
  },
  {
   "cell_type": "code",
   "execution_count": 35,
   "metadata": {},
   "outputs": [
    {
     "name": "stdout",
     "output_type": "stream",
     "text": [
      "Classification Report:\n",
      "\n",
      "              precision    recall  f1-score   support\n",
      "\n",
      "           0       0.39      0.13      0.19      5775\n",
      "           1       0.73      0.93      0.82     15103\n",
      "\n",
      "    accuracy                           0.70     20878\n",
      "   macro avg       0.56      0.53      0.51     20878\n",
      "weighted avg       0.64      0.70      0.65     20878\n",
      "\n",
      "\n",
      "\n"
     ]
    }
   ],
   "source": [
    "predict_new_data(df3_prepro, df3_y)"
   ]
  },
  {
   "cell_type": "code",
   "execution_count": null,
   "metadata": {},
   "outputs": [],
   "source": []
  }
 ],
 "metadata": {
  "kernelspec": {
   "display_name": "nova",
   "language": "python",
   "name": "python3"
  },
  "language_info": {
   "codemirror_mode": {
    "name": "ipython",
    "version": 3
   },
   "file_extension": ".py",
   "mimetype": "text/x-python",
   "name": "python",
   "nbconvert_exporter": "python",
   "pygments_lexer": "ipython3",
   "version": "3.10.10"
  },
  "orig_nbformat": 4
 },
 "nbformat": 4,
 "nbformat_minor": 2
}
