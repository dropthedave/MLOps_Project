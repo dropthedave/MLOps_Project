{
 "cells": [
  {
   "cell_type": "code",
   "execution_count": 1,
   "metadata": {},
   "outputs": [],
   "source": [
    "# basics\n",
    "import os\n",
    "import pandas as pd\n",
    "import numpy as np\n",
    "import matplotlib.pyplot as plt\n",
    "import seaborn as sns\n",
    "import ast\n",
    "# scikit-learn\n",
    "from sklearn.model_selection import train_test_split\n",
    "from sklearn.pipeline import Pipeline\n",
    "from sklearn.preprocessing import StandardScaler\n",
    "from sklearn.impute import SimpleImputer\n",
    "from sklearn.model_selection import GridSearchCV\n",
    "from sklearn.linear_model import LogisticRegression\n",
    "from sklearn.tree import DecisionTreeClassifier\n",
    "from sklearn.ensemble import RandomForestClassifier\n",
    "from sklearn.metrics import accuracy_score\n",
    "from sklearn.metrics import precision_score\n",
    "from sklearn.metrics import recall_score\n",
    "from sklearn.metrics import f1_score\n",
    "from sklearn.metrics import classification_report\n",
    "from sklearn.metrics import RocCurveDisplay\n",
    "from imblearn.over_sampling import SMOTE\n",
    "# joblib\n",
    "import joblib\n",
    "# mlflow\n",
    "import mlflow\n",
    "# great expectations\n",
    "import great_expectations as gx\n",
    "# nannyml\n",
    "import nannyml as nml\n",
    "# termcolor\n",
    "from termcolor import colored"
   ]
  },
  {
   "attachments": {},
   "cell_type": "markdown",
   "metadata": {},
   "source": [
    "# Load Data"
   ]
  },
  {
   "cell_type": "code",
   "execution_count": 2,
   "metadata": {},
   "outputs": [],
   "source": [
    "dataframe = pd.read_csv('Data/smoke_detection.csv', index_col=[0])"
   ]
  },
  {
   "attachments": {},
   "cell_type": "markdown",
   "metadata": {},
   "source": [
    "# Split Data"
   ]
  },
  {
   "cell_type": "code",
   "execution_count": 3,
   "metadata": {},
   "outputs": [],
   "source": [
    "def split_dataframe(dataframe: pd.DataFrame) -> tuple[pd.DataFrame, pd.DataFrame, pd.DataFrame]:\n",
    "    # order dataframe by month\n",
    "    dataframe = dataframe.sort_values(by='UTC').reset_index(drop=True)\n",
    "    \n",
    "    # split dataframe into 3 equal sized datasets\n",
    "    dataframe_1 = dataframe.iloc[:int(len(dataframe)/3)]\n",
    "    dataframe_2 = dataframe.iloc[int(len(dataframe)/3):int(len(dataframe)/3)*2]\n",
    "    dataframe_3 = dataframe.iloc[int(len(dataframe)/3)*2:]\n",
    "    \n",
    "    return dataframe_1, dataframe_2, dataframe_3"
   ]
  },
  {
   "cell_type": "code",
   "execution_count": 4,
   "metadata": {},
   "outputs": [],
   "source": [
    "# apply function\n",
    "df1, df2, df3 = split_dataframe(dataframe)"
   ]
  },
  {
   "attachments": {},
   "cell_type": "markdown",
   "metadata": {},
   "source": [
    "# 1. Preprocessing"
   ]
  },
  {
   "attachments": {},
   "cell_type": "markdown",
   "metadata": {},
   "source": [
    "## 1.1 Train/Test Split"
   ]
  },
  {
   "cell_type": "code",
   "execution_count": 5,
   "metadata": {},
   "outputs": [],
   "source": [
    "x, y = df1.drop(columns=['Fire Alarm']), df1['Fire Alarm']"
   ]
  },
  {
   "cell_type": "code",
   "execution_count": 6,
   "metadata": {},
   "outputs": [],
   "source": [
    "xtrain, xtest, ytrain, ytest = train_test_split(x, y, test_size=0.2, stratify=y,random_state=420)"
   ]
  },
  {
   "attachments": {},
   "cell_type": "markdown",
   "metadata": {},
   "source": [
    "## 1.2 Preprocessing Function"
   ]
  },
  {
   "cell_type": "code",
   "execution_count": 7,
   "metadata": {},
   "outputs": [],
   "source": [
    "def preprocessing(x: pd.DataFrame, y: pd.Series = None, reset=False) -> pd.DataFrame:\n",
    "\n",
    "  # drop columns\n",
    "  x = x.drop(columns=['UTC', 'CNT'])\n",
    "\n",
    "  # apply outlier handling (IQR - floor and ceiling)\n",
    "  for col in x.columns:\n",
    "    q1, q3 = np.nanquantile(x[col], 0.25), np.nanquantile(x[col], 0.75)\n",
    "    iqr = q3 - q1\n",
    "    lower_bound, upper_bound = q1-(1.5*iqr), q3+(1.5*iqr)\n",
    "    x[col] = [lower_bound if i < lower_bound else upper_bound if i > upper_bound else i for i in x[col]]\n",
    "\n",
    "  # preprocessing pipeline\n",
    "  global pipeline\n",
    "  pipeline = Pipeline([\n",
    "    ('imputer', SimpleImputer(strategy='median')),\n",
    "    ('scaler', StandardScaler())\n",
    "    ])\n",
    "\n",
    "  # fit & transform pipeline + SMOTE\n",
    "  if reset:\n",
    "    # apply preprocessing pipeline\n",
    "    x = pipeline.fit_transform(x)\n",
    "    # save the pipeline\n",
    "    joblib.dump(pipeline, 'Pipeline/pipeline.pkl')\n",
    "    # Smote\n",
    "    smote = SMOTE(random_state=420)\n",
    "    # fit smote\n",
    "    x, y = smote.fit_resample(x, y)\n",
    "    # print message\n",
    "    print('Preprocessing Pipeline: Fit & Transform')\n",
    "    # return x and y\n",
    "    return x, y\n",
    "  # transform pipeline\n",
    "  else:\n",
    "    # load pipeline\n",
    "    pipeline = joblib.load('Pipeline/pipeline.pkl')\n",
    "    # apply preprocessing pipeline\n",
    "    x = pipeline.transform(x)\n",
    "    # print message\n",
    "    print('Preprocessing Pipeline: Transform')\n",
    "    # return x\n",
    "    return x"
   ]
  },
  {
   "attachments": {},
   "cell_type": "markdown",
   "metadata": {},
   "source": [
    "## 1.3 Apply Preprocessing to Train/Test Split"
   ]
  },
  {
   "cell_type": "code",
   "execution_count": 8,
   "metadata": {},
   "outputs": [
    {
     "name": "stdout",
     "output_type": "stream",
     "text": [
      "Preprocessing Pipeline: Fit & Transform\n"
     ]
    }
   ],
   "source": [
    "# preprocess training data\n",
    "xtrain_prepro, ytrain_prepro = preprocessing(xtrain, ytrain, reset=True)"
   ]
  },
  {
   "cell_type": "code",
   "execution_count": 9,
   "metadata": {},
   "outputs": [
    {
     "name": "stdout",
     "output_type": "stream",
     "text": [
      "Preprocessing Pipeline: Transform\n"
     ]
    }
   ],
   "source": [
    "# preprocess test data\n",
    "xtest_prepro = preprocessing(xtest)"
   ]
  },
  {
   "attachments": {},
   "cell_type": "markdown",
   "metadata": {},
   "source": [
    "# 2. Train Multiple Classifier"
   ]
  },
  {
   "cell_type": "code",
   "execution_count": 10,
   "metadata": {},
   "outputs": [],
   "source": [
    "def classifier_comparison(\n",
    "    xtrain: pd.DataFrame = xtrain_prepro,\n",
    "    ytrain: pd.DataFrame = ytrain_prepro,\n",
    "    xtest: pd.DataFrame = xtest_prepro,\n",
    "    ytest: pd.DataFrame = ytest,\n",
    "    clf: dict = {\n",
    "        'Logistic Regression': LogisticRegression(random_state=420),\n",
    "        'Decision Tree': DecisionTreeClassifier(random_state=420),\n",
    "        'Random Forest': RandomForestClassifier(random_state=420)\n",
    "        }\n",
    "    ):\n",
    "\n",
    "    # build plot\n",
    "    fig, ax = plt.subplots(1, figsize=(10, 7))\n",
    "    # iterate over classifiers\n",
    "    for name, clf in clf.items():\n",
    "        # fit classifier\n",
    "        clf.fit(xtrain, ytrain)\n",
    "        # plot roc curve\n",
    "        RocCurveDisplay.from_estimator(clf, xtest, ytest, ax=ax, name=name)\n",
    "    ax.set_title('Receiver Operating Characteristic (ROC)')\n",
    "    ax.plot([0,1], [0,1], linestyle='--')\n",
    "    # save plot\n",
    "    plt.savefig('Plots/ROC Curves.png')\n",
    "    # show plot\n",
    "    plt.show()"
   ]
  },
  {
   "cell_type": "code",
   "execution_count": 11,
   "metadata": {},
   "outputs": [
    {
     "data": {
      "image/png": "[encoded data removed]",
      "text/plain": [
       "<Figure size 1000x700 with 1 Axes>"
      ]
     },
     "metadata": {},
     "output_type": "display_data"
    }
   ],
   "source": [
    "classifier_comparison(xtrain=xtrain_prepro, ytrain=ytrain_prepro, xtest=xtest_prepro, ytest=ytest)"
   ]
  },
  {
   "attachments": {},
   "cell_type": "markdown",
   "metadata": {},
   "source": [
    "# 3. Feature Importance"
   ]
  },
  {
   "cell_type": "code",
   "execution_count": 12,
   "metadata": {},
   "outputs": [],
   "source": [
    "# function to calculate feature importance for random forest inputs (x, y and clf)\n",
    "def feature_importance(\n",
    "    clf,\n",
    "    x: pd.DataFrame = xtrain_prepro,\n",
    "    y: pd.DataFrame = ytrain_prepro,\n",
    "    columns: list = xtrain.columns.drop(['CNT', 'UTC']),\n",
    "    ):\n",
    "\n",
    "    # fit classifier\n",
    "    clf.fit(x, y)\n",
    "    # create dataframe with feature names and feature importance\n",
    "    df = pd.DataFrame({'Feature': columns, 'Importance': clf.feature_importances_})\n",
    "    # sort dataframe by feature importance\n",
    "    df = df.sort_values(by='Importance', ascending=False).reset_index(drop=True)\n",
    "    # plot feature importance\n",
    "    fig, ax = plt.subplots(1, figsize=(10, 7))\n",
    "    sns.barplot(x='Importance', y='Feature', data=df, ax=ax)\n",
    "    ax.set_title('Feature Importance')\n",
    "    # save plot\n",
    "    plt.savefig('Plots/Feature Importance.png')\n",
    "    # show plot\n",
    "    plt.show()"
   ]
  },
  {
   "cell_type": "code",
   "execution_count": 13,
   "metadata": {},
   "outputs": [
    {
     "data": {
      "image/png": "[encoded data removed]",
      "text/plain": [
       "<Figure size 1000x700 with 1 Axes>"
      ]
     },
     "metadata": {},
     "output_type": "display_data"
    }
   ],
   "source": [
    "feature_importance(RandomForestClassifier(random_state=420), xtrain_prepro, ytrain_prepro)"
   ]
  },
  {
   "attachments": {},
   "cell_type": "markdown",
   "metadata": {},
   "source": [
    "# 4. Grid Search"
   ]
  },
  {
   "attachments": {},
   "cell_type": "markdown",
   "metadata": {},
   "source": [
    "## 4.1 Grid Search Function"
   ]
  },
  {
   "cell_type": "code",
   "execution_count": 14,
   "metadata": {},
   "outputs": [],
   "source": [
    "# def grid_search(\n",
    "#     x: pd.DataFrame,\n",
    "#     y: pd.DataFrame,\n",
    "#     param_grid: dict,\n",
    "#     clf = RandomForestClassifier(random_state=420)\n",
    "#     ):\n",
    "    \n",
    "#     grid_search = GridSearchCV(clf, param_grid, cv=5, scoring='f1', n_jobs=-1)\n",
    "#     # fit grid search\n",
    "#     grid_search.fit(x, y)\n",
    "#     # return grid search\n",
    "#     return grid_search"
   ]
  },
  {
   "attachments": {},
   "cell_type": "markdown",
   "metadata": {},
   "source": [
    "# 5. Train Model with Grid Search"
   ]
  },
  {
   "attachments": {},
   "cell_type": "markdown",
   "metadata": {},
   "source": [
    "## 5.1 Fit Model Function"
   ]
  },
  {
   "cell_type": "code",
   "execution_count": 15,
   "metadata": {},
   "outputs": [],
   "source": [
    "def training(\n",
    "        x: pd.DataFrame,\n",
    "        y: pd.DataFrame,\n",
    "        param_grid: dict,\n",
    "        clf = RandomForestClassifier(random_state=420)\n",
    "        ):\n",
    "    \n",
    "    grid_search = GridSearchCV(clf, param_grid, cv=5, scoring='f1', n_jobs=-1)\n",
    "    # fit grid search\n",
    "    grid_search.fit(x, y)\n",
    "    # return model\n",
    "    return grid_search"
   ]
  },
  {
   "attachments": {},
   "cell_type": "markdown",
   "metadata": {},
   "source": [
    "## 5.2 Combine Train/Test Data"
   ]
  },
  {
   "cell_type": "code",
   "execution_count": 16,
   "metadata": {},
   "outputs": [
    {
     "name": "stdout",
     "output_type": "stream",
     "text": [
      "Preprocessing Pipeline: Fit & Transform\n"
     ]
    }
   ],
   "source": [
    "# combine train and test data\n",
    "x_train, y_train = df1.drop(columns=['Fire Alarm']), df1['Fire Alarm']\n",
    "\n",
    "x_train, y_train = preprocessing(x=x_train, y=y_train, reset=True)"
   ]
  },
  {
   "attachments": {},
   "cell_type": "markdown",
   "metadata": {},
   "source": [
    "## 5.3 Fit Model on Train Data"
   ]
  },
  {
   "cell_type": "code",
   "execution_count": 17,
   "metadata": {},
   "outputs": [],
   "source": [
    "# Train Random Forest with Grid Search\n",
    "param_grid = {\n",
    "    'n_estimators': [100, 200, 300, 400, 500],\n",
    "    'max_depth': [3, 4, 5, 6, 7, 8, 9, 10]\n",
    "    }\n",
    "\n",
    "rf = training(x=x_train, y=y_train, param_grid=param_grid, clf=RandomForestClassifier(random_state=420))"
   ]
  },
  {
   "attachments": {},
   "cell_type": "markdown",
   "metadata": {},
   "source": [
    "# 6. Make Predictions"
   ]
  },
  {
   "attachments": {},
   "cell_type": "markdown",
   "metadata": {},
   "source": [
    "## 6.1 Predict Data Function"
   ]
  },
  {
   "cell_type": "code",
   "execution_count": 18,
   "metadata": {},
   "outputs": [],
   "source": [
    "def predict_data(\n",
    "        x: pd.DataFrame,\n",
    "        y: pd.DataFrame,\n",
    "        clf\n",
    "        ):\n",
    "    \n",
    "    # predict_proba\n",
    "    ypred_proba = clf.predict_proba(x)\n",
    "    # ypred\n",
    "    ypred = np.argmax(ypred_proba, axis=1)\n",
    "    # return ypred_proba and ypred\n",
    "    return ypred_proba, ypred"
   ]
  },
  {
   "attachments": {},
   "cell_type": "markdown",
   "metadata": {},
   "source": [
    "# 7. Dataframe 2"
   ]
  },
  {
   "attachments": {},
   "cell_type": "markdown",
   "metadata": {},
   "source": [
    "## 7.1 Prepare Dataframe 2"
   ]
  },
  {
   "cell_type": "code",
   "execution_count": 19,
   "metadata": {},
   "outputs": [
    {
     "name": "stdout",
     "output_type": "stream",
     "text": [
      "Preprocessing Pipeline: Transform\n"
     ]
    }
   ],
   "source": [
    "df2_prepro, df2_y = preprocessing(df2.drop(columns=['Fire Alarm'])), df2['Fire Alarm']"
   ]
  },
  {
   "attachments": {},
   "cell_type": "markdown",
   "metadata": {},
   "source": [
    "## 7.2 Predict Dataframe 2"
   ]
  },
  {
   "cell_type": "code",
   "execution_count": 20,
   "metadata": {},
   "outputs": [],
   "source": [
    "ypred_proba, ypred = predict_data(x=df2_prepro, y=df2_y, clf=rf)"
   ]
  },
  {
   "cell_type": "code",
   "execution_count": 21,
   "metadata": {},
   "outputs": [
    {
     "name": "stdout",
     "output_type": "stream",
     "text": [
      "              precision    recall  f1-score   support\n",
      "\n",
      "           0       0.44      1.00      0.61      3178\n",
      "           1       1.00      0.77      0.87     17698\n",
      "\n",
      "    accuracy                           0.80     20876\n",
      "   macro avg       0.72      0.88      0.74     20876\n",
      "weighted avg       0.91      0.80      0.83     20876\n",
      "\n"
     ]
    }
   ],
   "source": [
    "print(classification_report(df2_y, ypred))"
   ]
  },
  {
   "attachments": {},
   "cell_type": "markdown",
   "metadata": {},
   "source": [
    "# 8. Retrain Model"
   ]
  },
  {
   "attachments": {},
   "cell_type": "markdown",
   "metadata": {},
   "source": [
    "## 8.1 Combine Dataframe 1 & Dataframe 2"
   ]
  },
  {
   "cell_type": "code",
   "execution_count": 22,
   "metadata": {},
   "outputs": [],
   "source": [
    "combined = pd.concat([df1, df2], axis=0)\n",
    "\n",
    "x_combined, y_combined = combined.drop(columns=['Fire Alarm']), combined['Fire Alarm']"
   ]
  },
  {
   "attachments": {},
   "cell_type": "markdown",
   "metadata": {},
   "source": [
    "## 8.2 Preprocess Combined Data"
   ]
  },
  {
   "cell_type": "code",
   "execution_count": 23,
   "metadata": {},
   "outputs": [
    {
     "name": "stdout",
     "output_type": "stream",
     "text": [
      "Preprocessing Pipeline: Fit & Transform\n"
     ]
    }
   ],
   "source": [
    "x_retrain, y_retrain = preprocessing(x=x_combined, y=y_combined, reset=True)"
   ]
  },
  {
   "attachments": {},
   "cell_type": "markdown",
   "metadata": {},
   "source": [
    "## 8.3 Fit on Combined Data"
   ]
  },
  {
   "cell_type": "code",
   "execution_count": 24,
   "metadata": {},
   "outputs": [],
   "source": [
    "# Train Random Forest with Grid Search\n",
    "param_grid = {\n",
    "    'n_estimators': [100, 200, 300, 400, 500],\n",
    "    'max_depth': [3, 4, 5, 6, 7, 8, 9, 10]\n",
    "    }\n",
    "\n",
    "rf_retrain = training(x=x_retrain, y=y_retrain, param_grid=param_grid, clf=RandomForestClassifier(random_state=420))"
   ]
  },
  {
   "attachments": {},
   "cell_type": "markdown",
   "metadata": {},
   "source": [
    "# 9. Dataset 3"
   ]
  },
  {
   "attachments": {},
   "cell_type": "markdown",
   "metadata": {},
   "source": [
    "## 9.1 Prepare Dataframe 3"
   ]
  },
  {
   "cell_type": "code",
   "execution_count": 25,
   "metadata": {},
   "outputs": [
    {
     "name": "stdout",
     "output_type": "stream",
     "text": [
      "Preprocessing Pipeline: Transform\n"
     ]
    }
   ],
   "source": [
    "df3_prepro, df3_y = preprocessing(df3.drop(columns=['Fire Alarm'])), df3['Fire Alarm']"
   ]
  },
  {
   "attachments": {},
   "cell_type": "markdown",
   "metadata": {},
   "source": [
    "## 9.2 Predict Dataframe 3"
   ]
  },
  {
   "cell_type": "code",
   "execution_count": 26,
   "metadata": {},
   "outputs": [],
   "source": [
    "ypred_proba, ypred = predict_data(x=df3_prepro, y=df3_y, clf=rf_retrain)"
   ]
  },
  {
   "cell_type": "code",
   "execution_count": 27,
   "metadata": {},
   "outputs": [
    {
     "name": "stdout",
     "output_type": "stream",
     "text": [
      "              precision    recall  f1-score   support\n",
      "\n",
      "           0       0.84      1.00      0.91      5775\n",
      "           1       1.00      0.93      0.96     15103\n",
      "\n",
      "    accuracy                           0.95     20878\n",
      "   macro avg       0.92      0.96      0.94     20878\n",
      "weighted avg       0.96      0.95      0.95     20878\n",
      "\n"
     ]
    }
   ],
   "source": [
    "print(classification_report(df3_y, ypred))"
   ]
  }
 ],
 "metadata": {
  "kernelspec": {
   "display_name": "nova",
   "language": "python",
   "name": "python3"
  },
  "language_info": {
   "codemirror_mode": {
    "name": "ipython",
    "version": 3
   },
   "file_extension": ".py",
   "mimetype": "text/x-python",
   "name": "python",
   "nbconvert_exporter": "python",
   "pygments_lexer": "ipython3",
   "version": "3.10.10"
  },
  "orig_nbformat": 4
 },
 "nbformat": 4,
 "nbformat_minor": 2
}
