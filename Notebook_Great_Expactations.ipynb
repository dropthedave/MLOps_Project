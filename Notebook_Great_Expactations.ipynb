{
 "cells": [
  {
   "attachments": {},
   "cell_type": "markdown",
   "metadata": {},
   "source": [
    "# Machine Learning Operations Project\n",
    "The aim of the project is to simulate the realworld process of deploying machine learning models, using the concepts that we have discussed during the classes. This notebook is focuses on the implementation of ``Great Expectations`` with a connected user interface (UI)."
   ]
  },
  {
   "attachments": {},
   "cell_type": "markdown",
   "metadata": {},
   "source": [
    "## Metadata\n",
    "\n",
    "**UTC**:\n",
    "Timestamp UTC seconds\n",
    "\n",
    "**Temperature[C]**:\n",
    "Air Temperature\n",
    "\n",
    "**Humidity[%]**:\n",
    "Air Humidity\n",
    "\n",
    "**TVOC[ppb]**:\n",
    "Total Volatile Organic Compounds; measured in parts per billion\n",
    "\n",
    "**eCO2[ppm]**:\n",
    "CO2 equivalent concentration; calculated from different values like TVOC\n",
    "\n",
    "**Raw H2**:\n",
    "Raw molecular hydrogen; not compensated (Bias, temperature, etc.)\n",
    "\n",
    "**Raw Ethanol**:\n",
    "Raw ethanol gas\n",
    "\n",
    "**Pressure[hPa]**:\n",
    "Air Pressure\n",
    "\n",
    "**PM1.0**:\n",
    "Particulate matter size < 1.0 µm (PM1.0). 1.0 µm < 2.5 µm (PM2.5)\n",
    "\n",
    "**PM2.5**:\n",
    "Particulate matter size < 1.0 µm (PM1.0). 1.0 µm < 2.5 µm (PM2.5)\n",
    "\n",
    "**NC0.5**:\n",
    "Number concentration of particulate matter. This differs from PM because NC gives the actual number of particles in the air. The raw NC is also classified by the particle size: < 0.5 µm (NC0.5); 0.5 µm < 1.0 µm (NC1.0); 1.0 µm < 2.5 µm (NC2.5);\n",
    "\n",
    "**NC1.0**:\n",
    "Number concentration of particulate matter. This differs from PM because NC gives the actual number of particles in the air. The raw NC is also classified by the particle size: < 0.5 µm (NC0.5); 0.5 µm < 1.0 µm (NC1.0); 1.0 µm < 2.5 µm (NC2.5);\n",
    "\n",
    "**NC2.5**:\n",
    "Number concentration of particulate matter. This differs from PM because NC gives the actual number of particles in the air. The raw NC is also classified by the particle size: < 0.5 µm (NC0.5); 0.5 µm < 1.0 µm (NC1.0); 1.0 µm < 2.5 µm (NC2.5);\n",
    "\n",
    "**CNT**:\n",
    "Sample counter\n",
    "\n",
    "**Fire Alarm (Target)**:\n",
    "Ground truth is \"1\" if a fire is there"
   ]
  },
  {
   "attachments": {},
   "cell_type": "markdown",
   "metadata": {},
   "source": [
    "## Imports"
   ]
  },
  {
   "cell_type": "code",
   "execution_count": null,
   "metadata": {},
   "outputs": [],
   "source": [
    "# Basic imports\n",
    "import os\n",
    "import pandas as pd\n",
    "import numpy as np\n",
    "import seaborn as sns\n",
    "from typing import Tuple\n",
    "import matplotlib.pyplot as plt\n",
    "# import great_expectations.jupyter_ux"
   ]
  },
  {
   "cell_type": "code",
   "execution_count": null,
   "metadata": {},
   "outputs": [],
   "source": [
    "# dataframe = pd.read_csv('Data/smoke_detection.csv', index_col=[0])"
   ]
  },
  {
   "cell_type": "code",
   "execution_count": null,
   "metadata": {},
   "outputs": [],
   "source": [
    "# def split_dataframe(dataframe: pd.DataFrame, output_filenames: list) -> None:\n",
    "#     # Order dataframe by month\n",
    "#     dataframe = dataframe.sort_values(by='UTC').reset_index(drop=True)\n",
    "\n",
    "#     # Split dataframe into 3 equal-sized datasets\n",
    "#     size = len(dataframe)\n",
    "#     third = size // 3\n",
    "\n",
    "#     # Split the dataframe\n",
    "#     dataframe_1 = dataframe.iloc[:third]\n",
    "#     dataframe_2 = dataframe.iloc[third:third*2]\n",
    "#     dataframe_3 = dataframe.iloc[third*2:]\n",
    "\n",
    "#     # Save each split dataframe as a CSV file\n",
    "#     for df, filename in zip([dataframe_1, dataframe_2, dataframe_3], output_filenames):\n",
    "#         df.to_csv(filename, index=False)\n",
    "\n",
    "# # Apply function\n",
    "# split_dataframe(dataframe, ['df_one.csv', 'df_two.csv', 'df_three.csv'])"
   ]
  },
  {
   "attachments": {},
   "cell_type": "markdown",
   "metadata": {},
   "source": [
    "# <span style=\"color: #FE6C1B;\">Great Expectations</span>\n"
   ]
  },
  {
   "attachments": {},
   "cell_type": "markdown",
   "metadata": {},
   "source": [
    "## Terminologies\n",
    "\n",
    "*Context*: A context in is the main object that manages the overall configuration and execution of the data expectations. It serves as a container for storing and organizing expectations, data sources, and validation results. The context allows to define, execute, and manage our data expectations.\n",
    "\n",
    "*Validator*: A validator is responsible for evaluating expectations on a given batch of data. Validators are used to validate data against a set of predefined expectations. They help to assess data quality, perform data validation, and monitor data pipelines.\n",
    "\n",
    "*Suite*: An Expectation Suite is a collection of expectations that define the desired properties and characteristics of our data. It serves as a set of rules against which your data can be validated. The suite contains a set of expectations that can be applied to one or more batches of data. \n",
    "\n",
    "*Batch*: A batch represents a subset of data that we want to evaluate against our expectations. It can be a collection of rows, a partitioned dataset, a file, a table, or any other logical grouping of data. Batches are used as inputs to validation processes and contain the data you want to validate.\n",
    "\n",
    "*Checkpoint*: A Checkpoint is a way to operationalize data validation using Expectation Suites. It allows you to define a pipeline-like flow for performing data validation on batches of data. It helps automate the validation process by defining the steps to be executed on data batches and tracking the results."
   ]
  },
  {
   "attachments": {},
   "cell_type": "markdown",
   "metadata": {},
   "source": [
    "## Installation\n",
    "\n",
    "- Open Anaconda Prompt Terminal\n",
    "- After satisfying ``!pip install great_expectations``, run ``great_expectations init`` and confirm with 'Y'\n",
    "- Verify the installation by running the version ``!great_expectations --version``\n",
    "- Our version used: version 0.16.13\n",
    "\n",
    "\n",
    "More information: https://docs.greatexpectations.io/docs/tutorials/quickstart/"
   ]
  },
  {
   "cell_type": "code",
   "execution_count": null,
   "metadata": {},
   "outputs": [
    {
     "name": "stdout",
     "output_type": "stream",
     "text": [
      ".gitignore\n",
      "checkpoints\n",
      "expectations\n",
      "great_expectations.yml\n",
      "plugins\n",
      "profilers\n",
      "uncommitted\n"
     ]
    }
   ],
   "source": [
    "# After setting up great_expectations init\n",
    "for i in os.listdir('/Users/jlutt/great_expectations'):\n",
    "    print(i)"
   ]
  },
  {
   "attachments": {},
   "cell_type": "markdown",
   "metadata": {},
   "source": [
    "## Getting started"
   ]
  },
  {
   "cell_type": "code",
   "execution_count": null,
   "metadata": {},
   "outputs": [
    {
     "data": {
      "application/vnd.jupyter.widget-view+json": {
       "model_id": "61b2d3f8665d420f9d3166a5047cf04a",
       "version_major": 2,
       "version_minor": 0
      },
      "text/plain": [
       "Calculating Metrics:   0%|          | 0/2 [00:00<?, ?it/s]"
      ]
     },
     "metadata": {},
     "output_type": "display_data"
    },
    {
     "name": "stdout",
     "output_type": "stream",
     "text": [
      "Columns: Unnamed: 0, UTC, Temperature[C], Humidity[%], TVOC[ppb], eCO2[ppm], Raw H2, Raw Ethanol, Pressure[hPa], PM1.0, PM2.5, NC0.5, NC1.0, NC2.5, CNT, Fire Alarm.\n"
     ]
    },
    {
     "data": {
      "application/vnd.jupyter.widget-view+json": {
       "model_id": "0b374d6c65fe4a668b88984938aac6df",
       "version_major": 2,
       "version_minor": 0
      },
      "text/plain": [
       "Calculating Metrics:   0%|          | 0/1 [00:00<?, ?it/s]"
      ]
     },
     "metadata": {},
     "output_type": "display_data"
    },
    {
     "name": "stdout",
     "output_type": "stream",
     "text": [
      "   Unnamed: 0         UTC  Temperature[C]  Humidity[%]  TVOC[ppb]  eCO2[ppm]  \\\n",
      "0           0  1654712187           27.45        43.27         48        488   \n",
      "1           1  1654712188           27.41        43.54         32        457   \n",
      "2           2  1654712189           27.36        43.76         34        455   \n",
      "3           3  1654712190           27.32        43.84         29        454   \n",
      "4           4  1654712191           27.27        43.98         28        456   \n",
      "\n",
      "   Raw H2  Raw Ethanol  Pressure[hPa]  PM1.0  PM2.5  NC0.5  NC1.0  NC2.5  CNT  \\\n",
      "0   12844        20723        937.586   2.04   2.12  14.05  2.191  0.049    0   \n",
      "1   12857        20743        937.589   2.16   2.24  14.83  2.313  0.052    1   \n",
      "2   12857        20747        937.604   2.19   2.28  15.07  2.350  0.053    2   \n",
      "3   12858        20752        937.610   2.24   2.32  15.39  2.400  0.054    3   \n",
      "4   12860        20751        937.601   2.26   2.35  15.58  2.429  0.055    4   \n",
      "\n",
      "   Fire Alarm  \n",
      "0           0  \n",
      "1           0  \n",
      "2           0  \n",
      "3           1  \n",
      "4           1  \n"
     ]
    }
   ],
   "source": [
    "# Set up\n",
    "import great_expectations as gx\n",
    "from great_expectations.checkpoint import SimpleCheckpoint\n",
    "\n",
    "# Create data context\n",
    "context = gx.get_context(\n",
    "    context_root_dir='/Users/jlutt/great_expectations'\n",
    ")\n",
    "\n",
    "# Connect to data\n",
    "validator = context.sources.pandas_default.read_csv('../data/01_raw/smoke_detection_1.csv')\n",
    "\n",
    "# Extract column names\n",
    "column_names = [f\"{column_name}\" for column_name in validator.columns()]\n",
    "print(f\"Columns: {', '.join(column_names)}.\")\n",
    "print(validator.head(n_rows=5, fetch_all=False))\n",
    "\n",
    "# Create expectation suite\n",
    "expectation_suite_name = \"smoke_detection_suite\"\n",
    "suite = context.create_expectation_suite(expectation_suite_name=expectation_suite_name,overwrite_existing=True)"
   ]
  },
  {
   "attachments": {},
   "cell_type": "markdown",
   "metadata": {},
   "source": [
    "## Expectations\n",
    "Now we use that data source for profiling, validation and documentation. More information regarding expectations, can be found here: https://legacy.docs.greatexpectations.io/en/latest/reference/glossary_of_expectations.html"
   ]
  },
  {
   "cell_type": "code",
   "execution_count": null,
   "metadata": {},
   "outputs": [
    {
     "data": {
      "application/vnd.jupyter.widget-view+json": {
       "model_id": "82a73c9cfbed4329b16bba167d639862",
       "version_major": 2,
       "version_minor": 0
      },
      "text/plain": [
       "Calculating Metrics:   0%|          | 0/3 [00:00<?, ?it/s]"
      ]
     },
     "metadata": {},
     "output_type": "display_data"
    },
    {
     "data": {
      "text/plain": [
       "{\n",
       "  \"meta\": {},\n",
       "  \"result\": {\n",
       "    \"observed_value\": 16\n",
       "  },\n",
       "  \"success\": false,\n",
       "  \"exception_info\": {\n",
       "    \"raised_exception\": false,\n",
       "    \"exception_traceback\": null,\n",
       "    \"exception_message\": null\n",
       "  }\n",
       "}"
      ]
     },
     "execution_count": 28,
     "metadata": {},
     "output_type": "execute_result"
    }
   ],
   "source": [
    "# Use the Validator to create and run an Expectation\n",
    "# Assert column count\n",
    "validator.expect_table_column_count_to_equal(15)"
   ]
  },
  {
   "cell_type": "code",
   "execution_count": null,
   "metadata": {},
   "outputs": [
    {
     "data": {
      "application/vnd.jupyter.widget-view+json": {
       "model_id": "3464343984974bdca0ff4911345fa655",
       "version_major": 2,
       "version_minor": 0
      },
      "text/plain": [
       "Calculating Metrics:   0%|          | 0/1 [00:00<?, ?it/s]"
      ]
     },
     "metadata": {},
     "output_type": "display_data"
    },
    {
     "data": {
      "application/vnd.jupyter.widget-view+json": {
       "model_id": "aec965c2bae34da4ac4bc06ab65580a2",
       "version_major": 2,
       "version_minor": 0
      },
      "text/plain": [
       "Calculating Metrics:   0%|          | 0/1 [00:00<?, ?it/s]"
      ]
     },
     "metadata": {},
     "output_type": "display_data"
    },
    {
     "data": {
      "application/vnd.jupyter.widget-view+json": {
       "model_id": "85e84fa082074207bfc5a6f6511a4106",
       "version_major": 2,
       "version_minor": 0
      },
      "text/plain": [
       "Calculating Metrics:   0%|          | 0/1 [00:00<?, ?it/s]"
      ]
     },
     "metadata": {},
     "output_type": "display_data"
    },
    {
     "data": {
      "application/vnd.jupyter.widget-view+json": {
       "model_id": "31b0c4ee0e9d4fbc9c90c05be3cc7cb8",
       "version_major": 2,
       "version_minor": 0
      },
      "text/plain": [
       "Calculating Metrics:   0%|          | 0/1 [00:00<?, ?it/s]"
      ]
     },
     "metadata": {},
     "output_type": "display_data"
    },
    {
     "data": {
      "application/vnd.jupyter.widget-view+json": {
       "model_id": "07e7d9042d5a405bb14818bf6856ba52",
       "version_major": 2,
       "version_minor": 0
      },
      "text/plain": [
       "Calculating Metrics:   0%|          | 0/1 [00:00<?, ?it/s]"
      ]
     },
     "metadata": {},
     "output_type": "display_data"
    },
    {
     "data": {
      "application/vnd.jupyter.widget-view+json": {
       "model_id": "2eb66f01c75c4dee94fcb6b8fd16ec09",
       "version_major": 2,
       "version_minor": 0
      },
      "text/plain": [
       "Calculating Metrics:   0%|          | 0/1 [00:00<?, ?it/s]"
      ]
     },
     "metadata": {},
     "output_type": "display_data"
    },
    {
     "data": {
      "application/vnd.jupyter.widget-view+json": {
       "model_id": "f6c1d13584194847a366c7cc4d0be3f9",
       "version_major": 2,
       "version_minor": 0
      },
      "text/plain": [
       "Calculating Metrics:   0%|          | 0/1 [00:00<?, ?it/s]"
      ]
     },
     "metadata": {},
     "output_type": "display_data"
    },
    {
     "data": {
      "application/vnd.jupyter.widget-view+json": {
       "model_id": "c5eaf052d6c04d58b2cfcaad8adc59ab",
       "version_major": 2,
       "version_minor": 0
      },
      "text/plain": [
       "Calculating Metrics:   0%|          | 0/1 [00:00<?, ?it/s]"
      ]
     },
     "metadata": {},
     "output_type": "display_data"
    },
    {
     "data": {
      "application/vnd.jupyter.widget-view+json": {
       "model_id": "a0a89f40782f4f30a4b2bf53b7acb972",
       "version_major": 2,
       "version_minor": 0
      },
      "text/plain": [
       "Calculating Metrics:   0%|          | 0/1 [00:00<?, ?it/s]"
      ]
     },
     "metadata": {},
     "output_type": "display_data"
    },
    {
     "data": {
      "application/vnd.jupyter.widget-view+json": {
       "model_id": "311c66e5e9f44f7999e2bf84876423ec",
       "version_major": 2,
       "version_minor": 0
      },
      "text/plain": [
       "Calculating Metrics:   0%|          | 0/1 [00:00<?, ?it/s]"
      ]
     },
     "metadata": {},
     "output_type": "display_data"
    },
    {
     "data": {
      "application/vnd.jupyter.widget-view+json": {
       "model_id": "c88fb3c6f8454e33992e440aa62ac7bc",
       "version_major": 2,
       "version_minor": 0
      },
      "text/plain": [
       "Calculating Metrics:   0%|          | 0/1 [00:00<?, ?it/s]"
      ]
     },
     "metadata": {},
     "output_type": "display_data"
    },
    {
     "data": {
      "application/vnd.jupyter.widget-view+json": {
       "model_id": "f7291351c19d42258ef296d38589ce4a",
       "version_major": 2,
       "version_minor": 0
      },
      "text/plain": [
       "Calculating Metrics:   0%|          | 0/1 [00:00<?, ?it/s]"
      ]
     },
     "metadata": {},
     "output_type": "display_data"
    },
    {
     "data": {
      "application/vnd.jupyter.widget-view+json": {
       "model_id": "147a654e2e0446d88464084052b3dba8",
       "version_major": 2,
       "version_minor": 0
      },
      "text/plain": [
       "Calculating Metrics:   0%|          | 0/1 [00:00<?, ?it/s]"
      ]
     },
     "metadata": {},
     "output_type": "display_data"
    },
    {
     "data": {
      "application/vnd.jupyter.widget-view+json": {
       "model_id": "02d1958b159d460f817f6983a9b89c5b",
       "version_major": 2,
       "version_minor": 0
      },
      "text/plain": [
       "Calculating Metrics:   0%|          | 0/1 [00:00<?, ?it/s]"
      ]
     },
     "metadata": {},
     "output_type": "display_data"
    },
    {
     "data": {
      "application/vnd.jupyter.widget-view+json": {
       "model_id": "7196ab7ac21140eb82950fd3d3250495",
       "version_major": 2,
       "version_minor": 0
      },
      "text/plain": [
       "Calculating Metrics:   0%|          | 0/1 [00:00<?, ?it/s]"
      ]
     },
     "metadata": {},
     "output_type": "display_data"
    },
    {
     "data": {
      "text/plain": [
       "{\n",
       "  \"meta\": {},\n",
       "  \"result\": {\n",
       "    \"observed_value\": \"int64\"\n",
       "  },\n",
       "  \"success\": true,\n",
       "  \"exception_info\": {\n",
       "    \"raised_exception\": false,\n",
       "    \"exception_traceback\": null,\n",
       "    \"exception_message\": null\n",
       "  }\n",
       "}"
      ]
     },
     "execution_count": 29,
     "metadata": {},
     "output_type": "execute_result"
    }
   ],
   "source": [
    "# Assert data types\n",
    "validator.expect_column_values_to_be_of_type(\"UTC\", \"int64\")\n",
    "validator.expect_column_values_to_be_of_type(\"Temperature[C]\", \"float\")\n",
    "validator.expect_column_values_to_be_of_type(\"Humidity[%]\", \"float\")\n",
    "validator.expect_column_values_to_be_of_type(\"TVOC[ppb]\", \"int64\")\n",
    "validator.expect_column_values_to_be_of_type(\"eCO2[ppm]\", \"int64\")\n",
    "validator.expect_column_values_to_be_of_type(\"Raw H2\", \"int64\")\n",
    "validator.expect_column_values_to_be_of_type(\"Raw Ethanol\", \"int64\")\n",
    "validator.expect_column_values_to_be_of_type(\"Pressure[hPa]\", \"float\")\n",
    "validator.expect_column_values_to_be_of_type(\"PM1.0\", \"float\")\n",
    "validator.expect_column_values_to_be_of_type(\"PM2.5\", \"float\")\n",
    "validator.expect_column_values_to_be_of_type(\"NC0.5\", \"float\")\n",
    "validator.expect_column_values_to_be_of_type(\"NC1.0\", \"float\")\n",
    "validator.expect_column_values_to_be_of_type(\"NC2.5\", \"float\")\n",
    "validator.expect_column_values_to_be_of_type(\"CNT\", \"int64\")\n",
    "validator.expect_column_values_to_be_of_type(\"Fire Alarm\", \"int64\")"
   ]
  },
  {
   "cell_type": "code",
   "execution_count": null,
   "metadata": {},
   "outputs": [
    {
     "data": {
      "application/vnd.jupyter.widget-view+json": {
       "model_id": "464702cb74bd452abd884dde83ba9351",
       "version_major": 2,
       "version_minor": 0
      },
      "text/plain": [
       "Calculating Metrics:   0%|          | 0/6 [00:00<?, ?it/s]"
      ]
     },
     "metadata": {},
     "output_type": "display_data"
    },
    {
     "data": {
      "application/vnd.jupyter.widget-view+json": {
       "model_id": "098d4a4495ee46679ff1e76f7e9471e4",
       "version_major": 2,
       "version_minor": 0
      },
      "text/plain": [
       "Calculating Metrics:   0%|          | 0/6 [00:00<?, ?it/s]"
      ]
     },
     "metadata": {},
     "output_type": "display_data"
    },
    {
     "data": {
      "application/vnd.jupyter.widget-view+json": {
       "model_id": "b8e542ee2d5a4eca94f4bf81a8d943fa",
       "version_major": 2,
       "version_minor": 0
      },
      "text/plain": [
       "Calculating Metrics:   0%|          | 0/6 [00:00<?, ?it/s]"
      ]
     },
     "metadata": {},
     "output_type": "display_data"
    },
    {
     "data": {
      "application/vnd.jupyter.widget-view+json": {
       "model_id": "af179d5e72c14505996a51bc41e804c3",
       "version_major": 2,
       "version_minor": 0
      },
      "text/plain": [
       "Calculating Metrics:   0%|          | 0/6 [00:00<?, ?it/s]"
      ]
     },
     "metadata": {},
     "output_type": "display_data"
    },
    {
     "data": {
      "application/vnd.jupyter.widget-view+json": {
       "model_id": "1f3b9390f95347c5af3b9cb1b63d6fb5",
       "version_major": 2,
       "version_minor": 0
      },
      "text/plain": [
       "Calculating Metrics:   0%|          | 0/6 [00:00<?, ?it/s]"
      ]
     },
     "metadata": {},
     "output_type": "display_data"
    },
    {
     "data": {
      "application/vnd.jupyter.widget-view+json": {
       "model_id": "3c11e218999d46be9d8e9d530914314f",
       "version_major": 2,
       "version_minor": 0
      },
      "text/plain": [
       "Calculating Metrics:   0%|          | 0/6 [00:00<?, ?it/s]"
      ]
     },
     "metadata": {},
     "output_type": "display_data"
    },
    {
     "data": {
      "application/vnd.jupyter.widget-view+json": {
       "model_id": "a8155f6eb009462b91f34d39d9ff3825",
       "version_major": 2,
       "version_minor": 0
      },
      "text/plain": [
       "Calculating Metrics:   0%|          | 0/6 [00:00<?, ?it/s]"
      ]
     },
     "metadata": {},
     "output_type": "display_data"
    },
    {
     "data": {
      "application/vnd.jupyter.widget-view+json": {
       "model_id": "3e26c7d20d1646c28a2575e235b5bffb",
       "version_major": 2,
       "version_minor": 0
      },
      "text/plain": [
       "Calculating Metrics:   0%|          | 0/6 [00:00<?, ?it/s]"
      ]
     },
     "metadata": {},
     "output_type": "display_data"
    },
    {
     "data": {
      "application/vnd.jupyter.widget-view+json": {
       "model_id": "6c2a30abbd9a41c083de8fc25792d872",
       "version_major": 2,
       "version_minor": 0
      },
      "text/plain": [
       "Calculating Metrics:   0%|          | 0/6 [00:00<?, ?it/s]"
      ]
     },
     "metadata": {},
     "output_type": "display_data"
    },
    {
     "data": {
      "application/vnd.jupyter.widget-view+json": {
       "model_id": "e49f72b3fd2c410ca61318c70999cc50",
       "version_major": 2,
       "version_minor": 0
      },
      "text/plain": [
       "Calculating Metrics:   0%|          | 0/6 [00:00<?, ?it/s]"
      ]
     },
     "metadata": {},
     "output_type": "display_data"
    },
    {
     "data": {
      "application/vnd.jupyter.widget-view+json": {
       "model_id": "c5218ecf991b486fbbb181b4a9fbed00",
       "version_major": 2,
       "version_minor": 0
      },
      "text/plain": [
       "Calculating Metrics:   0%|          | 0/6 [00:00<?, ?it/s]"
      ]
     },
     "metadata": {},
     "output_type": "display_data"
    },
    {
     "data": {
      "application/vnd.jupyter.widget-view+json": {
       "model_id": "ef904174cb5246f5baebedeb23a74799",
       "version_major": 2,
       "version_minor": 0
      },
      "text/plain": [
       "Calculating Metrics:   0%|          | 0/6 [00:00<?, ?it/s]"
      ]
     },
     "metadata": {},
     "output_type": "display_data"
    },
    {
     "data": {
      "application/vnd.jupyter.widget-view+json": {
       "model_id": "ead02c87a9064501974b00353952691a",
       "version_major": 2,
       "version_minor": 0
      },
      "text/plain": [
       "Calculating Metrics:   0%|          | 0/6 [00:00<?, ?it/s]"
      ]
     },
     "metadata": {},
     "output_type": "display_data"
    },
    {
     "data": {
      "application/vnd.jupyter.widget-view+json": {
       "model_id": "e421a3c442404a5b9989ef5b3a24a043",
       "version_major": 2,
       "version_minor": 0
      },
      "text/plain": [
       "Calculating Metrics:   0%|          | 0/6 [00:00<?, ?it/s]"
      ]
     },
     "metadata": {},
     "output_type": "display_data"
    },
    {
     "data": {
      "application/vnd.jupyter.widget-view+json": {
       "model_id": "1a7ff3a8bbb54dd2a389acab8310958d",
       "version_major": 2,
       "version_minor": 0
      },
      "text/plain": [
       "Calculating Metrics:   0%|          | 0/6 [00:00<?, ?it/s]"
      ]
     },
     "metadata": {},
     "output_type": "display_data"
    },
    {
     "data": {
      "application/vnd.jupyter.widget-view+json": {
       "model_id": "d1a505cdbe354a018ed23e05298d1285",
       "version_major": 2,
       "version_minor": 0
      },
      "text/plain": [
       "Calculating Metrics:   0%|          | 0/6 [00:00<?, ?it/s]"
      ]
     },
     "metadata": {},
     "output_type": "display_data"
    }
   ],
   "source": [
    " # Assert no missing values\n",
    "for column_name in column_names:\n",
    "    validator.expect_column_values_to_not_be_null(column_name)"
   ]
  },
  {
   "cell_type": "code",
   "execution_count": null,
   "metadata": {},
   "outputs": [
    {
     "data": {
      "application/vnd.jupyter.widget-view+json": {
       "model_id": "702d8b844d3c4bc49d56aa16662deecb",
       "version_major": 2,
       "version_minor": 0
      },
      "text/plain": [
       "Calculating Metrics:   0%|          | 0/7 [00:00<?, ?it/s]"
      ]
     },
     "metadata": {},
     "output_type": "display_data"
    }
   ],
   "source": [
    "# Assert relationships between columns\n",
    "validator.expect_column_pair_values_A_to_be_greater_than_B(\"PM2.5\", \"PM1.0\").success = False"
   ]
  },
  {
   "cell_type": "code",
   "execution_count": 32,
   "metadata": {},
   "outputs": [
    {
     "data": {
      "application/vnd.jupyter.widget-view+json": {
       "model_id": "7a9fbbd0cc1c4f758fcaaebd3b22324c",
       "version_major": 2,
       "version_minor": 0
      },
      "text/plain": [
       "Calculating Metrics:   0%|          | 0/8 [00:00<?, ?it/s]"
      ]
     },
     "metadata": {},
     "output_type": "display_data"
    },
    {
     "data": {
      "text/plain": [
       "{\n",
       "  \"meta\": {},\n",
       "  \"result\": {\n",
       "    \"element_count\": 31315,\n",
       "    \"unexpected_count\": 0,\n",
       "    \"unexpected_percent\": 0.0,\n",
       "    \"partial_unexpected_list\": [],\n",
       "    \"missing_count\": 0,\n",
       "    \"missing_percent\": 0.0,\n",
       "    \"unexpected_percent_total\": 0.0,\n",
       "    \"unexpected_percent_nonmissing\": 0.0\n",
       "  },\n",
       "  \"success\": true,\n",
       "  \"exception_info\": {\n",
       "    \"raised_exception\": false,\n",
       "    \"exception_traceback\": null,\n",
       "    \"exception_message\": null\n",
       "  }\n",
       "}"
      ]
     },
     "execution_count": 32,
     "metadata": {},
     "output_type": "execute_result"
    }
   ],
   "source": [
    "# Assert target variable\n",
    "validator.expect_column_values_to_be_in_set(\"Fire Alarm\", [0, 1])"
   ]
  },
  {
   "cell_type": "code",
   "execution_count": 33,
   "metadata": {},
   "outputs": [
    {
     "data": {
      "application/vnd.jupyter.widget-view+json": {
       "model_id": "9f6f1b28d1d8482d863cfbd02ec6fd6f",
       "version_major": 2,
       "version_minor": 0
      },
      "text/plain": [
       "Calculating Metrics:   0%|          | 0/8 [00:00<?, ?it/s]"
      ]
     },
     "metadata": {},
     "output_type": "display_data"
    },
    {
     "data": {
      "application/vnd.jupyter.widget-view+json": {
       "model_id": "ca6e08978fdc470ca21605650df95ef3",
       "version_major": 2,
       "version_minor": 0
      },
      "text/plain": [
       "Calculating Metrics:   0%|          | 0/8 [00:00<?, ?it/s]"
      ]
     },
     "metadata": {},
     "output_type": "display_data"
    },
    {
     "data": {
      "application/vnd.jupyter.widget-view+json": {
       "model_id": "096a8fd79f0d4b26ba75194725f21129",
       "version_major": 2,
       "version_minor": 0
      },
      "text/plain": [
       "Calculating Metrics:   0%|          | 0/8 [00:00<?, ?it/s]"
      ]
     },
     "metadata": {},
     "output_type": "display_data"
    },
    {
     "data": {
      "application/vnd.jupyter.widget-view+json": {
       "model_id": "12fb042cbb5f48a581df09eb5bcc2eb5",
       "version_major": 2,
       "version_minor": 0
      },
      "text/plain": [
       "Calculating Metrics:   0%|          | 0/8 [00:00<?, ?it/s]"
      ]
     },
     "metadata": {},
     "output_type": "display_data"
    },
    {
     "data": {
      "application/vnd.jupyter.widget-view+json": {
       "model_id": "355d328f03b24ed283e8a29bc1f4fba0",
       "version_major": 2,
       "version_minor": 0
      },
      "text/plain": [
       "Calculating Metrics:   0%|          | 0/8 [00:00<?, ?it/s]"
      ]
     },
     "metadata": {},
     "output_type": "display_data"
    },
    {
     "data": {
      "application/vnd.jupyter.widget-view+json": {
       "model_id": "33ef8885c5a048c3a6bef813e25ce42e",
       "version_major": 2,
       "version_minor": 0
      },
      "text/plain": [
       "Calculating Metrics:   0%|          | 0/8 [00:00<?, ?it/s]"
      ]
     },
     "metadata": {},
     "output_type": "display_data"
    },
    {
     "data": {
      "application/vnd.jupyter.widget-view+json": {
       "model_id": "b453032b7fb9499f8c32d57dd1ba86e1",
       "version_major": 2,
       "version_minor": 0
      },
      "text/plain": [
       "Calculating Metrics:   0%|          | 0/8 [00:00<?, ?it/s]"
      ]
     },
     "metadata": {},
     "output_type": "display_data"
    },
    {
     "data": {
      "application/vnd.jupyter.widget-view+json": {
       "model_id": "7850dc55168c402e8a07a47487875ac1",
       "version_major": 2,
       "version_minor": 0
      },
      "text/plain": [
       "Calculating Metrics:   0%|          | 0/8 [00:00<?, ?it/s]"
      ]
     },
     "metadata": {},
     "output_type": "display_data"
    },
    {
     "data": {
      "application/vnd.jupyter.widget-view+json": {
       "model_id": "d9be7dcaaefa4a50bad0d6ae2b7bb560",
       "version_major": 2,
       "version_minor": 0
      },
      "text/plain": [
       "Calculating Metrics:   0%|          | 0/8 [00:00<?, ?it/s]"
      ]
     },
     "metadata": {},
     "output_type": "display_data"
    },
    {
     "data": {
      "application/vnd.jupyter.widget-view+json": {
       "model_id": "f222e8864abf4a9d9924721214820c57",
       "version_major": 2,
       "version_minor": 0
      },
      "text/plain": [
       "Calculating Metrics:   0%|          | 0/8 [00:00<?, ?it/s]"
      ]
     },
     "metadata": {},
     "output_type": "display_data"
    },
    {
     "data": {
      "text/plain": [
       "{\n",
       "  \"meta\": {},\n",
       "  \"result\": {\n",
       "    \"element_count\": 31315,\n",
       "    \"unexpected_count\": 0,\n",
       "    \"unexpected_percent\": 0.0,\n",
       "    \"partial_unexpected_list\": [],\n",
       "    \"missing_count\": 0,\n",
       "    \"missing_percent\": 0.0,\n",
       "    \"unexpected_percent_total\": 0.0,\n",
       "    \"unexpected_percent_nonmissing\": 0.0\n",
       "  },\n",
       "  \"success\": true,\n",
       "  \"exception_info\": {\n",
       "    \"raised_exception\": false,\n",
       "    \"exception_traceback\": null,\n",
       "    \"exception_message\": null\n",
       "  }\n",
       "}"
      ]
     },
     "execution_count": 33,
     "metadata": {},
     "output_type": "execute_result"
    }
   ],
   "source": [
    "# Assert value ranges to detect outliers\n",
    "validator.expect_column_values_to_be_between(\"Temperature[C]\", min_value=-23, max_value=60)\n",
    "validator.expect_column_values_to_be_between(\"Humidity[%]\", min_value=10, max_value=76)\n",
    "validator.expect_column_values_to_be_between(\"TVOC[ppb]\", min_value=0, max_value=None)\n",
    "validator.expect_column_values_to_be_between(\"eCO2[ppm]\", min_value=0, max_value=None)\n",
    "validator.expect_column_values_to_be_between(\"Pressure[hPa]\", min_value=930, max_value=941)\n",
    "validator.expect_column_values_to_be_between(\"PM1.0\", min_value=0, max_value=None)\n",
    "validator.expect_column_values_to_be_between(\"PM2.5\", min_value=0, max_value=None)\n",
    "validator.expect_column_values_to_be_between(\"NC0.5\", min_value=0, max_value=None)\n",
    "validator.expect_column_values_to_be_between(\"NC1.0\", min_value=0, max_value=None)\n",
    "validator.expect_column_values_to_be_between(\"NC2.5\", min_value=0, max_value=None)"
   ]
  },
  {
   "attachments": {},
   "cell_type": "markdown",
   "metadata": {},
   "source": [
    "## Great Expectations UI"
   ]
  },
  {
   "cell_type": "code",
   "execution_count": 34,
   "metadata": {},
   "outputs": [
    {
     "name": "stdout",
     "output_type": "stream",
     "text": [
      "{\n",
      "  \"meta\": {\n",
      "    \"great_expectations_version\": \"0.16.16\"\n",
      "  },\n",
      "  \"data_asset_type\": null,\n",
      "  \"ge_cloud_id\": null,\n",
      "  \"expectations\": [\n",
      "    {\n",
      "      \"meta\": {},\n",
      "      \"kwargs\": {\n",
      "        \"value\": 15\n",
      "      },\n",
      "      \"expectation_type\": \"expect_table_column_count_to_equal\"\n",
      "    },\n",
      "    {\n",
      "      \"meta\": {},\n",
      "      \"kwargs\": {\n",
      "        \"column\": \"UTC\",\n",
      "        \"type_\": \"int64\"\n",
      "      },\n",
      "      \"expectation_type\": \"expect_column_values_to_be_of_type\"\n",
      "    },\n",
      "    {\n",
      "      \"meta\": {},\n",
      "      \"kwargs\": {\n",
      "        \"column\": \"Temperature[C]\",\n",
      "        \"type_\": \"float\"\n",
      "      },\n",
      "      \"expectation_type\": \"expect_column_values_to_be_of_type\"\n",
      "    },\n",
      "    {\n",
      "      \"meta\": {},\n",
      "      \"kwargs\": {\n",
      "        \"column\": \"Humidity[%]\",\n",
      "        \"type_\": \"float\"\n",
      "      },\n",
      "      \"expectation_type\": \"expect_column_values_to_be_of_type\"\n",
      "    },\n",
      "    {\n",
      "      \"meta\": {},\n",
      "      \"kwargs\": {\n",
      "        \"column\": \"TVOC[ppb]\",\n",
      "        \"type_\": \"int64\"\n",
      "      },\n",
      "      \"expectation_type\": \"expect_column_values_to_be_of_type\"\n",
      "    },\n",
      "    {\n",
      "      \"meta\": {},\n",
      "      \"kwargs\": {\n",
      "        \"column\": \"eCO2[ppm]\",\n",
      "        \"type_\": \"int64\"\n",
      "      },\n",
      "      \"expectation_type\": \"expect_column_values_to_be_of_type\"\n",
      "    },\n",
      "    {\n",
      "      \"meta\": {},\n",
      "      \"kwargs\": {\n",
      "        \"column\": \"Raw H2\",\n",
      "        \"type_\": \"int64\"\n",
      "      },\n",
      "      \"expectation_type\": \"expect_column_values_to_be_of_type\"\n",
      "    },\n",
      "    {\n",
      "      \"meta\": {},\n",
      "      \"kwargs\": {\n",
      "        \"column\": \"Raw Ethanol\",\n",
      "        \"type_\": \"int64\"\n",
      "      },\n",
      "      \"expectation_type\": \"expect_column_values_to_be_of_type\"\n",
      "    },\n",
      "    {\n",
      "      \"meta\": {},\n",
      "      \"kwargs\": {\n",
      "        \"column\": \"Pressure[hPa]\",\n",
      "        \"type_\": \"float\"\n",
      "      },\n",
      "      \"expectation_type\": \"expect_column_values_to_be_of_type\"\n",
      "    },\n",
      "    {\n",
      "      \"meta\": {},\n",
      "      \"kwargs\": {\n",
      "        \"column\": \"PM1.0\",\n",
      "        \"type_\": \"float\"\n",
      "      },\n",
      "      \"expectation_type\": \"expect_column_values_to_be_of_type\"\n",
      "    },\n",
      "    {\n",
      "      \"meta\": {},\n",
      "      \"kwargs\": {\n",
      "        \"column\": \"PM2.5\",\n",
      "        \"type_\": \"float\"\n",
      "      },\n",
      "      \"expectation_type\": \"expect_column_values_to_be_of_type\"\n",
      "    },\n",
      "    {\n",
      "      \"meta\": {},\n",
      "      \"kwargs\": {\n",
      "        \"column\": \"NC0.5\",\n",
      "        \"type_\": \"float\"\n",
      "      },\n",
      "      \"expectation_type\": \"expect_column_values_to_be_of_type\"\n",
      "    },\n",
      "    {\n",
      "      \"meta\": {},\n",
      "      \"kwargs\": {\n",
      "        \"column\": \"NC1.0\",\n",
      "        \"type_\": \"float\"\n",
      "      },\n",
      "      \"expectation_type\": \"expect_column_values_to_be_of_type\"\n",
      "    },\n",
      "    {\n",
      "      \"meta\": {},\n",
      "      \"kwargs\": {\n",
      "        \"column\": \"NC2.5\",\n",
      "        \"type_\": \"float\"\n",
      "      },\n",
      "      \"expectation_type\": \"expect_column_values_to_be_of_type\"\n",
      "    },\n",
      "    {\n",
      "      \"meta\": {},\n",
      "      \"kwargs\": {\n",
      "        \"column\": \"CNT\",\n",
      "        \"type_\": \"int64\"\n",
      "      },\n",
      "      \"expectation_type\": \"expect_column_values_to_be_of_type\"\n",
      "    },\n",
      "    {\n",
      "      \"meta\": {},\n",
      "      \"kwargs\": {\n",
      "        \"column\": \"Fire Alarm\",\n",
      "        \"type_\": \"int64\"\n",
      "      },\n",
      "      \"expectation_type\": \"expect_column_values_to_be_of_type\"\n",
      "    },\n",
      "    {\n",
      "      \"meta\": {},\n",
      "      \"kwargs\": {\n",
      "        \"column\": \"Unnamed: 0\"\n",
      "      },\n",
      "      \"expectation_type\": \"expect_column_values_to_not_be_null\"\n",
      "    },\n",
      "    {\n",
      "      \"meta\": {},\n",
      "      \"kwargs\": {\n",
      "        \"column\": \"UTC\"\n",
      "      },\n",
      "      \"expectation_type\": \"expect_column_values_to_not_be_null\"\n",
      "    },\n",
      "    {\n",
      "      \"meta\": {},\n",
      "      \"kwargs\": {\n",
      "        \"column\": \"Temperature[C]\"\n",
      "      },\n",
      "      \"expectation_type\": \"expect_column_values_to_not_be_null\"\n",
      "    },\n",
      "    {\n",
      "      \"meta\": {},\n",
      "      \"kwargs\": {\n",
      "        \"column\": \"Humidity[%]\"\n",
      "      },\n",
      "      \"expectation_type\": \"expect_column_values_to_not_be_null\"\n",
      "    },\n",
      "    {\n",
      "      \"meta\": {},\n",
      "      \"kwargs\": {\n",
      "        \"column\": \"TVOC[ppb]\"\n",
      "      },\n",
      "      \"expectation_type\": \"expect_column_values_to_not_be_null\"\n",
      "    },\n",
      "    {\n",
      "      \"meta\": {},\n",
      "      \"kwargs\": {\n",
      "        \"column\": \"eCO2[ppm]\"\n",
      "      },\n",
      "      \"expectation_type\": \"expect_column_values_to_not_be_null\"\n",
      "    },\n",
      "    {\n",
      "      \"meta\": {},\n",
      "      \"kwargs\": {\n",
      "        \"column\": \"Raw H2\"\n",
      "      },\n",
      "      \"expectation_type\": \"expect_column_values_to_not_be_null\"\n",
      "    },\n",
      "    {\n",
      "      \"meta\": {},\n",
      "      \"kwargs\": {\n",
      "        \"column\": \"Raw Ethanol\"\n",
      "      },\n",
      "      \"expectation_type\": \"expect_column_values_to_not_be_null\"\n",
      "    },\n",
      "    {\n",
      "      \"meta\": {},\n",
      "      \"kwargs\": {\n",
      "        \"column\": \"Pressure[hPa]\"\n",
      "      },\n",
      "      \"expectation_type\": \"expect_column_values_to_not_be_null\"\n",
      "    },\n",
      "    {\n",
      "      \"meta\": {},\n",
      "      \"kwargs\": {\n",
      "        \"column\": \"PM1.0\"\n",
      "      },\n",
      "      \"expectation_type\": \"expect_column_values_to_not_be_null\"\n",
      "    },\n",
      "    {\n",
      "      \"meta\": {},\n",
      "      \"kwargs\": {\n",
      "        \"column\": \"PM2.5\"\n",
      "      },\n",
      "      \"expectation_type\": \"expect_column_values_to_not_be_null\"\n",
      "    },\n",
      "    {\n",
      "      \"meta\": {},\n",
      "      \"kwargs\": {\n",
      "        \"column\": \"NC0.5\"\n",
      "      },\n",
      "      \"expectation_type\": \"expect_column_values_to_not_be_null\"\n",
      "    },\n",
      "    {\n",
      "      \"meta\": {},\n",
      "      \"kwargs\": {\n",
      "        \"column\": \"NC1.0\"\n",
      "      },\n",
      "      \"expectation_type\": \"expect_column_values_to_not_be_null\"\n",
      "    },\n",
      "    {\n",
      "      \"meta\": {},\n",
      "      \"kwargs\": {\n",
      "        \"column\": \"NC2.5\"\n",
      "      },\n",
      "      \"expectation_type\": \"expect_column_values_to_not_be_null\"\n",
      "    },\n",
      "    {\n",
      "      \"meta\": {},\n",
      "      \"kwargs\": {\n",
      "        \"column\": \"CNT\"\n",
      "      },\n",
      "      \"expectation_type\": \"expect_column_values_to_not_be_null\"\n",
      "    },\n",
      "    {\n",
      "      \"meta\": {},\n",
      "      \"kwargs\": {\n",
      "        \"column\": \"Fire Alarm\"\n",
      "      },\n",
      "      \"expectation_type\": \"expect_column_values_to_not_be_null\"\n",
      "    },\n",
      "    {\n",
      "      \"meta\": {},\n",
      "      \"kwargs\": {\n",
      "        \"column_A\": \"PM2.5\",\n",
      "        \"column_B\": \"PM1.0\"\n",
      "      },\n",
      "      \"expectation_type\": \"expect_column_pair_values_a_to_be_greater_than_b\"\n",
      "    },\n",
      "    {\n",
      "      \"meta\": {},\n",
      "      \"kwargs\": {\n",
      "        \"column\": \"Fire Alarm\",\n",
      "        \"value_set\": [\n",
      "          0,\n",
      "          1\n",
      "        ]\n",
      "      },\n",
      "      \"expectation_type\": \"expect_column_values_to_be_in_set\"\n",
      "    },\n",
      "    {\n",
      "      \"meta\": {},\n",
      "      \"kwargs\": {\n",
      "        \"min_value\": -23,\n",
      "        \"max_value\": 60,\n",
      "        \"column\": \"Temperature[C]\"\n",
      "      },\n",
      "      \"expectation_type\": \"expect_column_values_to_be_between\"\n",
      "    },\n",
      "    {\n",
      "      \"meta\": {},\n",
      "      \"kwargs\": {\n",
      "        \"min_value\": 10,\n",
      "        \"max_value\": 76,\n",
      "        \"column\": \"Humidity[%]\"\n",
      "      },\n",
      "      \"expectation_type\": \"expect_column_values_to_be_between\"\n",
      "    },\n",
      "    {\n",
      "      \"meta\": {},\n",
      "      \"kwargs\": {\n",
      "        \"min_value\": 0,\n",
      "        \"max_value\": null,\n",
      "        \"column\": \"TVOC[ppb]\"\n",
      "      },\n",
      "      \"expectation_type\": \"expect_column_values_to_be_between\"\n",
      "    },\n",
      "    {\n",
      "      \"meta\": {},\n",
      "      \"kwargs\": {\n",
      "        \"min_value\": 0,\n",
      "        \"max_value\": null,\n",
      "        \"column\": \"eCO2[ppm]\"\n",
      "      },\n",
      "      \"expectation_type\": \"expect_column_values_to_be_between\"\n",
      "    },\n",
      "    {\n",
      "      \"meta\": {},\n",
      "      \"kwargs\": {\n",
      "        \"min_value\": 930,\n",
      "        \"max_value\": 941,\n",
      "        \"column\": \"Pressure[hPa]\"\n",
      "      },\n",
      "      \"expectation_type\": \"expect_column_values_to_be_between\"\n",
      "    },\n",
      "    {\n",
      "      \"meta\": {},\n",
      "      \"kwargs\": {\n",
      "        \"min_value\": 0,\n",
      "        \"max_value\": null,\n",
      "        \"column\": \"PM1.0\"\n",
      "      },\n",
      "      \"expectation_type\": \"expect_column_values_to_be_between\"\n",
      "    },\n",
      "    {\n",
      "      \"meta\": {},\n",
      "      \"kwargs\": {\n",
      "        \"min_value\": 0,\n",
      "        \"max_value\": null,\n",
      "        \"column\": \"PM2.5\"\n",
      "      },\n",
      "      \"expectation_type\": \"expect_column_values_to_be_between\"\n",
      "    },\n",
      "    {\n",
      "      \"meta\": {},\n",
      "      \"kwargs\": {\n",
      "        \"min_value\": 0,\n",
      "        \"max_value\": null,\n",
      "        \"column\": \"NC0.5\"\n",
      "      },\n",
      "      \"expectation_type\": \"expect_column_values_to_be_between\"\n",
      "    },\n",
      "    {\n",
      "      \"meta\": {},\n",
      "      \"kwargs\": {\n",
      "        \"min_value\": 0,\n",
      "        \"max_value\": null,\n",
      "        \"column\": \"NC1.0\"\n",
      "      },\n",
      "      \"expectation_type\": \"expect_column_values_to_be_between\"\n",
      "    },\n",
      "    {\n",
      "      \"meta\": {},\n",
      "      \"kwargs\": {\n",
      "        \"min_value\": 0,\n",
      "        \"max_value\": null,\n",
      "        \"column\": \"NC2.5\"\n",
      "      },\n",
      "      \"expectation_type\": \"expect_column_values_to_be_between\"\n",
      "    }\n",
      "  ],\n",
      "  \"expectation_suite_name\": \"default\"\n",
      "}\n"
     ]
    },
    {
     "ename": "FileNotFoundError",
     "evalue": "[Errno 2] No such file or directory: 'data/09_data_unit_tests/expectations.json'",
     "output_type": "error",
     "traceback": [
      "\u001b[1;31m---------------------------------------------------------------------------\u001b[0m",
      "\u001b[1;31mFileNotFoundError\u001b[0m                         Traceback (most recent call last)",
      "Cell \u001b[1;32mIn[34], line 3\u001b[0m\n\u001b[0;32m      1\u001b[0m \u001b[39m# Review and save our expectation suite\u001b[39;00m\n\u001b[0;32m      2\u001b[0m \u001b[39mprint\u001b[39m(validator\u001b[39m.\u001b[39mget_expectation_suite(discard_failed_expectations\u001b[39m=\u001b[39m\u001b[39mFalse\u001b[39;00m))\n\u001b[1;32m----> 3\u001b[0m validator\u001b[39m.\u001b[39;49msave_expectation_suite(\u001b[39m'\u001b[39;49m\u001b[39mdata/09_data_unit_tests/expectations.json\u001b[39;49m\u001b[39m'\u001b[39;49m)\n\u001b[0;32m      5\u001b[0m \u001b[39m# Create checkpoint\u001b[39;00m\n\u001b[0;32m      6\u001b[0m checkpoint \u001b[39m=\u001b[39m SimpleCheckpoint(\n\u001b[0;32m      7\u001b[0m     \u001b[39m\"\u001b[39m\u001b[39msmoke_detection_checkpoint\u001b[39m\u001b[39m\"\u001b[39m,\n\u001b[0;32m      8\u001b[0m     context,\n\u001b[0;32m      9\u001b[0m     validator\u001b[39m=\u001b[39mvalidator,\n\u001b[0;32m     10\u001b[0m )\n",
      "File \u001b[1;32mc:\\Users\\jlutt\\.conda\\envs\\Programming\\lib\\site-packages\\great_expectations\\validator\\validator.py:1487\u001b[0m, in \u001b[0;36mValidator.save_expectation_suite\u001b[1;34m(self, filepath, discard_failed_expectations, discard_result_format_kwargs, discard_include_config_kwargs, discard_catch_exceptions_kwargs, suppress_warnings)\u001b[0m\n\u001b[0;32m   1485\u001b[0m         \u001b[39mself\u001b[39m\u001b[39m.\u001b[39m_initialize_expectations(expectation_suite\u001b[39m=\u001b[39mupdated_suite)\n\u001b[0;32m   1486\u001b[0m \u001b[39melif\u001b[39;00m filepath \u001b[39mis\u001b[39;00m \u001b[39mnot\u001b[39;00m \u001b[39mNone\u001b[39;00m:\n\u001b[1;32m-> 1487\u001b[0m     \u001b[39mwith\u001b[39;00m \u001b[39mopen\u001b[39;49m(filepath, \u001b[39m\"\u001b[39;49m\u001b[39mw\u001b[39;49m\u001b[39m\"\u001b[39;49m) \u001b[39mas\u001b[39;00m outfile:\n\u001b[0;32m   1488\u001b[0m         json\u001b[39m.\u001b[39mdump(\n\u001b[0;32m   1489\u001b[0m             expectationSuiteSchema\u001b[39m.\u001b[39mdump(expectation_suite),\n\u001b[0;32m   1490\u001b[0m             outfile,\n\u001b[0;32m   1491\u001b[0m             indent\u001b[39m=\u001b[39m\u001b[39m2\u001b[39m,\n\u001b[0;32m   1492\u001b[0m             sort_keys\u001b[39m=\u001b[39m\u001b[39mTrue\u001b[39;00m,\n\u001b[0;32m   1493\u001b[0m         )\n\u001b[0;32m   1494\u001b[0m \u001b[39melse\u001b[39;00m:\n",
      "\u001b[1;31mFileNotFoundError\u001b[0m: [Errno 2] No such file or directory: 'data/09_data_unit_tests/expectations.json'"
     ]
    }
   ],
   "source": [
    "# Review and save our expectation suite\n",
    "print(validator.get_expectation_suite(discard_failed_expectations=False))\n",
    "validator.save_expectation_suite('data/09_data_unit_tests/expectations.json')\n",
    "\n",
    "# Create checkpoint\n",
    "checkpoint = SimpleCheckpoint(\n",
    "    \"smoke_detection_checkpoint\",\n",
    "    context,\n",
    "    validator=validator,\n",
    ")\n",
    "\n",
    "# Run checkpoint to validate data \n",
    "checkpoint_result = checkpoint.run()\n",
    "\n",
    "# View results\n",
    "context.build_data_docs()\n",
    "validation_result_identifier = checkpoint_result.list_validation_result_identifiers()[0]\n",
    "context.open_data_docs(resource_identifier=validation_result_identifier)"
   ]
  },
  {
   "attachments": {},
   "cell_type": "markdown",
   "metadata": {},
   "source": [
    "## References\n",
    "- https://medium.com/@mostsignificant/python-data-validation-made-easy-with-the-great-expectations-package-8d1be266fd3f\n",
    "- https://towardsdatascience.com/great-expectations-automated-testing-for-data-science-and-engineering-teams-1e7c78f1d2d5\n",
    "- https://towardsdatascience.com/a-great-python-library-great-expectations-6ac6d6fe822e\n",
    "- https://github.com/datarootsio/tutorial-great-expectations/blob/main/tutorial_great_expectations.ipynb"
   ]
  },
  {
   "attachments": {},
   "cell_type": "markdown",
   "metadata": {},
   "source": []
  }
 ],
 "metadata": {
  "kernelspec": {
   "display_name": "Python 3 (ipykernel)",
   "language": "python",
   "name": "python3"
  },
  "language_info": {
   "codemirror_mode": {
    "name": "ipython",
    "version": 3
   },
   "file_extension": ".py",
   "mimetype": "text/x-python",
   "name": "python",
   "nbconvert_exporter": "python",
   "pygments_lexer": "ipython3",
   "version": "3.8.16"
  }
 },
 "nbformat": 4,
 "nbformat_minor": 2
}
