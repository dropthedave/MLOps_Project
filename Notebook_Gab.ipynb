{
 "cells": [
  {
   "attachments": {},
   "cell_type": "markdown",
   "metadata": {},
   "source": [
    "# Imports"
   ]
  },
  {
   "cell_type": "code",
   "execution_count": null,
   "metadata": {},
   "outputs": [],
   "source": [
    "# basics\n",
    "import os\n",
    "import pandas as pd\n",
    "import numpy as np\n",
    "import matplotlib.pyplot as plt\n",
    "import seaborn as sns\n",
    "import ast\n",
    "# scikit-learn\n",
    "from sklearn.model_selection import train_test_split\n",
    "from sklearn.pipeline import Pipeline\n",
    "from sklearn.preprocessing import StandardScaler\n",
    "from sklearn.preprocessing import PowerTransformer\n",
    "from sklearn.impute import SimpleImputer\n",
    "from sklearn.model_selection import GridSearchCV\n",
    "from sklearn.linear_model import LogisticRegression\n",
    "from sklearn.tree import DecisionTreeClassifier\n",
    "from sklearn.ensemble import RandomForestClassifier\n",
    "from sklearn.metrics import accuracy_score\n",
    "from sklearn.metrics import precision_score\n",
    "from sklearn.metrics import recall_score\n",
    "from sklearn.metrics import f1_score\n",
    "from sklearn.metrics import classification_report\n",
    "from sklearn.metrics import RocCurveDisplay\n",
    "from imblearn.over_sampling import SMOTE\n",
    "# mlflow\n",
    "import mlflow\n",
    "# great expectations\n",
    "import great_expectations as gx\n",
    "# nannyml\n",
    "import nannyml as nml\n",
    "# termcolor\n",
    "from termcolor import colored\n",
    "from nannyml.chunk import SizeBasedChunker\n",
    "from sklearn.impute import SimpleImputer\n",
    "\n"
   ]
  },
  {
   "attachments": {},
   "cell_type": "markdown",
   "metadata": {},
   "source": [
    "# MLFlow Experiment\n",
    "\n",
    "FIRST: \n",
    "1. open ***mlflow ui*** via terminal"
   ]
  },
  {
   "cell_type": "code",
   "execution_count": 2,
   "metadata": {},
   "outputs": [],
   "source": [
    "# Create a new experiment\n",
    "experiment_name = \"MLOps Project\"\n",
    "\n",
    "# create new experiment if not existing\n",
    "try:\n",
    "    mlflow.create_experiment(experiment_name)\n",
    "    mlflow.set_experiment(experiment_name)\n",
    "# if experiment already exists, set experiment\n",
    "except:\n",
    "    mlflow.set_experiment(experiment_name)"
   ]
  },
  {
   "cell_type": "code",
   "execution_count": 3,
   "metadata": {},
   "outputs": [],
   "source": [
    "# get experiment id\n",
    "experiment_id = mlflow.get_experiment_by_name(experiment_name).experiment_id"
   ]
  },
  {
   "attachments": {},
   "cell_type": "markdown",
   "metadata": {},
   "source": [
    "# Load Data"
   ]
  },
  {
   "cell_type": "code",
   "execution_count": 4,
   "metadata": {},
   "outputs": [],
   "source": [
    "dataframe = pd.read_csv('Data/smoke_detection.csv', index_col=[0])"
   ]
  },
  {
   "attachments": {},
   "cell_type": "markdown",
   "metadata": {},
   "source": [
    "# Split Data\n",
    "\n",
    "To simulate multiple datasets we're going to order the dataset bei the *UTC* column and split it into 3 equal parts"
   ]
  },
  {
   "cell_type": "code",
   "execution_count": 5,
   "metadata": {},
   "outputs": [],
   "source": [
    "def split_dataframe(dataframe: pd.DataFrame) -> tuple[pd.DataFrame, pd.DataFrame, pd.DataFrame]:\n",
    "    # order dataframe by month\n",
    "    dataframe = dataframe.sort_values(by='UTC').reset_index(drop=True)\n",
    "    \n",
    "    # split dataframe into 3 equal sized datasets\n",
    "    dataframe_1 = dataframe.iloc[:int(len(dataframe)/3)]\n",
    "    dataframe_2 = dataframe.iloc[int(len(dataframe)/3):int(len(dataframe)/3)*2]\n",
    "    dataframe_3 = dataframe.iloc[int(len(dataframe)/3)*2:]\n",
    "    \n",
    "    return dataframe_1, dataframe_2, dataframe_3"
   ]
  },
  {
   "cell_type": "code",
   "execution_count": 6,
   "metadata": {},
   "outputs": [],
   "source": [
    "# pandas dataframes\n",
    "df1, df2, df3 = split_dataframe(dataframe)"
   ]
  },
  {
   "cell_type": "code",
   "execution_count": 7,
   "metadata": {},
   "outputs": [
    {
     "name": "stdout",
     "output_type": "stream",
     "text": [
      "(20876, 15)\n",
      "(20876, 15)\n",
      "(20878, 15)\n"
     ]
    }
   ],
   "source": [
    "for i in [df1, df2, df3]:\n",
    "    print(i.shape)"
   ]
  },
  {
   "attachments": {},
   "cell_type": "markdown",
   "metadata": {},
   "source": [
    "# EDA"
   ]
  },
  {
   "cell_type": "code",
   "execution_count": 8,
   "metadata": {},
   "outputs": [
    {
     "name": "stdout",
     "output_type": "stream",
     "text": [
      "Rows: 20876\n",
      "Columns: 15\n"
     ]
    }
   ],
   "source": [
    "print(f'Rows: {df1.shape[0]}\\nColumns: {df1.shape[1]}')"
   ]
  },
  {
   "cell_type": "code",
   "execution_count": 9,
   "metadata": {},
   "outputs": [
    {
     "data": {
      "text/html": [
       "<div>\n",
       "<style scoped>\n",
       "    .dataframe tbody tr th:only-of-type {\n",
       "        vertical-align: middle;\n",
       "    }\n",
       "\n",
       "    .dataframe tbody tr th {\n",
       "        vertical-align: top;\n",
       "    }\n",
       "\n",
       "    .dataframe thead th {\n",
       "        text-align: right;\n",
       "    }\n",
       "</style>\n",
       "<table border=\"1\" class=\"dataframe\">\n",
       "  <thead>\n",
       "    <tr style=\"text-align: right;\">\n",
       "      <th></th>\n",
       "      <th>UTC</th>\n",
       "      <th>Temperature[C]</th>\n",
       "      <th>Humidity[%]</th>\n",
       "      <th>TVOC[ppb]</th>\n",
       "      <th>eCO2[ppm]</th>\n",
       "      <th>Raw H2</th>\n",
       "      <th>Raw Ethanol</th>\n",
       "      <th>Pressure[hPa]</th>\n",
       "      <th>PM1.0</th>\n",
       "      <th>PM2.5</th>\n",
       "      <th>NC0.5</th>\n",
       "      <th>NC1.0</th>\n",
       "      <th>NC2.5</th>\n",
       "      <th>CNT</th>\n",
       "      <th>Fire Alarm</th>\n",
       "    </tr>\n",
       "  </thead>\n",
       "  <tbody>\n",
       "    <tr>\n",
       "      <th>4463</th>\n",
       "      <td>1654716650</td>\n",
       "      <td>50.260</td>\n",
       "      <td>23.67</td>\n",
       "      <td>21523</td>\n",
       "      <td>632</td>\n",
       "      <td>12691</td>\n",
       "      <td>18906</td>\n",
       "      <td>936.882</td>\n",
       "      <td>0.71</td>\n",
       "      <td>0.74</td>\n",
       "      <td>4.90</td>\n",
       "      <td>0.764</td>\n",
       "      <td>0.017</td>\n",
       "      <td>4463</td>\n",
       "      <td>0</td>\n",
       "    </tr>\n",
       "    <tr>\n",
       "      <th>14001</th>\n",
       "      <td>1654741588</td>\n",
       "      <td>-4.456</td>\n",
       "      <td>56.61</td>\n",
       "      <td>319</td>\n",
       "      <td>400</td>\n",
       "      <td>13104</td>\n",
       "      <td>19941</td>\n",
       "      <td>939.427</td>\n",
       "      <td>0.35</td>\n",
       "      <td>0.36</td>\n",
       "      <td>2.39</td>\n",
       "      <td>0.372</td>\n",
       "      <td>0.008</td>\n",
       "      <td>8257</td>\n",
       "      <td>1</td>\n",
       "    </tr>\n",
       "    <tr>\n",
       "      <th>16876</th>\n",
       "      <td>1654744463</td>\n",
       "      <td>7.785</td>\n",
       "      <td>48.37</td>\n",
       "      <td>1005</td>\n",
       "      <td>638</td>\n",
       "      <td>12804</td>\n",
       "      <td>19483</td>\n",
       "      <td>939.057</td>\n",
       "      <td>2.53</td>\n",
       "      <td>2.62</td>\n",
       "      <td>17.39</td>\n",
       "      <td>2.711</td>\n",
       "      <td>0.061</td>\n",
       "      <td>11132</td>\n",
       "      <td>1</td>\n",
       "    </tr>\n",
       "    <tr>\n",
       "      <th>885</th>\n",
       "      <td>1654713072</td>\n",
       "      <td>29.210</td>\n",
       "      <td>40.63</td>\n",
       "      <td>83</td>\n",
       "      <td>400</td>\n",
       "      <td>12784</td>\n",
       "      <td>20664</td>\n",
       "      <td>937.550</td>\n",
       "      <td>2.14</td>\n",
       "      <td>2.22</td>\n",
       "      <td>14.73</td>\n",
       "      <td>2.297</td>\n",
       "      <td>0.052</td>\n",
       "      <td>885</td>\n",
       "      <td>0</td>\n",
       "    </tr>\n",
       "    <tr>\n",
       "      <th>16603</th>\n",
       "      <td>1654744190</td>\n",
       "      <td>4.753</td>\n",
       "      <td>53.38</td>\n",
       "      <td>1002</td>\n",
       "      <td>662</td>\n",
       "      <td>12793</td>\n",
       "      <td>19475</td>\n",
       "      <td>939.047</td>\n",
       "      <td>2.92</td>\n",
       "      <td>3.03</td>\n",
       "      <td>20.06</td>\n",
       "      <td>3.129</td>\n",
       "      <td>0.071</td>\n",
       "      <td>10859</td>\n",
       "      <td>1</td>\n",
       "    </tr>\n",
       "  </tbody>\n",
       "</table>\n",
       "</div>"
      ],
      "text/plain": [
       "              UTC  Temperature[C]  Humidity[%]  TVOC[ppb]  eCO2[ppm]  Raw H2  \\\n",
       "4463   1654716650          50.260        23.67      21523        632   12691   \n",
       "14001  1654741588          -4.456        56.61        319        400   13104   \n",
       "16876  1654744463           7.785        48.37       1005        638   12804   \n",
       "885    1654713072          29.210        40.63         83        400   12784   \n",
       "16603  1654744190           4.753        53.38       1002        662   12793   \n",
       "\n",
       "       Raw Ethanol  Pressure[hPa]  PM1.0  PM2.5  NC0.5  NC1.0  NC2.5    CNT  \\\n",
       "4463         18906        936.882   0.71   0.74   4.90  0.764  0.017   4463   \n",
       "14001        19941        939.427   0.35   0.36   2.39  0.372  0.008   8257   \n",
       "16876        19483        939.057   2.53   2.62  17.39  2.711  0.061  11132   \n",
       "885          20664        937.550   2.14   2.22  14.73  2.297  0.052    885   \n",
       "16603        19475        939.047   2.92   3.03  20.06  3.129  0.071  10859   \n",
       "\n",
       "       Fire Alarm  \n",
       "4463            0  \n",
       "14001           1  \n",
       "16876           1  \n",
       "885             0  \n",
       "16603           1  "
      ]
     },
     "execution_count": 9,
     "metadata": {},
     "output_type": "execute_result"
    }
   ],
   "source": [
    "# first look at the data\n",
    "df1.sample(5)"
   ]
  },
  {
   "cell_type": "code",
   "execution_count": 10,
   "metadata": {},
   "outputs": [
    {
     "data": {
      "text/html": [
       "<div>\n",
       "<style scoped>\n",
       "    .dataframe tbody tr th:only-of-type {\n",
       "        vertical-align: middle;\n",
       "    }\n",
       "\n",
       "    .dataframe tbody tr th {\n",
       "        vertical-align: top;\n",
       "    }\n",
       "\n",
       "    .dataframe thead th {\n",
       "        text-align: right;\n",
       "    }\n",
       "</style>\n",
       "<table border=\"1\" class=\"dataframe\">\n",
       "  <thead>\n",
       "    <tr style=\"text-align: right;\">\n",
       "      <th></th>\n",
       "      <th>dtype</th>\n",
       "      <th>count</th>\n",
       "      <th>mean</th>\n",
       "      <th>std</th>\n",
       "      <th>min</th>\n",
       "      <th>25%</th>\n",
       "      <th>50%</th>\n",
       "      <th>75%</th>\n",
       "      <th>max</th>\n",
       "      <th>nulls</th>\n",
       "      <th>empty strings</th>\n",
       "    </tr>\n",
       "  </thead>\n",
       "  <tbody>\n",
       "    <tr>\n",
       "      <th>UTC</th>\n",
       "      <td>int64</td>\n",
       "      <td>20876.0</td>\n",
       "      <td>1.654734e+09</td>\n",
       "      <td>12154.941397</td>\n",
       "      <td>1.654712e+09</td>\n",
       "      <td>1.654717e+09</td>\n",
       "      <td>1.654738e+09</td>\n",
       "      <td>1.654743e+09</td>\n",
       "      <td>1.654748e+09</td>\n",
       "      <td>0</td>\n",
       "      <td>0</td>\n",
       "    </tr>\n",
       "    <tr>\n",
       "      <th>Temperature[C]</th>\n",
       "      <td>float64</td>\n",
       "      <td>20876.0</td>\n",
       "      <td>1.445650e+01</td>\n",
       "      <td>16.777181</td>\n",
       "      <td>-9.276000e+00</td>\n",
       "      <td>-4.094000e+00</td>\n",
       "      <td>1.693150e+01</td>\n",
       "      <td>2.637800e+01</td>\n",
       "      <td>5.993000e+01</td>\n",
       "      <td>0</td>\n",
       "      <td>0</td>\n",
       "    </tr>\n",
       "    <tr>\n",
       "      <th>Humidity[%]</th>\n",
       "      <td>float64</td>\n",
       "      <td>20876.0</td>\n",
       "      <td>4.826455e+01</td>\n",
       "      <td>9.486005</td>\n",
       "      <td>1.074000e+01</td>\n",
       "      <td>4.700000e+01</td>\n",
       "      <td>5.015000e+01</td>\n",
       "      <td>5.336000e+01</td>\n",
       "      <td>7.520000e+01</td>\n",
       "      <td>0</td>\n",
       "      <td>0</td>\n",
       "    </tr>\n",
       "    <tr>\n",
       "      <th>TVOC[ppb]</th>\n",
       "      <td>int64</td>\n",
       "      <td>20876.0</td>\n",
       "      <td>2.311279e+03</td>\n",
       "      <td>9539.882264</td>\n",
       "      <td>0.000000e+00</td>\n",
       "      <td>6.700000e+01</td>\n",
       "      <td>2.220000e+02</td>\n",
       "      <td>1.027000e+03</td>\n",
       "      <td>6.000000e+04</td>\n",
       "      <td>0</td>\n",
       "      <td>0</td>\n",
       "    </tr>\n",
       "    <tr>\n",
       "      <th>eCO2[ppm]</th>\n",
       "      <td>int64</td>\n",
       "      <td>20876.0</td>\n",
       "      <td>6.927393e+02</td>\n",
       "      <td>1925.904927</td>\n",
       "      <td>4.000000e+02</td>\n",
       "      <td>4.000000e+02</td>\n",
       "      <td>4.000000e+02</td>\n",
       "      <td>5.090000e+02</td>\n",
       "      <td>3.918500e+04</td>\n",
       "      <td>0</td>\n",
       "      <td>0</td>\n",
       "    </tr>\n",
       "    <tr>\n",
       "      <th>Raw H2</th>\n",
       "      <td>int64</td>\n",
       "      <td>20876.0</td>\n",
       "      <td>1.295284e+04</td>\n",
       "      <td>318.702438</td>\n",
       "      <td>1.066800e+04</td>\n",
       "      <td>1.279400e+04</td>\n",
       "      <td>1.286800e+04</td>\n",
       "      <td>1.315100e+04</td>\n",
       "      <td>1.380300e+04</td>\n",
       "      <td>0</td>\n",
       "      <td>0</td>\n",
       "    </tr>\n",
       "    <tr>\n",
       "      <th>Raw Ethanol</th>\n",
       "      <td>int64</td>\n",
       "      <td>20876.0</td>\n",
       "      <td>1.990383e+04</td>\n",
       "      <td>683.249922</td>\n",
       "      <td>1.531700e+04</td>\n",
       "      <td>1.948400e+04</td>\n",
       "      <td>1.997600e+04</td>\n",
       "      <td>2.019125e+04</td>\n",
       "      <td>2.141000e+04</td>\n",
       "      <td>0</td>\n",
       "      <td>0</td>\n",
       "    </tr>\n",
       "    <tr>\n",
       "      <th>Pressure[hPa]</th>\n",
       "      <td>float64</td>\n",
       "      <td>20876.0</td>\n",
       "      <td>9.387859e+02</td>\n",
       "      <td>1.004823</td>\n",
       "      <td>9.366240e+02</td>\n",
       "      <td>9.375470e+02</td>\n",
       "      <td>9.390970e+02</td>\n",
       "      <td>9.396340e+02</td>\n",
       "      <td>9.398610e+02</td>\n",
       "      <td>0</td>\n",
       "      <td>0</td>\n",
       "    </tr>\n",
       "    <tr>\n",
       "      <th>PM1.0</th>\n",
       "      <td>float64</td>\n",
       "      <td>20876.0</td>\n",
       "      <td>1.130871e+02</td>\n",
       "      <td>950.738240</td>\n",
       "      <td>0.000000e+00</td>\n",
       "      <td>7.600000e-01</td>\n",
       "      <td>1.820000e+00</td>\n",
       "      <td>2.160000e+00</td>\n",
       "      <td>1.334669e+04</td>\n",
       "      <td>0</td>\n",
       "      <td>0</td>\n",
       "    </tr>\n",
       "    <tr>\n",
       "      <th>PM2.5</th>\n",
       "      <td>float64</td>\n",
       "      <td>20876.0</td>\n",
       "      <td>1.936200e+02</td>\n",
       "      <td>1864.035040</td>\n",
       "      <td>0.000000e+00</td>\n",
       "      <td>8.000000e-01</td>\n",
       "      <td>1.890000e+00</td>\n",
       "      <td>2.240000e+00</td>\n",
       "      <td>4.126298e+04</td>\n",
       "      <td>0</td>\n",
       "      <td>0</td>\n",
       "    </tr>\n",
       "    <tr>\n",
       "      <th>NC0.5</th>\n",
       "      <td>float64</td>\n",
       "      <td>20876.0</td>\n",
       "      <td>5.870627e+02</td>\n",
       "      <td>4728.450840</td>\n",
       "      <td>0.000000e+00</td>\n",
       "      <td>5.230000e+00</td>\n",
       "      <td>1.251000e+01</td>\n",
       "      <td>1.485000e+01</td>\n",
       "      <td>6.148203e+04</td>\n",
       "      <td>0</td>\n",
       "      <td>0</td>\n",
       "    </tr>\n",
       "    <tr>\n",
       "      <th>NC1.0</th>\n",
       "      <td>float64</td>\n",
       "      <td>20876.0</td>\n",
       "      <td>2.124171e+02</td>\n",
       "      <td>2075.544762</td>\n",
       "      <td>0.000000e+00</td>\n",
       "      <td>8.230000e-01</td>\n",
       "      <td>1.952000e+00</td>\n",
       "      <td>2.316000e+00</td>\n",
       "      <td>4.708960e+04</td>\n",
       "      <td>0</td>\n",
       "      <td>0</td>\n",
       "    </tr>\n",
       "    <tr>\n",
       "      <th>NC2.5</th>\n",
       "      <td>float64</td>\n",
       "      <td>20876.0</td>\n",
       "      <td>7.663674e+01</td>\n",
       "      <td>950.600013</td>\n",
       "      <td>0.000000e+00</td>\n",
       "      <td>2.000000e-02</td>\n",
       "      <td>4.400000e-02</td>\n",
       "      <td>5.300000e-02</td>\n",
       "      <td>2.691684e+04</td>\n",
       "      <td>0</td>\n",
       "      <td>0</td>\n",
       "    </tr>\n",
       "    <tr>\n",
       "      <th>CNT</th>\n",
       "      <td>int64</td>\n",
       "      <td>20876.0</td>\n",
       "      <td>6.273953e+03</td>\n",
       "      <td>4356.956119</td>\n",
       "      <td>0.000000e+00</td>\n",
       "      <td>2.609000e+03</td>\n",
       "      <td>5.218500e+03</td>\n",
       "      <td>9.912250e+03</td>\n",
       "      <td>1.513100e+04</td>\n",
       "      <td>0</td>\n",
       "      <td>0</td>\n",
       "    </tr>\n",
       "    <tr>\n",
       "      <th>Fire Alarm</th>\n",
       "      <td>int64</td>\n",
       "      <td>20876.0</td>\n",
       "      <td>5.727151e-01</td>\n",
       "      <td>0.494696</td>\n",
       "      <td>0.000000e+00</td>\n",
       "      <td>0.000000e+00</td>\n",
       "      <td>1.000000e+00</td>\n",
       "      <td>1.000000e+00</td>\n",
       "      <td>1.000000e+00</td>\n",
       "      <td>0</td>\n",
       "      <td>0</td>\n",
       "    </tr>\n",
       "  </tbody>\n",
       "</table>\n",
       "</div>"
      ],
      "text/plain": [
       "                  dtype    count          mean           std           min  \\\n",
       "UTC               int64  20876.0  1.654734e+09  12154.941397  1.654712e+09   \n",
       "Temperature[C]  float64  20876.0  1.445650e+01     16.777181 -9.276000e+00   \n",
       "Humidity[%]     float64  20876.0  4.826455e+01      9.486005  1.074000e+01   \n",
       "TVOC[ppb]         int64  20876.0  2.311279e+03   9539.882264  0.000000e+00   \n",
       "eCO2[ppm]         int64  20876.0  6.927393e+02   1925.904927  4.000000e+02   \n",
       "Raw H2            int64  20876.0  1.295284e+04    318.702438  1.066800e+04   \n",
       "Raw Ethanol       int64  20876.0  1.990383e+04    683.249922  1.531700e+04   \n",
       "Pressure[hPa]   float64  20876.0  9.387859e+02      1.004823  9.366240e+02   \n",
       "PM1.0           float64  20876.0  1.130871e+02    950.738240  0.000000e+00   \n",
       "PM2.5           float64  20876.0  1.936200e+02   1864.035040  0.000000e+00   \n",
       "NC0.5           float64  20876.0  5.870627e+02   4728.450840  0.000000e+00   \n",
       "NC1.0           float64  20876.0  2.124171e+02   2075.544762  0.000000e+00   \n",
       "NC2.5           float64  20876.0  7.663674e+01    950.600013  0.000000e+00   \n",
       "CNT               int64  20876.0  6.273953e+03   4356.956119  0.000000e+00   \n",
       "Fire Alarm        int64  20876.0  5.727151e-01      0.494696  0.000000e+00   \n",
       "\n",
       "                         25%           50%           75%           max  nulls  \\\n",
       "UTC             1.654717e+09  1.654738e+09  1.654743e+09  1.654748e+09      0   \n",
       "Temperature[C] -4.094000e+00  1.693150e+01  2.637800e+01  5.993000e+01      0   \n",
       "Humidity[%]     4.700000e+01  5.015000e+01  5.336000e+01  7.520000e+01      0   \n",
       "TVOC[ppb]       6.700000e+01  2.220000e+02  1.027000e+03  6.000000e+04      0   \n",
       "eCO2[ppm]       4.000000e+02  4.000000e+02  5.090000e+02  3.918500e+04      0   \n",
       "Raw H2          1.279400e+04  1.286800e+04  1.315100e+04  1.380300e+04      0   \n",
       "Raw Ethanol     1.948400e+04  1.997600e+04  2.019125e+04  2.141000e+04      0   \n",
       "Pressure[hPa]   9.375470e+02  9.390970e+02  9.396340e+02  9.398610e+02      0   \n",
       "PM1.0           7.600000e-01  1.820000e+00  2.160000e+00  1.334669e+04      0   \n",
       "PM2.5           8.000000e-01  1.890000e+00  2.240000e+00  4.126298e+04      0   \n",
       "NC0.5           5.230000e+00  1.251000e+01  1.485000e+01  6.148203e+04      0   \n",
       "NC1.0           8.230000e-01  1.952000e+00  2.316000e+00  4.708960e+04      0   \n",
       "NC2.5           2.000000e-02  4.400000e-02  5.300000e-02  2.691684e+04      0   \n",
       "CNT             2.609000e+03  5.218500e+03  9.912250e+03  1.513100e+04      0   \n",
       "Fire Alarm      0.000000e+00  1.000000e+00  1.000000e+00  1.000000e+00      0   \n",
       "\n",
       "                empty strings  \n",
       "UTC                         0  \n",
       "Temperature[C]              0  \n",
       "Humidity[%]                 0  \n",
       "TVOC[ppb]                   0  \n",
       "eCO2[ppm]                   0  \n",
       "Raw H2                      0  \n",
       "Raw Ethanol                 0  \n",
       "Pressure[hPa]               0  \n",
       "PM1.0                       0  \n",
       "PM2.5                       0  \n",
       "NC0.5                       0  \n",
       "NC1.0                       0  \n",
       "NC2.5                       0  \n",
       "CNT                         0  \n",
       "Fire Alarm                  0  "
      ]
     },
     "execution_count": 10,
     "metadata": {},
     "output_type": "execute_result"
    }
   ],
   "source": [
    "# descriptive statistics, data types and missing values\n",
    "def dataset_infos(dataframe: pd.DataFrame = dataframe) -> pd.DataFrame:\n",
    "    # descriptive statistics\n",
    "    descriptives = dataframe.describe(include='all').T\n",
    "\n",
    "    # data types column\n",
    "    descriptives.insert(loc=0, column='dtype', value=dataframe.dtypes)\n",
    "    \n",
    "    # missing values\n",
    "    missing = pd.concat([dataframe.isnull().sum(), dataframe.eq('').sum()], keys=['nulls','empty strings'], axis=1)\n",
    "    \n",
    "    return pd.merge(descriptives, missing, left_index=True, right_index=True)\n",
    "\n",
    "dataset_infos(df1)"
   ]
  },
  {
   "cell_type": "code",
   "execution_count": 11,
   "metadata": {},
   "outputs": [
    {
     "name": "stdout",
     "output_type": "stream",
     "text": [
      "Duplicated Rows: 0\n"
     ]
    }
   ],
   "source": [
    "# duplicate rows\n",
    "print(f'Duplicated Rows: {df1.duplicated().sum()}')"
   ]
  },
  {
   "cell_type": "code",
   "execution_count": 12,
   "metadata": {},
   "outputs": [
    {
     "data": {
      "image/png": "[encoded data removed]",
      "text/plain": [
       "<Figure size 1000x500 with 1 Axes>"
      ]
     },
     "metadata": {},
     "output_type": "display_data"
    }
   ],
   "source": [
    "# plot target distribution (pie chart)\n",
    "def plot_target_distribution(dataframe: pd.DataFrame = dataframe, target='Fire Alarm'):\n",
    "    plt.figure(figsize=(10,5))\n",
    "    plt.pie(dataframe[target].value_counts(), labels=dataframe[target].value_counts().index, autopct='%1.1f%%', startangle=90)\n",
    "    plt.title('Target Distribution')\n",
    "    plt.legend()\n",
    "    plt.show()\n",
    "\n",
    "plot_target_distribution(df1)"
   ]
  },
  {
   "cell_type": "code",
   "execution_count": 13,
   "metadata": {},
   "outputs": [
    {
     "data": {
      "image/png": "[encoded data removed]",
      "text/plain": [
       "<Figure size 1000x500 with 1 Axes>"
      ]
     },
     "metadata": {},
     "output_type": "display_data"
    }
   ],
   "source": [
    "plot_target_distribution(df2)"
   ]
  },
  {
   "cell_type": "code",
   "execution_count": 14,
   "metadata": {},
   "outputs": [
    {
     "data": {
      "image/png": "[encoded data removed]",
      "text/plain": [
       "<Figure size 1000x500 with 1 Axes>"
      ]
     },
     "metadata": {},
     "output_type": "display_data"
    }
   ],
   "source": [
    "plot_target_distribution(df3)"
   ]
  },
  {
   "attachments": {},
   "cell_type": "markdown",
   "metadata": {},
   "source": [
    "# Preprocessing"
   ]
  },
  {
   "cell_type": "code",
   "execution_count": 15,
   "metadata": {},
   "outputs": [],
   "source": [
    "x, y = df1.drop(columns=['Fire Alarm']), df1['Fire Alarm']"
   ]
  },
  {
   "cell_type": "code",
   "execution_count": 16,
   "metadata": {},
   "outputs": [],
   "source": [
    "xtrain, xtest, ytrain, ytest = train_test_split(x, y, test_size=0.2, stratify=y,random_state=420)"
   ]
  },
  {
   "cell_type": "code",
   "execution_count": 17,
   "metadata": {},
   "outputs": [],
   "source": [
    "def preprocessing(x: pd.DataFrame, y: pd.Series = None, reset: bool = False) -> pd.DataFrame:\n",
    "  '''\n",
    "  Preprocessing function\n",
    "  Input: dataframe\n",
    "  Output: transformed data\n",
    "  '''\n",
    "\n",
    "  run_name = \"Preprocessing Pipeline\"\n",
    "\n",
    "  # preprocessing pipeline\n",
    "  pipeline = Pipeline([\n",
    "    ('imputer', SimpleImputer(strategy='median')),\n",
    "    ('scaler', StandardScaler()),\n",
    "    # ('power_transformer', PowerTransformer())\n",
    "    ])\n",
    "    \n",
    "  # Search for preprocessing run\n",
    "  run = mlflow.search_runs(experiment_ids=experiment_id, filter_string=f\"tags.mlflow.runName = '{run_name}'\")\n",
    "  # get run id\n",
    "  run_id = run.iloc[0].run_id if not run.empty else None\n",
    "\n",
    "  # if preprocessing-run does not exist or retrain\n",
    "  if reset or run.empty:\n",
    "    # Delete the last run if it exists\n",
    "    if run_id is not None:\n",
    "        mlflow.delete_run(run_id)\n",
    "        print('Last run deleted')\n",
    "    # drop sample count (CNT) column\n",
    "    x = x.drop(columns=['CNT'])\n",
    "    # convert UTC column to datetime\n",
    "    x['Timestamp'] = pd.to_datetime(x['UTC'], unit='s')\n",
    "    # drop UTC column\n",
    "    x = x.drop(columns=['UTC'])\n",
    "    # create new columns\n",
    "    x['Hour'], x['WeekDay'] = x['Timestamp'].dt.hour, x['Timestamp'].dt.dayofweek\n",
    "    # drop timestamp column\n",
    "    x = x.drop(columns=['Timestamp'])\n",
    "    # fit & transform pipeline\n",
    "    data_preprocessed = pipeline.fit_transform(x)\n",
    "    # SMOTE\n",
    "    if y is not None:\n",
    "      # smote\n",
    "      smote = SMOTE(random_state=420)\n",
    "      # fit smote\n",
    "      x_smote, y_smote = smote.fit_resample(data_preprocessed, y)\n",
    "    # print fit and transform message\n",
    "    print('Preprocessing Pipeline: fit and transform')\n",
    "    # start run\n",
    "    with mlflow.start_run(run_name=run_name) as run:\n",
    "      # log pipeline\n",
    "      mlflow.sklearn.log_model(pipeline, 'PreprocessingPipeline')\n",
    "      # end run\n",
    "      mlflow.end_run()\n",
    "\n",
    "    return x_smote, y_smote\n",
    "    \n",
    "  # if preprocessing-run exists\n",
    "  else:\n",
    "    # load pipeline\n",
    "    pipeline = mlflow.sklearn.load_model(f'runs:/{run_id}/PreprocessingPipeline')\n",
    "    # drop sample count (CNT) column\n",
    "    x = x.drop(columns=['CNT'])\n",
    "    # convert UTC column to datetime\n",
    "    x['Timestamp'] = pd.to_datetime(x['UTC'], unit='s')\n",
    "    # drop UTC column\n",
    "    x = x.drop(columns=['UTC'])\n",
    "    # create new columns\n",
    "    x['Hour'], x['WeekDay'] = x['Timestamp'].dt.hour, x['Timestamp'].dt.dayofweek\n",
    "    # drop timestamp column\n",
    "    x = x.drop(columns=['Timestamp'])\n",
    "    # transform data\n",
    "    data_preprocessed = pipeline.transform(x)\n",
    "    # print transform message\n",
    "    print('Preprocessing Pipeline: transform')\n",
    "    # only return x (no smote on new data)\n",
    "    return data_preprocessed"
   ]
  },
  {
   "cell_type": "code",
   "execution_count": 18,
   "metadata": {},
   "outputs": [
    {
     "name": "stdout",
     "output_type": "stream",
     "text": [
      "Last run deleted\n",
      "Preprocessing Pipeline: fit and transform\n"
     ]
    },
    {
     "name": "stderr",
     "output_type": "stream",
     "text": [
      "2023/06/11 17:51:33 WARNING mlflow.sklearn: Model was missing function: predict. Not logging python_function flavor!\n"
     ]
    }
   ],
   "source": [
    "# preprocess training data\n",
    "xtrain_prepro, ytrain_prepro = preprocessing(xtrain, ytrain, reset=True)\n"
   ]
  },
  {
   "cell_type": "code",
   "execution_count": 19,
   "metadata": {},
   "outputs": [
    {
     "name": "stdout",
     "output_type": "stream",
     "text": [
      "Preprocessing Pipeline: transform\n"
     ]
    }
   ],
   "source": [
    "# preprocess test data\n",
    "xtest_prepro = preprocessing(xtest)"
   ]
  },
  {
   "attachments": {},
   "cell_type": "markdown",
   "metadata": {},
   "source": [
    "# Modelling"
   ]
  },
  {
   "attachments": {},
   "cell_type": "markdown",
   "metadata": {},
   "source": [
    "## Training Multiple Classifiers"
   ]
  },
  {
   "cell_type": "code",
   "execution_count": 20,
   "metadata": {},
   "outputs": [],
   "source": [
    "# fit prediction model on train dataset\n",
    "def classifier_comparison(\n",
    "    xtrain: pd.DataFrame = xtrain_prepro,\n",
    "    ytrain: pd.DataFrame = ytrain_prepro,\n",
    "    xtest: pd.DataFrame = xtest_prepro,\n",
    "    ytest: pd.DataFrame = ytest,\n",
    "    clf: dict = {\n",
    "        'Logistic Regression': LogisticRegression(random_state=420),\n",
    "        'Decision Tree': DecisionTreeClassifier(random_state=420),\n",
    "        'Random Forest': RandomForestClassifier(random_state=420)\n",
    "        }\n",
    "    ):\n",
    "\n",
    "    run_name = \"Classifier Comparison\"\n",
    "\n",
    "    # start run\n",
    "    with mlflow.start_run(run_name=run_name) as run:\n",
    "        # build plot\n",
    "        fig, ax = plt.subplots(1, figsize=(10, 7))\n",
    "        # iterate over classifiers\n",
    "        for name, clf in clf.items():\n",
    "            # fit classifier\n",
    "            clf.fit(xtrain, ytrain)\n",
    "            # plot roc curve\n",
    "            RocCurveDisplay.from_estimator(clf, xtest, ytest, ax=ax, name=name)\n",
    "        ax.set_title('Receiver Operating Characteristic (ROC)')\n",
    "        ax.plot([0,1], [0,1], linestyle='--')\n",
    "        # save plot\n",
    "        plt.savefig('Plots/ROC Curves.png')\n",
    "        # log plot\n",
    "        mlflow.log_figure(fig, 'Plots/ROC Curves.png')\n",
    "        # end run\n",
    "        mlflow.end_run()\n",
    "    \n",
    "    return plt.show()\n"
   ]
  },
  {
   "cell_type": "code",
   "execution_count": 21,
   "metadata": {},
   "outputs": [
    {
     "ename": "FileNotFoundError",
     "evalue": "[Errno 2] No such file or directory: 'Plots/ROC Curves.png'",
     "output_type": "error",
     "traceback": [
      "\u001b[0;31m---------------------------------------------------------------------------\u001b[0m",
      "\u001b[0;31mFileNotFoundError\u001b[0m                         Traceback (most recent call last)",
      "Cell \u001b[0;32mIn[21], line 1\u001b[0m\n\u001b[0;32m----> 1\u001b[0m classifier_comparison(xtrain\u001b[39m=\u001b[39;49mxtrain_prepro, ytrain\u001b[39m=\u001b[39;49mytrain_prepro, xtest\u001b[39m=\u001b[39;49mxtest_prepro, ytest\u001b[39m=\u001b[39;49mytest)\n",
      "Cell \u001b[0;32mIn[20], line 29\u001b[0m, in \u001b[0;36mclassifier_comparison\u001b[0;34m(xtrain, ytrain, xtest, ytest, clf)\u001b[0m\n\u001b[1;32m     27\u001b[0m ax\u001b[39m.\u001b[39mplot([\u001b[39m0\u001b[39m,\u001b[39m1\u001b[39m], [\u001b[39m0\u001b[39m,\u001b[39m1\u001b[39m], linestyle\u001b[39m=\u001b[39m\u001b[39m'\u001b[39m\u001b[39m--\u001b[39m\u001b[39m'\u001b[39m)\n\u001b[1;32m     28\u001b[0m \u001b[39m# save plot\u001b[39;00m\n\u001b[0;32m---> 29\u001b[0m plt\u001b[39m.\u001b[39;49msavefig(\u001b[39m'\u001b[39;49m\u001b[39mPlots/ROC Curves.png\u001b[39;49m\u001b[39m'\u001b[39;49m)\n\u001b[1;32m     30\u001b[0m \u001b[39m# log plot\u001b[39;00m\n\u001b[1;32m     31\u001b[0m mlflow\u001b[39m.\u001b[39mlog_figure(fig, \u001b[39m'\u001b[39m\u001b[39mPlots/ROC Curves.png\u001b[39m\u001b[39m'\u001b[39m)\n",
      "File \u001b[0;32m~/opt/anaconda3/envs/mlops/lib/python3.9/site-packages/matplotlib/pyplot.py:1023\u001b[0m, in \u001b[0;36msavefig\u001b[0;34m(*args, **kwargs)\u001b[0m\n\u001b[1;32m   1020\u001b[0m \u001b[39m@_copy_docstring_and_deprecators\u001b[39m(Figure\u001b[39m.\u001b[39msavefig)\n\u001b[1;32m   1021\u001b[0m \u001b[39mdef\u001b[39;00m \u001b[39msavefig\u001b[39m(\u001b[39m*\u001b[39margs, \u001b[39m*\u001b[39m\u001b[39m*\u001b[39mkwargs):\n\u001b[1;32m   1022\u001b[0m     fig \u001b[39m=\u001b[39m gcf()\n\u001b[0;32m-> 1023\u001b[0m     res \u001b[39m=\u001b[39m fig\u001b[39m.\u001b[39;49msavefig(\u001b[39m*\u001b[39;49margs, \u001b[39m*\u001b[39;49m\u001b[39m*\u001b[39;49mkwargs)\n\u001b[1;32m   1024\u001b[0m     fig\u001b[39m.\u001b[39mcanvas\u001b[39m.\u001b[39mdraw_idle()  \u001b[39m# Need this if 'transparent=True', to reset colors.\u001b[39;00m\n\u001b[1;32m   1025\u001b[0m     \u001b[39mreturn\u001b[39;00m res\n",
      "File \u001b[0;32m~/opt/anaconda3/envs/mlops/lib/python3.9/site-packages/matplotlib/figure.py:3343\u001b[0m, in \u001b[0;36mFigure.savefig\u001b[0;34m(self, fname, transparent, **kwargs)\u001b[0m\n\u001b[1;32m   3339\u001b[0m     \u001b[39mfor\u001b[39;00m ax \u001b[39min\u001b[39;00m \u001b[39mself\u001b[39m\u001b[39m.\u001b[39maxes:\n\u001b[1;32m   3340\u001b[0m         stack\u001b[39m.\u001b[39menter_context(\n\u001b[1;32m   3341\u001b[0m             ax\u001b[39m.\u001b[39mpatch\u001b[39m.\u001b[39m_cm_set(facecolor\u001b[39m=\u001b[39m\u001b[39m'\u001b[39m\u001b[39mnone\u001b[39m\u001b[39m'\u001b[39m, edgecolor\u001b[39m=\u001b[39m\u001b[39m'\u001b[39m\u001b[39mnone\u001b[39m\u001b[39m'\u001b[39m))\n\u001b[0;32m-> 3343\u001b[0m \u001b[39mself\u001b[39;49m\u001b[39m.\u001b[39;49mcanvas\u001b[39m.\u001b[39;49mprint_figure(fname, \u001b[39m*\u001b[39;49m\u001b[39m*\u001b[39;49mkwargs)\n",
      "File \u001b[0;32m~/opt/anaconda3/envs/mlops/lib/python3.9/site-packages/matplotlib/backend_bases.py:2366\u001b[0m, in \u001b[0;36mFigureCanvasBase.print_figure\u001b[0;34m(self, filename, dpi, facecolor, edgecolor, orientation, format, bbox_inches, pad_inches, bbox_extra_artists, backend, **kwargs)\u001b[0m\n\u001b[1;32m   2362\u001b[0m \u001b[39mtry\u001b[39;00m:\n\u001b[1;32m   2363\u001b[0m     \u001b[39m# _get_renderer may change the figure dpi (as vector formats\u001b[39;00m\n\u001b[1;32m   2364\u001b[0m     \u001b[39m# force the figure dpi to 72), so we need to set it again here.\u001b[39;00m\n\u001b[1;32m   2365\u001b[0m     \u001b[39mwith\u001b[39;00m cbook\u001b[39m.\u001b[39m_setattr_cm(\u001b[39mself\u001b[39m\u001b[39m.\u001b[39mfigure, dpi\u001b[39m=\u001b[39mdpi):\n\u001b[0;32m-> 2366\u001b[0m         result \u001b[39m=\u001b[39m print_method(\n\u001b[1;32m   2367\u001b[0m             filename,\n\u001b[1;32m   2368\u001b[0m             facecolor\u001b[39m=\u001b[39;49mfacecolor,\n\u001b[1;32m   2369\u001b[0m             edgecolor\u001b[39m=\u001b[39;49medgecolor,\n\u001b[1;32m   2370\u001b[0m             orientation\u001b[39m=\u001b[39;49morientation,\n\u001b[1;32m   2371\u001b[0m             bbox_inches_restore\u001b[39m=\u001b[39;49m_bbox_inches_restore,\n\u001b[1;32m   2372\u001b[0m             \u001b[39m*\u001b[39;49m\u001b[39m*\u001b[39;49mkwargs)\n\u001b[1;32m   2373\u001b[0m \u001b[39mfinally\u001b[39;00m:\n\u001b[1;32m   2374\u001b[0m     \u001b[39mif\u001b[39;00m bbox_inches \u001b[39mand\u001b[39;00m restore_bbox:\n",
      "File \u001b[0;32m~/opt/anaconda3/envs/mlops/lib/python3.9/site-packages/matplotlib/backend_bases.py:2232\u001b[0m, in \u001b[0;36mFigureCanvasBase._switch_canvas_and_return_print_method.<locals>.<lambda>\u001b[0;34m(*args, **kwargs)\u001b[0m\n\u001b[1;32m   2228\u001b[0m     optional_kws \u001b[39m=\u001b[39m {  \u001b[39m# Passed by print_figure for other renderers.\u001b[39;00m\n\u001b[1;32m   2229\u001b[0m         \u001b[39m\"\u001b[39m\u001b[39mdpi\u001b[39m\u001b[39m\"\u001b[39m, \u001b[39m\"\u001b[39m\u001b[39mfacecolor\u001b[39m\u001b[39m\"\u001b[39m, \u001b[39m\"\u001b[39m\u001b[39medgecolor\u001b[39m\u001b[39m\"\u001b[39m, \u001b[39m\"\u001b[39m\u001b[39morientation\u001b[39m\u001b[39m\"\u001b[39m,\n\u001b[1;32m   2230\u001b[0m         \u001b[39m\"\u001b[39m\u001b[39mbbox_inches_restore\u001b[39m\u001b[39m\"\u001b[39m}\n\u001b[1;32m   2231\u001b[0m     skip \u001b[39m=\u001b[39m optional_kws \u001b[39m-\u001b[39m {\u001b[39m*\u001b[39minspect\u001b[39m.\u001b[39msignature(meth)\u001b[39m.\u001b[39mparameters}\n\u001b[0;32m-> 2232\u001b[0m     print_method \u001b[39m=\u001b[39m functools\u001b[39m.\u001b[39mwraps(meth)(\u001b[39mlambda\u001b[39;00m \u001b[39m*\u001b[39margs, \u001b[39m*\u001b[39m\u001b[39m*\u001b[39mkwargs: meth(\n\u001b[1;32m   2233\u001b[0m         \u001b[39m*\u001b[39;49margs, \u001b[39m*\u001b[39;49m\u001b[39m*\u001b[39;49m{k: v \u001b[39mfor\u001b[39;49;00m k, v \u001b[39min\u001b[39;49;00m kwargs\u001b[39m.\u001b[39;49mitems() \u001b[39mif\u001b[39;49;00m k \u001b[39mnot\u001b[39;49;00m \u001b[39min\u001b[39;49;00m skip}))\n\u001b[1;32m   2234\u001b[0m \u001b[39melse\u001b[39;00m:  \u001b[39m# Let third-parties do as they see fit.\u001b[39;00m\n\u001b[1;32m   2235\u001b[0m     print_method \u001b[39m=\u001b[39m meth\n",
      "File \u001b[0;32m~/opt/anaconda3/envs/mlops/lib/python3.9/site-packages/matplotlib/backends/backend_agg.py:509\u001b[0m, in \u001b[0;36mFigureCanvasAgg.print_png\u001b[0;34m(self, filename_or_obj, metadata, pil_kwargs)\u001b[0m\n\u001b[1;32m    462\u001b[0m \u001b[39mdef\u001b[39;00m \u001b[39mprint_png\u001b[39m(\u001b[39mself\u001b[39m, filename_or_obj, \u001b[39m*\u001b[39m, metadata\u001b[39m=\u001b[39m\u001b[39mNone\u001b[39;00m, pil_kwargs\u001b[39m=\u001b[39m\u001b[39mNone\u001b[39;00m):\n\u001b[1;32m    463\u001b[0m \u001b[39m    \u001b[39m\u001b[39m\"\"\"\u001b[39;00m\n\u001b[1;32m    464\u001b[0m \u001b[39m    Write the figure to a PNG file.\u001b[39;00m\n\u001b[1;32m    465\u001b[0m \n\u001b[0;32m   (...)\u001b[0m\n\u001b[1;32m    507\u001b[0m \u001b[39m        *metadata*, including the default 'Software' key.\u001b[39;00m\n\u001b[1;32m    508\u001b[0m \u001b[39m    \"\"\"\u001b[39;00m\n\u001b[0;32m--> 509\u001b[0m     \u001b[39mself\u001b[39;49m\u001b[39m.\u001b[39;49m_print_pil(filename_or_obj, \u001b[39m\"\u001b[39;49m\u001b[39mpng\u001b[39;49m\u001b[39m\"\u001b[39;49m, pil_kwargs, metadata)\n",
      "File \u001b[0;32m~/opt/anaconda3/envs/mlops/lib/python3.9/site-packages/matplotlib/backends/backend_agg.py:458\u001b[0m, in \u001b[0;36mFigureCanvasAgg._print_pil\u001b[0;34m(self, filename_or_obj, fmt, pil_kwargs, metadata)\u001b[0m\n\u001b[1;32m    453\u001b[0m \u001b[39m\u001b[39m\u001b[39m\"\"\"\u001b[39;00m\n\u001b[1;32m    454\u001b[0m \u001b[39mDraw the canvas, then save it using `.image.imsave` (to which\u001b[39;00m\n\u001b[1;32m    455\u001b[0m \u001b[39m*pil_kwargs* and *metadata* are forwarded).\u001b[39;00m\n\u001b[1;32m    456\u001b[0m \u001b[39m\"\"\"\u001b[39;00m\n\u001b[1;32m    457\u001b[0m FigureCanvasAgg\u001b[39m.\u001b[39mdraw(\u001b[39mself\u001b[39m)\n\u001b[0;32m--> 458\u001b[0m mpl\u001b[39m.\u001b[39;49mimage\u001b[39m.\u001b[39;49mimsave(\n\u001b[1;32m    459\u001b[0m     filename_or_obj, \u001b[39mself\u001b[39;49m\u001b[39m.\u001b[39;49mbuffer_rgba(), \u001b[39mformat\u001b[39;49m\u001b[39m=\u001b[39;49mfmt, origin\u001b[39m=\u001b[39;49m\u001b[39m\"\u001b[39;49m\u001b[39mupper\u001b[39;49m\u001b[39m\"\u001b[39;49m,\n\u001b[1;32m    460\u001b[0m     dpi\u001b[39m=\u001b[39;49m\u001b[39mself\u001b[39;49m\u001b[39m.\u001b[39;49mfigure\u001b[39m.\u001b[39;49mdpi, metadata\u001b[39m=\u001b[39;49mmetadata, pil_kwargs\u001b[39m=\u001b[39;49mpil_kwargs)\n",
      "File \u001b[0;32m~/opt/anaconda3/envs/mlops/lib/python3.9/site-packages/matplotlib/image.py:1689\u001b[0m, in \u001b[0;36mimsave\u001b[0;34m(fname, arr, vmin, vmax, cmap, format, origin, dpi, metadata, pil_kwargs)\u001b[0m\n\u001b[1;32m   1687\u001b[0m pil_kwargs\u001b[39m.\u001b[39msetdefault(\u001b[39m\"\u001b[39m\u001b[39mformat\u001b[39m\u001b[39m\"\u001b[39m, \u001b[39mformat\u001b[39m)\n\u001b[1;32m   1688\u001b[0m pil_kwargs\u001b[39m.\u001b[39msetdefault(\u001b[39m\"\u001b[39m\u001b[39mdpi\u001b[39m\u001b[39m\"\u001b[39m, (dpi, dpi))\n\u001b[0;32m-> 1689\u001b[0m image\u001b[39m.\u001b[39;49msave(fname, \u001b[39m*\u001b[39;49m\u001b[39m*\u001b[39;49mpil_kwargs)\n",
      "File \u001b[0;32m~/opt/anaconda3/envs/mlops/lib/python3.9/site-packages/PIL/Image.py:2429\u001b[0m, in \u001b[0;36mImage.save\u001b[0;34m(self, fp, format, **params)\u001b[0m\n\u001b[1;32m   2427\u001b[0m         fp \u001b[39m=\u001b[39m builtins\u001b[39m.\u001b[39mopen(filename, \u001b[39m\"\u001b[39m\u001b[39mr+b\u001b[39m\u001b[39m\"\u001b[39m)\n\u001b[1;32m   2428\u001b[0m     \u001b[39melse\u001b[39;00m:\n\u001b[0;32m-> 2429\u001b[0m         fp \u001b[39m=\u001b[39m builtins\u001b[39m.\u001b[39;49mopen(filename, \u001b[39m\"\u001b[39;49m\u001b[39mw+b\u001b[39;49m\u001b[39m\"\u001b[39;49m)\n\u001b[1;32m   2431\u001b[0m \u001b[39mtry\u001b[39;00m:\n\u001b[1;32m   2432\u001b[0m     save_handler(\u001b[39mself\u001b[39m, fp, filename)\n",
      "\u001b[0;31mFileNotFoundError\u001b[0m: [Errno 2] No such file or directory: 'Plots/ROC Curves.png'"
     ]
    },
    {
     "data": {
      "image/png": "[encoded data removed]",
      "text/plain": [
       "<Figure size 1000x700 with 1 Axes>"
      ]
     },
     "metadata": {},
     "output_type": "display_data"
    }
   ],
   "source": [
    "classifier_comparison(xtrain=xtrain_prepro, ytrain=ytrain_prepro, xtest=xtest_prepro, ytest=ytest)"
   ]
  },
  {
   "attachments": {},
   "cell_type": "markdown",
   "metadata": {},
   "source": [
    "## GridSearchCV"
   ]
  },
  {
   "cell_type": "code",
   "execution_count": null,
   "metadata": {},
   "outputs": [],
   "source": [
    "def grid_search(\n",
    "    x: pd.DataFrame,\n",
    "    y: pd.DataFrame,\n",
    "    xtest: pd.DataFrame = None,\n",
    "    ytest: pd.DataFrame = None,\n",
    "    clf = RandomForestClassifier(random_state=420),\n",
    "    param_grid: dict = {\n",
    "        'n_estimators': [100, 200, 300, 400, 500],\n",
    "        'max_depth': [3, 4, 5, 6, 7, 8, 9, 10]\n",
    "        },\n",
    "    predict: bool = False\n",
    "    ):\n",
    "\n",
    "    # run name\n",
    "    clf_name = str(clf).split(\"(\")[0]\n",
    "    run_name = f\"Grid Search - {clf_name}\"\n",
    "\n",
    "    # Search for preprocessing run\n",
    "    run = mlflow.search_runs(experiment_ids=experiment_id, filter_string=f\"tags.mlflow.runName = '{run_name}'\")\n",
    "    # get run id\n",
    "    run_id = run.iloc[0].run_id if not run.empty else None\n",
    "\n",
    "    # if no predictions needed\n",
    "    # fit grid search to data and log model\n",
    "    if predict is False:\n",
    "        # delete the last run if it exists\n",
    "        if run_id is not None:\n",
    "            mlflow.delete_run(run_id)\n",
    "            \n",
    "        # start run\n",
    "        with mlflow.start_run(run_name=run_name) as run:\n",
    "            # initialize grid search\n",
    "            grid = GridSearchCV(clf, param_grid, cv=5, scoring='f1', n_jobs=-1)\n",
    "            # fit grid search\n",
    "            grid.fit(x, y)\n",
    "            # # log model\n",
    "            mlflow.sklearn.log_model(grid, f'GridSearch_{clf_name}')\n",
    "            # # log best parameters\n",
    "            mlflow.log_param('best_params', grid.best_params_)\n",
    "            # print message\n",
    "            print('GridSearchCV: fit')\n",
    "            # end run\n",
    "            mlflow.end_run()\n",
    "\n",
    "    elif predict:\n",
    "        # initialize grid search\n",
    "        grid = GridSearchCV(clf, param_grid, cv=5, scoring='f1', n_jobs=-1)\n",
    "        # fit grid search\n",
    "        grid.fit(x, y)\n",
    "        # predict\n",
    "        ypred = grid.predict(xtest)\n",
    "        # print classification report\n",
    "        print(classification_report(ytest, ypred))"
   ]
  },
  {
   "cell_type": "code",
   "execution_count": null,
   "metadata": {},
   "outputs": [],
   "source": [
    "# logistic regression grid_params\n",
    "grid_params = {\n",
    "    'penalty': ['l1', 'l2'],\n",
    "    'C': [0.001, 0.01, 0.1, 1, 10, 100, 1000]\n",
    "    }\n",
    "\n",
    "grid_search(\n",
    "    x=xtrain_prepro,\n",
    "    y=ytrain_prepro,\n",
    "    xtest=xtest_prepro,\n",
    "    ytest=ytest,\n",
    "    clf=LogisticRegression(random_state=420),\n",
    "    param_grid=grid_params,\n",
    "    predict=True\n",
    "    )"
   ]
  },
  {
   "cell_type": "code",
   "execution_count": null,
   "metadata": {},
   "outputs": [],
   "source": [
    "# decision tree grid_params\n",
    "grid_params = {\n",
    "    'max_depth': [3, 4, 5, 6, 7, 8, 9, 10],\n",
    "    'min_samples_split': [2, 3, 4, 5, 6, 7, 8, 9, 10]\n",
    "    }\n",
    "\n",
    "grid_search(\n",
    "    x=xtrain_prepro,\n",
    "    y=ytrain_prepro,\n",
    "    xtest=xtest_prepro,\n",
    "    ytest=ytest,\n",
    "    clf=DecisionTreeClassifier(random_state=420),\n",
    "    param_grid=grid_params,\n",
    "    predict=True\n",
    "    )"
   ]
  },
  {
   "cell_type": "code",
   "execution_count": null,
   "metadata": {},
   "outputs": [],
   "source": [
    "grid_search(\n",
    "    x=xtrain_prepro,\n",
    "    y=ytrain_prepro,\n",
    "    xtest=xtest_prepro,\n",
    "    ytest=ytest,\n",
    "    clf=RandomForestClassifier(random_state=420),\n",
    "    predict=True\n",
    "    )"
   ]
  },
  {
   "attachments": {},
   "cell_type": "markdown",
   "metadata": {},
   "source": [
    "## Train Model with GridSearchCV-Parameters and all Training Data"
   ]
  },
  {
   "cell_type": "code",
   "execution_count": 22,
   "metadata": {},
   "outputs": [],
   "source": [
    "def training(\n",
    "        x: pd.DataFrame,\n",
    "        y: pd.DataFrame,\n",
    "        clf = RandomForestClassifier(random_state=420),\n",
    "        # reset: bool = False\n",
    "        ):\n",
    "    \n",
    "    # run name\n",
    "    clf_name = str(clf).split(\"(\")[0]\n",
    "    run_name = f\"Trained Model - {clf_name}\"\n",
    "\n",
    "    # check if grid search run exists\n",
    "    model_grid_search = f\"Grid Search - {clf_name}\"\n",
    "\n",
    "    # Search for grid search run\n",
    "    run = mlflow.search_runs(experiment_ids=experiment_id, filter_string=f\"tags.mlflow.runName = '{model_grid_search}'\")\n",
    "    # get run id\n",
    "    run_id = run.iloc[0].run_id if not run.empty else None\n",
    "    \n",
    "    # if grid search run does not exist\n",
    "    if run.empty:\n",
    "        print(f'No grid search run found for {clf_name}')\n",
    "        print('Model logged with default parameters')\n",
    "        # initialize default model\n",
    "        model = clf\n",
    "\n",
    "    # if grid search run exists\n",
    "    else:\n",
    "        print(f'Grid search run found for {clf_name}')\n",
    "        print('Model logged with optimal parameters')\n",
    "        # load grid search model\n",
    "        model = mlflow.sklearn.load_model(f'runs:/{run_id}/GridSearch_{clf_name}')\n",
    "\n",
    "    # start run\n",
    "    with mlflow.start_run(run_name=run_name) as run:\n",
    "        # fit model\n",
    "        model.fit(x, y)\n",
    "        # log model\n",
    "        mlflow.sklearn.log_model(model, 'model')\n",
    "        # end run\n",
    "        mlflow.end_run()"
   ]
  },
  {
   "cell_type": "code",
   "execution_count": 23,
   "metadata": {},
   "outputs": [
    {
     "name": "stderr",
     "output_type": "stream",
     "text": [
      "2023/06/11 17:52:42 WARNING mlflow.sklearn: Model was missing function: predict. Not logging python_function flavor!\n"
     ]
    },
    {
     "name": "stdout",
     "output_type": "stream",
     "text": [
      "Last run deleted\n",
      "Preprocessing Pipeline: fit and transform\n"
     ]
    }
   ],
   "source": [
    "# combine train and test data\n",
    "x, y = preprocessing(x=pd.concat([xtrain, xtest], axis=0), y=pd.concat([ytrain, ytest], axis=0), reset=True)"
   ]
  },
  {
   "cell_type": "code",
   "execution_count": 24,
   "metadata": {},
   "outputs": [
    {
     "ename": "NameError",
     "evalue": "name 'grid_search' is not defined",
     "output_type": "error",
     "traceback": [
      "\u001b[0;31m---------------------------------------------------------------------------\u001b[0m",
      "\u001b[0;31mNameError\u001b[0m                                 Traceback (most recent call last)",
      "Cell \u001b[0;32mIn[24], line 7\u001b[0m\n\u001b[1;32m      2\u001b[0m grid_params \u001b[39m=\u001b[39m {\n\u001b[1;32m      3\u001b[0m     \u001b[39m'\u001b[39m\u001b[39mpenalty\u001b[39m\u001b[39m'\u001b[39m: [\u001b[39m'\u001b[39m\u001b[39ml1\u001b[39m\u001b[39m'\u001b[39m, \u001b[39m'\u001b[39m\u001b[39ml2\u001b[39m\u001b[39m'\u001b[39m],\n\u001b[1;32m      4\u001b[0m     \u001b[39m'\u001b[39m\u001b[39mC\u001b[39m\u001b[39m'\u001b[39m: [\u001b[39m0.001\u001b[39m, \u001b[39m0.01\u001b[39m, \u001b[39m0.1\u001b[39m, \u001b[39m1\u001b[39m, \u001b[39m10\u001b[39m, \u001b[39m100\u001b[39m, \u001b[39m1000\u001b[39m]\n\u001b[1;32m      5\u001b[0m     }\n\u001b[1;32m      6\u001b[0m \u001b[39m# grid search on full train dataset\u001b[39;00m\n\u001b[0;32m----> 7\u001b[0m grid_search(x\u001b[39m=\u001b[39mx, y\u001b[39m=\u001b[39my, clf\u001b[39m=\u001b[39mLogisticRegression(random_state\u001b[39m=\u001b[39m\u001b[39m420\u001b[39m), param_grid\u001b[39m=\u001b[39mgrid_params)\n\u001b[1;32m      8\u001b[0m \u001b[39m# train model on full train dataset\u001b[39;00m\n\u001b[1;32m      9\u001b[0m training(x\u001b[39m=\u001b[39mx, y\u001b[39m=\u001b[39my, clf\u001b[39m=\u001b[39mLogisticRegression(random_state\u001b[39m=\u001b[39m\u001b[39m420\u001b[39m))\n",
      "\u001b[0;31mNameError\u001b[0m: name 'grid_search' is not defined"
     ]
    }
   ],
   "source": [
    "# logistic regression grid_params\n",
    "grid_params = {\n",
    "    'penalty': ['l1', 'l2'],\n",
    "    'C': [0.001, 0.01, 0.1, 1, 10, 100, 1000]\n",
    "    }\n",
    "# grid search on full train dataset\n",
    "grid_search(x=x, y=y, clf=LogisticRegression(random_state=420), param_grid=grid_params)\n",
    "# train model on full train dataset\n",
    "training(x=x, y=y, clf=LogisticRegression(random_state=420))"
   ]
  },
  {
   "cell_type": "code",
   "execution_count": null,
   "metadata": {},
   "outputs": [],
   "source": [
    "# decision tree grid_params\n",
    "grid_params = {\n",
    "    'max_depth': [3, 4, 5, 6, 7, 8, 9, 10],\n",
    "    'min_samples_split': [2, 3, 4, 5, 6, 7, 8, 9, 10]\n",
    "    }\n",
    "# grid search on full train dataset\n",
    "grid_search(x=x, y=y, clf=DecisionTreeClassifier(random_state=420), param_grid=grid_params)\n",
    "# train model on full train dataset\n",
    "training(x=x, y=y, clf=DecisionTreeClassifier(random_state=420))"
   ]
  },
  {
   "cell_type": "code",
   "execution_count": null,
   "metadata": {},
   "outputs": [],
   "source": [
    "# random forest grid_params\n",
    "grid_params = {\n",
    "    'n_estimators': [100, 200, 300, 400, 500],\n",
    "    'max_depth': [3, 4, 5, 6, 7, 8, 9, 10]\n",
    "    }\n",
    "# grid search on full train dataset\n",
    "grid_search(x=x, y=y, clf=RandomForestClassifier(random_state=420), param_grid=grid_params)\n",
    "# train model on full train dataset\n",
    "training(x=x, y=y, clf=RandomForestClassifier(random_state=420))"
   ]
  },
  {
   "attachments": {},
   "cell_type": "markdown",
   "metadata": {},
   "source": [
    "## Prediction"
   ]
  },
  {
   "cell_type": "code",
   "execution_count": 25,
   "metadata": {},
   "outputs": [],
   "source": [
    "def predict_new_data(x, y, clf = RandomForestClassifier(random_state=420)):\n",
    "\n",
    "    # get dataframe name\n",
    "    dataframe_name = [i for i in globals() if globals()[i] is x][0]\n",
    "\n",
    "    # run name\n",
    "    clf_name = str(clf).split(\"(\")[0]\n",
    "    run_name = f\"{clf_name} Prediction - {dataframe_name}\"\n",
    "\n",
    "    # check if classifier already got trained\n",
    "    trained_model_search = f\"Trained Model - {clf_name}\"\n",
    "\n",
    "    # search run\n",
    "    run = mlflow.search_runs(experiment_ids=experiment_id, filter_string=f\"tags.mlflow.runName = '{trained_model_search}'\")\n",
    "    \n",
    "    # if no trained model found\n",
    "    if run.empty:\n",
    "        print(f'No trained model found for {clf_name}')\n",
    "    # if trained model found\n",
    "    else:\n",
    "        print(f'Trained model found for {clf_name}\\n\\n')\n",
    "        # get run id\n",
    "        run_id = run.iloc[0].run_id if not run.empty else None\n",
    "        # load model (optimal)\n",
    "        model = mlflow.sklearn.load_model(f'runs:/{run_id}/model')\n",
    "\n",
    "    # predict on new data\n",
    "    ypred_proba = model.predict_proba(x)\n",
    "    ypred = np.argmax(ypred_proba, axis=1)\n",
    "\n",
    "    # start run\n",
    "    with mlflow.start_run(run_name=run_name) as run:\n",
    "        # log model accuracy\n",
    "        mlflow.log_metric(f'{dataframe_name}_accuracy', accuracy_score(y, ypred))\n",
    "        # log model precision\n",
    "        mlflow.log_metric(f'{dataframe_name}_precision', precision_score(y, ypred))\n",
    "        # log model recall\n",
    "        mlflow.log_metric(f'{dataframe_name}_recall', recall_score(y, ypred))\n",
    "        # log model f1-score\n",
    "        mlflow.log_metric(f'{dataframe_name}_f1_score', f1_score(y, ypred))\n",
    "        # log parameters\n",
    "        # mlflow.log_param(f'{dataframe_name}_params', model.get_params())\n",
    "        # log model\n",
    "        mlflow.sklearn.log_model(model, f'{dataframe_name}_model')\n",
    "        # print classification report\n",
    "        print(f'Classification Report:\\n\\n{classification_report(y, ypred)}\\n\\n')\n",
    "        # end run\n",
    "        mlflow.end_run()\n",
    "\n",
    "    return ypred_proba, ypred"
   ]
  },
  {
   "attachments": {},
   "cell_type": "markdown",
   "metadata": {},
   "source": [
    "# Great Expectations"
   ]
  },
  {
   "cell_type": "code",
   "execution_count": 26,
   "metadata": {},
   "outputs": [],
   "source": [
    "def great_expectations(check_dataframe, initial_dataframe=df1):\n",
    "\n",
    "    initial_df = gx.dataset.PandasDataset(initial_dataframe)\n",
    "    check_df = gx.dataset.PandasDataset(check_dataframe)\n",
    "    \n",
    "    # get column names from initial dataframe\n",
    "    gx_columns = initial_df.get_table_columns()\n",
    "    # get dtypes from initial dataframe\n",
    "    gx_dtypes = initial_df.dtypes.apply(lambda x: str(x)).to_dict()\n",
    "\n",
    "    # check if column are the same in all dataframes\n",
    "    column_check = check_df.expect_table_columns_to_match_ordered_list(column_list=gx_columns)\n",
    "    if column_check['success']:\n",
    "        print('Columns Check: ', colored('OK', 'green'))\n",
    "    else:\n",
    "        print('Columns Check: ', colored('Failed', 'red'))\n",
    "\n",
    "    # check if dtypes are the same in all dataframes\n",
    "    check_set = set()\n",
    "    for col, data_type in gx_dtypes.items():\n",
    "        datatype_check = check_df.expect_column_values_to_be_of_type(column=col, type_=data_type)\n",
    "        check_set.add(datatype_check['success'])\n",
    "    if all(check_set) == True:\n",
    "        print('Datatype Check: ', colored('OK', 'green'))\n",
    "    else:\n",
    "        print('Datatype Check: ', colored('Failed', 'red'))\n",
    "\n",
    "    # check if dataframe has missing values\n",
    "    check_set = set()\n",
    "    for col in gx_columns:\n",
    "        missing_values_check = check_df.expect_column_values_to_not_be_null(column=col)\n",
    "        check_set.add(missing_values_check['success'])\n",
    "    if all(check_set) == True:\n",
    "        print('Missing Values Check: ', colored('OK', 'green'))\n",
    "    else:\n",
    "        print('Missing Values Check: ', colored('Failed', 'red'))\n",
    "\n",
    "    # check if dataframe has duplicates\n",
    "    duplicates_check = check_df.expect_table_row_count_to_be_between(min_value=check_df.shape[0], max_value=check_df.shape[0])\n",
    "    if duplicates_check['success']:\n",
    "        print('Duplicates Check: ', colored('OK', 'green'))\n",
    "    else:\n",
    "        print('Duplicates Check: ', colored('Failed', 'red'))\n",
    "\n",
    "    # check if dataframe distribution is the same as in initial dataframe\n",
    "    check_set = set()\n",
    "    for col in gx_columns:\n",
    "        distribution_check = check_df.expect_column_kl_divergence_to_be_less_than(column=col, partition_object={'values': initial_df[col].value_counts().index.tolist(), 'weights': initial_df[col].value_counts(normalize=True).tolist()}, threshold=0.6)\n",
    "        check_set.add(distribution_check['success'])\n",
    "    if all(check_set) == True:\n",
    "        print('Distribution Check: ', colored('OK', 'green'))\n",
    "    else:\n",
    "        print('Distribution Check: ', colored('Failed', 'red'))\n",
    "\n",
    "    # check if dataframe has outliers\n",
    "    check_set = set()\n",
    "    for col in gx_columns:\n",
    "        outliers_check = check_df.expect_column_values_to_be_between(column=col, min_value=initial_df[col].min(), max_value=initial_df[col].max())\n",
    "        check_set.add(outliers_check['success'])\n",
    "    if all(check_set) == True:\n",
    "        print('Outlier Check: ', colored('OK', 'green'))\n",
    "    else:\n",
    "        print('Outlier Check: ', colored('Failed', 'red'))"
   ]
  },
  {
   "attachments": {},
   "cell_type": "markdown",
   "metadata": {},
   "source": [
    "# Dataset 2"
   ]
  },
  {
   "cell_type": "code",
   "execution_count": 27,
   "metadata": {},
   "outputs": [
    {
     "name": "stdout",
     "output_type": "stream",
     "text": [
      "Columns Check:  \u001b[32mOK\u001b[0m\n",
      "Datatype Check:  \u001b[32mOK\u001b[0m\n",
      "Missing Values Check:  \u001b[32mOK\u001b[0m\n",
      "Duplicates Check:  \u001b[32mOK\u001b[0m\n",
      "Distribution Check:  \u001b[31mFailed\u001b[0m\n",
      "Outlier Check:  \u001b[31mFailed\u001b[0m\n"
     ]
    }
   ],
   "source": [
    "great_expectations(check_dataframe=df2, initial_dataframe=df1)"
   ]
  },
  {
   "cell_type": "code",
   "execution_count": 28,
   "metadata": {},
   "outputs": [
    {
     "name": "stdout",
     "output_type": "stream",
     "text": [
      "Preprocessing Pipeline: transform\n"
     ]
    }
   ],
   "source": [
    "df2_prepro, df2_y = preprocessing(df2.drop(columns=['Fire Alarm'])), df2['Fire Alarm']"
   ]
  },
  {
   "cell_type": "code",
   "execution_count": 29,
   "metadata": {},
   "outputs": [
    {
     "name": "stdout",
     "output_type": "stream",
     "text": [
      "Trained model found for LogisticRegression\n",
      "\n",
      "\n",
      "Classification Report:\n",
      "\n",
      "              precision    recall  f1-score   support\n",
      "\n",
      "           0       0.00      0.00      0.00      3178\n",
      "           1       0.85      1.00      0.92     17698\n",
      "\n",
      "    accuracy                           0.85     20876\n",
      "   macro avg       0.42      0.50      0.46     20876\n",
      "weighted avg       0.72      0.85      0.78     20876\n",
      "\n",
      "\n",
      "\n"
     ]
    }
   ],
   "source": [
    "df2_y_proba_lr, df2_y_pred_lr = predict_new_data(df2_prepro, df2_y, clf=LogisticRegression(random_state=420))"
   ]
  },
  {
   "cell_type": "code",
   "execution_count": 30,
   "metadata": {},
   "outputs": [
    {
     "name": "stdout",
     "output_type": "stream",
     "text": [
      "Trained model found for DecisionTreeClassifier\n",
      "\n",
      "\n",
      "Classification Report:\n",
      "\n",
      "              precision    recall  f1-score   support\n",
      "\n",
      "           0       0.37      1.00      0.54      3178\n",
      "           1       1.00      0.70      0.82     17698\n",
      "\n",
      "    accuracy                           0.74     20876\n",
      "   macro avg       0.69      0.85      0.68     20876\n",
      "weighted avg       0.90      0.74      0.78     20876\n",
      "\n",
      "\n",
      "\n"
     ]
    }
   ],
   "source": [
    "df2_y_proba_dt, df2_y_pred_dt = predict_new_data(df2_prepro, df2_y, clf=DecisionTreeClassifier(random_state=420))"
   ]
  },
  {
   "cell_type": "code",
   "execution_count": 31,
   "metadata": {},
   "outputs": [
    {
     "name": "stdout",
     "output_type": "stream",
     "text": [
      "Trained model found for RandomForestClassifier\n",
      "\n",
      "\n",
      "Classification Report:\n",
      "\n",
      "              precision    recall  f1-score   support\n",
      "\n",
      "           0       0.64      1.00      0.78      3178\n",
      "           1       1.00      0.90      0.95     17698\n",
      "\n",
      "    accuracy                           0.91     20876\n",
      "   macro avg       0.82      0.95      0.86     20876\n",
      "weighted avg       0.94      0.91      0.92     20876\n",
      "\n",
      "\n",
      "\n"
     ]
    }
   ],
   "source": [
    "df2_y_proba_rf, df2_y_pred_rf = predict_new_data(df2_prepro, df2_y, clf=RandomForestClassifier(random_state=420))"
   ]
  },
  {
   "attachments": {},
   "cell_type": "markdown",
   "metadata": {},
   "source": [
    "# Dataset 3"
   ]
  },
  {
   "cell_type": "code",
   "execution_count": 32,
   "metadata": {},
   "outputs": [
    {
     "name": "stdout",
     "output_type": "stream",
     "text": [
      "Columns Check:  \u001b[32mOK\u001b[0m\n",
      "Datatype Check:  \u001b[32mOK\u001b[0m\n",
      "Missing Values Check:  \u001b[32mOK\u001b[0m\n",
      "Duplicates Check:  \u001b[32mOK\u001b[0m\n",
      "Distribution Check:  \u001b[31mFailed\u001b[0m\n",
      "Outlier Check:  \u001b[31mFailed\u001b[0m\n"
     ]
    }
   ],
   "source": [
    "great_expectations(check_dataframe=df3, initial_dataframe=df1)"
   ]
  },
  {
   "cell_type": "code",
   "execution_count": 33,
   "metadata": {},
   "outputs": [
    {
     "name": "stdout",
     "output_type": "stream",
     "text": [
      "Preprocessing Pipeline: transform\n"
     ]
    }
   ],
   "source": [
    "df3_prepro, df3_y = preprocessing(df3.drop(columns=['Fire Alarm'])), df3['Fire Alarm']"
   ]
  },
  {
   "cell_type": "code",
   "execution_count": 34,
   "metadata": {},
   "outputs": [
    {
     "name": "stdout",
     "output_type": "stream",
     "text": [
      "Trained model found for LogisticRegression\n",
      "\n",
      "\n",
      "Classification Report:\n",
      "\n",
      "              precision    recall  f1-score   support\n",
      "\n",
      "           0       1.00      0.99      1.00      5775\n",
      "           1       1.00      1.00      1.00     15103\n",
      "\n",
      "    accuracy                           1.00     20878\n",
      "   macro avg       1.00      1.00      1.00     20878\n",
      "weighted avg       1.00      1.00      1.00     20878\n",
      "\n",
      "\n",
      "\n"
     ]
    }
   ],
   "source": [
    "df3_y_proba_lr, df3_y_pred_lr = predict_new_data(df3_prepro, df3_y, clf=LogisticRegression(random_state=420))"
   ]
  },
  {
   "cell_type": "code",
   "execution_count": 35,
   "metadata": {},
   "outputs": [
    {
     "name": "stdout",
     "output_type": "stream",
     "text": [
      "Trained model found for DecisionTreeClassifier\n",
      "\n",
      "\n",
      "Classification Report:\n",
      "\n",
      "              precision    recall  f1-score   support\n",
      "\n",
      "           0       0.16      0.49      0.24      5775\n",
      "           1       0.05      0.01      0.02     15103\n",
      "\n",
      "    accuracy                           0.14     20878\n",
      "   macro avg       0.10      0.25      0.13     20878\n",
      "weighted avg       0.08      0.14      0.08     20878\n",
      "\n",
      "\n",
      "\n"
     ]
    }
   ],
   "source": [
    "df3_y_proba_dt, df3_y_pred_dt = predict_new_data(df3_prepro, df3_y, clf=DecisionTreeClassifier(random_state=420))"
   ]
  },
  {
   "cell_type": "code",
   "execution_count": 36,
   "metadata": {},
   "outputs": [
    {
     "name": "stdout",
     "output_type": "stream",
     "text": [
      "Trained model found for RandomForestClassifier\n",
      "\n",
      "\n",
      "Classification Report:\n",
      "\n",
      "              precision    recall  f1-score   support\n",
      "\n",
      "           0       0.34      1.00      0.50      5775\n",
      "           1       1.00      0.24      0.39     15103\n",
      "\n",
      "    accuracy                           0.45     20878\n",
      "   macro avg       0.67      0.62      0.45     20878\n",
      "weighted avg       0.82      0.45      0.42     20878\n",
      "\n",
      "\n",
      "\n"
     ]
    }
   ],
   "source": [
    "df3_y_proba_rf, df3_y_pred_rf = predict_new_data(df3_prepro, df3_y, clf=RandomForestClassifier(random_state=420))"
   ]
  },
  {
   "attachments": {},
   "cell_type": "markdown",
   "metadata": {},
   "source": [
    "# Nanny ML Test\n",
    "\n",
    "**ToDo:**\n",
    "- Try out different bins/chunks"
   ]
  },
  {
   "cell_type": "code",
   "execution_count": 37,
   "metadata": {},
   "outputs": [
    {
     "data": {
      "image/png": "[encoded data removed]",
      "text/plain": [
       "<Figure size 1000x600 with 1 Axes>"
      ]
     },
     "metadata": {},
     "output_type": "display_data"
    }
   ],
   "source": [
    "import matplotlib.pyplot as plt\n",
    "\n",
    "# Convert UTC to datetime if it's in timestamp format\n",
    "dataframe['UTC'] = pd.to_datetime(dataframe['UTC'], unit='s')\n",
    "# Create a new figure and set the size of the figure\n",
    "plt.figure(figsize=(10, 6))\n",
    "# Plot the distribution of 'UTC' \n",
    "dataframe['UTC'].hist(bins=50, rwidth=0.9, color='#607c8e')\n",
    "# Set grid\n",
    "plt.grid(axis='y', alpha=0.75)\n",
    "# Set title and labels\n",
    "plt.title('Distribution of UTC')\n",
    "plt.xlabel('UTC')\n",
    "plt.ylabel('Counts')\n",
    "# Show the plot\n",
    "plt.show()"
   ]
  },
  {
   "cell_type": "code",
   "execution_count": 38,
   "metadata": {},
   "outputs": [
    {
     "name": "stdout",
     "output_type": "stream",
     "text": [
      "Preprocessing Pipeline: transform\n",
      "Trained model found for RandomForestClassifier\n",
      "\n",
      "\n",
      "Classification Report:\n",
      "\n",
      "              precision    recall  f1-score   support\n",
      "\n",
      "           0       1.00      1.00      1.00      8920\n",
      "           1       1.00      1.00      1.00     11956\n",
      "\n",
      "    accuracy                           1.00     20876\n",
      "   macro avg       1.00      1.00      1.00     20876\n",
      "weighted avg       1.00      1.00      1.00     20876\n",
      "\n",
      "\n",
      "\n"
     ]
    }
   ],
   "source": [
    "df1_prepro, df1_y = preprocessing(df1.drop(columns=['Fire Alarm'])), df1['Fire Alarm']\n",
    "df1_y_proba_rf, df1_y_pred_rf = predict_new_data(df1_prepro, df1_y, clf=RandomForestClassifier(random_state=420))"
   ]
  },
  {
   "cell_type": "code",
   "execution_count": 39,
   "metadata": {},
   "outputs": [],
   "source": [
    "# set up reference dataframe\n",
    "# combine x and y\n",
    "reference_data = pd.DataFrame(df1_prepro, columns=xtrain.columns)\n",
    "reference_data['y_true'] = df1_y.values\n",
    "# change UTC to timestamp\n",
    "# reference_data['UTC'] = pd.to_datetime(reference_data['UTC'])\n",
    "# drop CNT column\n",
    "reference_data.drop(columns=['CNT'], inplace=True)\n",
    "reference_data['y_pred'] = df1_y_pred_rf\n",
    "reference_data['y_pred_proba'] = df1_y_proba_rf[:,1]"
   ]
  },
  {
   "cell_type": "code",
   "execution_count": 40,
   "metadata": {},
   "outputs": [],
   "source": [
    "# set up new dataframe\n",
    "df2_nanny = pd.DataFrame(df2_prepro, columns=xtrain.columns)\n",
    "# set fire alarm column in df2_nanny to y\n",
    "df2_nanny['y_true'] = df2_y.values\n",
    "# change UTC to timestamp\n",
    "# df2_nanny['UTC'] = pd.to_datetime(df2_nanny['UTC'])\n",
    "# drop CNT column\n",
    "df2_nanny.drop(columns=['CNT'], inplace=True)\n",
    "df2_nanny['y_pred'] = df2_y_pred_rf\n",
    "df2_nanny['y_pred_proba'] = df2_y_proba_rf[:,1]"
   ]
  },
  {
   "cell_type": "code",
   "execution_count": 41,
   "metadata": {},
   "outputs": [],
   "source": [
    "# set up new dataframe\n",
    "df3_nanny = pd.DataFrame(df3_prepro, columns=xtrain.columns)\n",
    "df3_nanny['y_true'] = df3_y.values\n",
    "# change UTC to timestamp\n",
    "# df3_nanny['UTC'] = pd.to_datetime(df3_nanny['UTC'])\n",
    "# drop CNT column\n",
    "df3_nanny.drop(columns=['CNT'], inplace=True)\n",
    "df3_nanny['y_pred'] = df3_y_pred_rf\n",
    "df3_nanny['y_pred_proba'] = df3_y_proba_rf[:,1]"
   ]
  },
  {
   "attachments": {},
   "cell_type": "markdown",
   "metadata": {},
   "source": [
    "### Estimating performance"
   ]
  },
  {
   "cell_type": "code",
   "execution_count": 42,
   "metadata": {},
   "outputs": [],
   "source": [
    "\n",
    "def estimate_performance(reference_df, analysis_df, metric='f1', lower_threshold=0.7, upper_threshold=1):\n",
    "    constant_threshold = nml.thresholds.ConstantThreshold(lower=lower_threshold, upper=upper_threshold)\n",
    "    \n",
    "    estimator = nml.CBPE(\n",
    "        y_pred_proba='y_pred_proba',\n",
    "        y_pred='y_pred',\n",
    "        y_true='y_true',\n",
    "        #timestamp_column_name='timestamp',\n",
    "        metrics=[metric],\n",
    "        #chunk_size=5000,\n",
    "        chunker = SizeBasedChunker(chunk_size=1000 , incomplete='append'),\n",
    "        problem_type='classification_binary',\n",
    "        thresholds={\n",
    "            metric: constant_threshold\n",
    "        }\n",
    "    )\n",
    "    \n",
    "    estimator.fit(reference_df)\n",
    "    results = estimator.estimate(analysis_df)\n",
    "    columns = [('chunk', 'key'), ('chunk', 'period'), (metric, 'value'), (metric, 'upper_threshold'), (metric, 'lower_threshold'), (metric, 'alert')]\n",
    "    \n",
    "    # display the dataframe\n",
    "    # display(results.to_df()[columns])\n",
    "    \n",
    "    # plot the results\n",
    "    metric_fig = results.plot()\n",
    "    metric_fig.show()\n"
   ]
  },
  {
   "cell_type": "code",
   "execution_count": 43,
   "metadata": {},
   "outputs": [],
   "source": [
    "# # estimate performance of the first analysis dataset with f1 score\n",
    "# estimate_performance(reference_data, df2_nanny, metric='f1', lower_threshold=0.8)\n",
    "# # estimate performance of the second analysis dataset with recall\n",
    "# estimate_performance(reference_data, df3_nanny, metric='recall')"
   ]
  },
  {
   "attachments": {},
   "cell_type": "markdown",
   "metadata": {},
   "source": [
    "### Monitoring Realized Performance - Calculating Standard Performance Metrics (not working)"
   ]
  },
  {
   "cell_type": "code",
   "execution_count": 44,
   "metadata": {},
   "outputs": [],
   "source": [
    "def monitor_performance(reference_df, analysis_df, metric='recall', lower_threshold=0.7, upper_threshold=1):\n",
    "    # create thresholds for the metric\n",
    "    constant_threshold = nml.thresholds.ConstantThreshold(lower=lower_threshold, upper=upper_threshold)\n",
    "\n",
    "    # create a dictionary with the threshold object for each metric\n",
    "    thresholds = {metric: constant_threshold}\n",
    "    \n",
    "    calc = nml.PerformanceCalculator(\n",
    "        y_pred_proba='y_pred_proba',\n",
    "        y_pred='y_pred',\n",
    "        y_true='y_true',\n",
    "        # timestamp_column_name='UTC',\n",
    "        problem_type='classification_binary',\n",
    "        metrics=[metric],\n",
    "        # chunk_size=1000,\n",
    "        chunker = nml.SizeBasedChunker(chunk_size=1000 , incomplete='append'),    \n",
    "        thresholds=thresholds\n",
    "        )\n",
    "    # fit the reference data and calculate results\n",
    "    calc.fit(reference_df)\n",
    "    results = calc.calculate(analysis_df)\n",
    "    # display the dataframe\n",
    "    # display(results.filter(period='analysis').to_df())\n",
    "    # plot the results\n",
    "    figure = results.plot()\n",
    "    figure.show()\n"
   ]
  },
  {
   "cell_type": "code",
   "execution_count": 45,
   "metadata": {},
   "outputs": [],
   "source": [
    "# monitor standard performance metrics on first analysis dataset\n",
    "# monitor_performance(reference_data, df2_nanny, metric='recall')"
   ]
  },
  {
   "attachments": {},
   "cell_type": "markdown",
   "metadata": {},
   "source": [
    "### Monitoring Realized Performance - Calculating Confusion Matrix Elements"
   ]
  },
  {
   "cell_type": "code",
   "execution_count": 46,
   "metadata": {},
   "outputs": [],
   "source": [
    "def monitor_performance_conf_matrix(reference_df, analysis_df):\n",
    "    calc = nml.PerformanceCalculator(\n",
    "        y_pred_proba='y_pred_proba',\n",
    "        y_pred='y_pred',\n",
    "        y_true='y_true',\n",
    "        # timestamp_column_name='timestamp',\n",
    "        problem_type='classification_binary',\n",
    "        metrics=['confusion_matrix'],\n",
    "        normalize_confusion_matrix='all',\n",
    "        #chunk_size=1000,\n",
    "        chunker = SizeBasedChunker(chunk_size=1000 , incomplete='append'),\n",
    "        )\n",
    "    # fit the reference data and calculate the results\n",
    "    calc.fit(reference_df)\n",
    "    results = calc.calculate(analysis_df)\n",
    "    # display the results\n",
    "    # display(results.filter(period='analysis').to_df())\n",
    "    # display(results.filter(period='reference').to_df())\n",
    "    figure = results.plot()\n",
    "    figure.show()"
   ]
  },
  {
   "cell_type": "code",
   "execution_count": 47,
   "metadata": {},
   "outputs": [],
   "source": [
    "# plot realized performance (confusion matrix elements) for first analysis period\n",
    "# monitor_performance_conf_matrix(reference_data, df2_nanny)"
   ]
  },
  {
   "attachments": {},
   "cell_type": "markdown",
   "metadata": {},
   "source": [
    "### Comparing Estimated and Realized Performance  (also not fully working)"
   ]
  },
  {
   "cell_type": "code",
   "execution_count": 48,
   "metadata": {},
   "outputs": [],
   "source": [
    "def compare_estimated_realized(reference_df, analysis_df, metric='recall'):\n",
    "    # Estimate performance without targets\n",
    "    estimator = nml.CBPE(\n",
    "        y_pred_proba='y_pred_proba',\n",
    "        y_pred='y_pred',\n",
    "        y_true='y_true',\n",
    "        # timestamp_column_name='UTC', # not possible\n",
    "        metrics=[metric], #'roc_auc' is not possible\n",
    "        #chunk_size=1000,\n",
    "        chunker = SizeBasedChunker(chunk_size=1000 , incomplete='append'),\n",
    "        problem_type='classification_binary',\n",
    "    )\n",
    "    # fit the estimator and estimate the results\n",
    "    estimator.fit(reference_df)\n",
    "    results = estimator.estimate(analysis_df)\n",
    "    # display the results\n",
    "    # display(results.filter(period='analysis').to_df())\n",
    "\n",
    "    # Calculate realized performance using targets\n",
    "    calc = nml.PerformanceCalculator(\n",
    "        y_pred_proba='y_pred_proba',\n",
    "        y_pred='y_pred',\n",
    "        y_true='y_true',\n",
    "        # timestamp_column_name='UTC',\n",
    "        problem_type='classification_binary',\n",
    "        metrics=[metric],\n",
    "        # chunk_size=1000,\n",
    "        chunker = SizeBasedChunker(chunk_size=1000 , incomplete='append')    \n",
    "        )\n",
    "    # fit the reference data and calculate results\n",
    "    calc.fit(reference_df)\n",
    "    realized_results = calc.calculate(analysis_df)\n",
    "    # display(realized_results.filter(period='analysis').to_df())\n",
    "\n",
    "    # Show comparison plot\n",
    "    results.filter(period='analysis').compare(realized_results).plot().show()"
   ]
  },
  {
   "cell_type": "code",
   "execution_count": 49,
   "metadata": {},
   "outputs": [],
   "source": [
    "# # compare estimated and realized f1 for first analysis period\n",
    "# compare_estimated_realized(reference_data, df2_nanny, metric='f1')\n",
    "# # compare estimated and realized accuracy for first analysis period\n",
    "# compare_estimated_realized(reference_data, df2_nanny, metric='accuracy')"
   ]
  },
  {
   "attachments": {},
   "cell_type": "markdown",
   "metadata": {},
   "source": [
    "### Univariate Drift Detection"
   ]
  },
  {
   "cell_type": "code",
   "execution_count": 50,
   "metadata": {},
   "outputs": [],
   "source": [
    "def plot_univariate_drift(reference_df, analysis_df):\n",
    "    # define column names\n",
    "    column_names = reference_data.columns.tolist()\n",
    "    column_names.remove('y_true')\n",
    "    column_names.remove('UTC')\n",
    "    # define drift calculator\n",
    "    calc = nml.UnivariateDriftCalculator(\n",
    "        column_names=column_names,\n",
    "        treat_as_categorical=['y_pred'],\n",
    "        # timestamp_column_name='UTC',\n",
    "        continuous_methods=['kolmogorov_smirnov', 'jensen_shannon'],\n",
    "        categorical_methods=['chi2', 'jensen_shannon'],\n",
    "        chunker = SizeBasedChunker(chunk_size=1000 , incomplete='append'),\n",
    "        )\n",
    "    # fit reference data and calculate drift\n",
    "    calc.fit(reference_df)\n",
    "    results = calc.calculate(analysis_df)\n",
    "    # display(results.filter(period='analysis', column_names=['debt_to_income_ratio']).to_df())\n",
    "    # plot drift and distribution\n",
    "    figure = results.filter(column_names=results.continuous_column_names, methods=['jensen_shannon']).plot(kind='drift')\n",
    "    figure.show()\n",
    "    figure = results.filter(column_names=results.categorical_column_names, methods=['chi2']).plot(kind='drift')\n",
    "    figure.show()\n",
    "    figure = results.filter(column_names=results.continuous_column_names, methods=['jensen_shannon']).plot(kind='distribution')\n",
    "    figure.show()\n",
    "    figure = results.filter(column_names=results.categorical_column_names, methods=['chi2']).plot(kind='distribution')\n",
    "    figure.show()"
   ]
  },
  {
   "cell_type": "code",
   "execution_count": 51,
   "metadata": {},
   "outputs": [],
   "source": [
    "# plor univariate drift for first analysis dataset\n",
    "# plot_univariate_drift(reference_data, df2_nanny)"
   ]
  },
  {
   "attachments": {},
   "cell_type": "markdown",
   "metadata": {},
   "source": [
    "### Ranking univariate Drift results"
   ]
  },
  {
   "cell_type": "code",
   "execution_count": 62,
   "metadata": {},
   "outputs": [],
   "source": [
    "# define alert_count_ranking\n",
    "def alert_count_ranking(reference_df, analysis_df, method='jensen_shannon', only_drifting=False):\n",
    "    # define column names\n",
    "    column_names = reference_df.columns.tolist()\n",
    "    column_names.remove('y_true')\n",
    "    column_names.remove('UTC')\n",
    "\n",
    "    univ_calc = nml.UnivariateDriftCalculator(\n",
    "        column_names=column_names,\n",
    "        treat_as_categorical=['y_pred'],\n",
    "        continuous_methods=['kolmogorov_smirnov', 'jensen_shannon'],\n",
    "        categorical_methods=['chi2', 'jensen_shannon'],\n",
    "        chunker = nml.SizeBasedChunker(chunk_size=1000 , incomplete='append')\n",
    "    )\n",
    "    univ_calc.fit(reference_df)\n",
    "    univariate_results = univ_calc.calculate(analysis_df)\n",
    "\n",
    "    alert_count_ranker = nml.AlertCountRanker()\n",
    "    alert_count_ranked_features = alert_count_ranker.rank(\n",
    "        univariate_results.filter(methods=[method]),\n",
    "        only_drifting=only_drifting)\n",
    "    return alert_count_ranked_features"
   ]
  },
  {
   "cell_type": "code",
   "execution_count": 63,
   "metadata": {},
   "outputs": [
    {
     "data": {
      "text/html": [
       "<div>\n",
       "<style scoped>\n",
       "    .dataframe tbody tr th:only-of-type {\n",
       "        vertical-align: middle;\n",
       "    }\n",
       "\n",
       "    .dataframe tbody tr th {\n",
       "        vertical-align: top;\n",
       "    }\n",
       "\n",
       "    .dataframe thead th {\n",
       "        text-align: right;\n",
       "    }\n",
       "</style>\n",
       "<table border=\"1\" class=\"dataframe\">\n",
       "  <thead>\n",
       "    <tr style=\"text-align: right;\">\n",
       "      <th></th>\n",
       "      <th>number_of_alerts</th>\n",
       "      <th>column_name</th>\n",
       "      <th>rank</th>\n",
       "    </tr>\n",
       "  </thead>\n",
       "  <tbody>\n",
       "    <tr>\n",
       "      <th>0</th>\n",
       "      <td>20</td>\n",
       "      <td>y_pred_proba</td>\n",
       "      <td>1</td>\n",
       "    </tr>\n",
       "    <tr>\n",
       "      <th>1</th>\n",
       "      <td>20</td>\n",
       "      <td>eCO2[ppm]</td>\n",
       "      <td>2</td>\n",
       "    </tr>\n",
       "    <tr>\n",
       "      <th>2</th>\n",
       "      <td>20</td>\n",
       "      <td>Temperature[C]</td>\n",
       "      <td>3</td>\n",
       "    </tr>\n",
       "    <tr>\n",
       "      <th>3</th>\n",
       "      <td>20</td>\n",
       "      <td>Raw H2</td>\n",
       "      <td>4</td>\n",
       "    </tr>\n",
       "    <tr>\n",
       "      <th>4</th>\n",
       "      <td>20</td>\n",
       "      <td>Raw Ethanol</td>\n",
       "      <td>5</td>\n",
       "    </tr>\n",
       "    <tr>\n",
       "      <th>5</th>\n",
       "      <td>20</td>\n",
       "      <td>NC2.5</td>\n",
       "      <td>6</td>\n",
       "    </tr>\n",
       "    <tr>\n",
       "      <th>6</th>\n",
       "      <td>20</td>\n",
       "      <td>Humidity[%]</td>\n",
       "      <td>7</td>\n",
       "    </tr>\n",
       "    <tr>\n",
       "      <th>7</th>\n",
       "      <td>19</td>\n",
       "      <td>y_pred</td>\n",
       "      <td>8</td>\n",
       "    </tr>\n",
       "    <tr>\n",
       "      <th>8</th>\n",
       "      <td>0</td>\n",
       "      <td>TVOC[ppb]</td>\n",
       "      <td>9</td>\n",
       "    </tr>\n",
       "    <tr>\n",
       "      <th>9</th>\n",
       "      <td>0</td>\n",
       "      <td>Pressure[hPa]</td>\n",
       "      <td>10</td>\n",
       "    </tr>\n",
       "    <tr>\n",
       "      <th>10</th>\n",
       "      <td>0</td>\n",
       "      <td>PM2.5</td>\n",
       "      <td>11</td>\n",
       "    </tr>\n",
       "    <tr>\n",
       "      <th>11</th>\n",
       "      <td>0</td>\n",
       "      <td>PM1.0</td>\n",
       "      <td>12</td>\n",
       "    </tr>\n",
       "    <tr>\n",
       "      <th>12</th>\n",
       "      <td>0</td>\n",
       "      <td>NC1.0</td>\n",
       "      <td>13</td>\n",
       "    </tr>\n",
       "    <tr>\n",
       "      <th>13</th>\n",
       "      <td>0</td>\n",
       "      <td>NC0.5</td>\n",
       "      <td>14</td>\n",
       "    </tr>\n",
       "  </tbody>\n",
       "</table>\n",
       "</div>"
      ],
      "text/plain": [
       "    number_of_alerts     column_name  rank\n",
       "0                 20    y_pred_proba     1\n",
       "1                 20       eCO2[ppm]     2\n",
       "2                 20  Temperature[C]     3\n",
       "3                 20          Raw H2     4\n",
       "4                 20     Raw Ethanol     5\n",
       "5                 20           NC2.5     6\n",
       "6                 20     Humidity[%]     7\n",
       "7                 19          y_pred     8\n",
       "8                  0       TVOC[ppb]     9\n",
       "9                  0   Pressure[hPa]    10\n",
       "10                 0           PM2.5    11\n",
       "11                 0           PM1.0    12\n",
       "12                 0           NC1.0    13\n",
       "13                 0           NC0.5    14"
      ]
     },
     "execution_count": 63,
     "metadata": {},
     "output_type": "execute_result"
    }
   ],
   "source": [
    "alert_count_ranking(reference_data, df2_nanny, method='jensen_shannon')"
   ]
  },
  {
   "cell_type": "code",
   "execution_count": 56,
   "metadata": {},
   "outputs": [],
   "source": [
    "def correlation_ranking(reference_df, analysis_df, method='jensen_shannon', metric='recall', only_drifting=False):\n",
    "    # define column names\n",
    "    column_names = reference_df.columns.tolist()\n",
    "    column_names.remove('y_true')\n",
    "    column_names.remove('UTC')\n",
    "\n",
    "    univ_calc = nml.UnivariateDriftCalculator(\n",
    "        column_names=column_names,\n",
    "        treat_as_categorical=['y_pred'],\n",
    "        continuous_methods=['kolmogorov_smirnov', 'jensen_shannon'],\n",
    "        categorical_methods=['chi2', 'jensen_shannon'],\n",
    "        chunker = nml.SizeBasedChunker(chunk_size=1000 , incomplete='append')\n",
    "    )\n",
    "    univ_calc.fit(reference_df)\n",
    "    univariate_results = univ_calc.calculate(analysis_df)\n",
    "\n",
    "    perf_calc = nml.CBPE(\n",
    "        y_pred_proba='y_pred_proba',\n",
    "        y_pred='y_pred',\n",
    "        y_true='y_true',\n",
    "        metrics=[metric],\n",
    "        chunker = nml.SizeBasedChunker(chunk_size=1000 , incomplete='append'),\n",
    "        problem_type='classification_binary',\n",
    "    )\n",
    "    perf_calc.fit(reference_df)\n",
    "    perf_results = perf_calc.estimate(analysis_df)\n",
    "\n",
    "    ranker = nml.CorrelationRanker()\n",
    "    ranker.fit(perf_results.filter(period='analysis', metrics=[metric]))\n",
    "    correlation_ranked_features = ranker.rank(\n",
    "        univariate_results.filter(methods=[method]),\n",
    "        perf_results.filter(metrics=[metric]),\n",
    "        only_drifting=only_drifting)\n",
    "    return correlation_ranked_features\n"
   ]
  },
  {
   "cell_type": "code",
   "execution_count": 59,
   "metadata": {},
   "outputs": [
    {
     "data": {
      "text/html": [
       "<div>\n",
       "<style scoped>\n",
       "    .dataframe tbody tr th:only-of-type {\n",
       "        vertical-align: middle;\n",
       "    }\n",
       "\n",
       "    .dataframe tbody tr th {\n",
       "        vertical-align: top;\n",
       "    }\n",
       "\n",
       "    .dataframe thead th {\n",
       "        text-align: right;\n",
       "    }\n",
       "</style>\n",
       "<table border=\"1\" class=\"dataframe\">\n",
       "  <thead>\n",
       "    <tr style=\"text-align: right;\">\n",
       "      <th></th>\n",
       "      <th>column_name</th>\n",
       "      <th>pearsonr_correlation</th>\n",
       "      <th>pearsonr_pvalue</th>\n",
       "      <th>has_drifted</th>\n",
       "      <th>rank</th>\n",
       "    </tr>\n",
       "  </thead>\n",
       "  <tbody>\n",
       "    <tr>\n",
       "      <th>0</th>\n",
       "      <td>y_pred</td>\n",
       "      <td>0.669386</td>\n",
       "      <td>0.000002</td>\n",
       "      <td>True</td>\n",
       "      <td>1</td>\n",
       "    </tr>\n",
       "    <tr>\n",
       "      <th>1</th>\n",
       "      <td>Temperature[C]</td>\n",
       "      <td>0.431029</td>\n",
       "      <td>0.005492</td>\n",
       "      <td>True</td>\n",
       "      <td>2</td>\n",
       "    </tr>\n",
       "    <tr>\n",
       "      <th>2</th>\n",
       "      <td>Humidity[%]</td>\n",
       "      <td>0.367993</td>\n",
       "      <td>0.019479</td>\n",
       "      <td>True</td>\n",
       "      <td>3</td>\n",
       "    </tr>\n",
       "    <tr>\n",
       "      <th>3</th>\n",
       "      <td>TVOC[ppb]</td>\n",
       "      <td>0.360745</td>\n",
       "      <td>0.022207</td>\n",
       "      <td>True</td>\n",
       "      <td>4</td>\n",
       "    </tr>\n",
       "    <tr>\n",
       "      <th>4</th>\n",
       "      <td>Pressure[hPa]</td>\n",
       "      <td>0.356186</td>\n",
       "      <td>0.024081</td>\n",
       "      <td>True</td>\n",
       "      <td>5</td>\n",
       "    </tr>\n",
       "    <tr>\n",
       "      <th>5</th>\n",
       "      <td>PM2.5</td>\n",
       "      <td>0.349932</td>\n",
       "      <td>0.026864</td>\n",
       "      <td>True</td>\n",
       "      <td>6</td>\n",
       "    </tr>\n",
       "    <tr>\n",
       "      <th>6</th>\n",
       "      <td>PM1.0</td>\n",
       "      <td>0.349166</td>\n",
       "      <td>0.027222</td>\n",
       "      <td>True</td>\n",
       "      <td>7</td>\n",
       "    </tr>\n",
       "    <tr>\n",
       "      <th>7</th>\n",
       "      <td>NC0.5</td>\n",
       "      <td>0.346329</td>\n",
       "      <td>0.028584</td>\n",
       "      <td>True</td>\n",
       "      <td>8</td>\n",
       "    </tr>\n",
       "    <tr>\n",
       "      <th>8</th>\n",
       "      <td>NC1.0</td>\n",
       "      <td>0.266665</td>\n",
       "      <td>0.096246</td>\n",
       "      <td>True</td>\n",
       "      <td>9</td>\n",
       "    </tr>\n",
       "    <tr>\n",
       "      <th>9</th>\n",
       "      <td>y_pred_proba</td>\n",
       "      <td>0.033686</td>\n",
       "      <td>0.836517</td>\n",
       "      <td>True</td>\n",
       "      <td>10</td>\n",
       "    </tr>\n",
       "    <tr>\n",
       "      <th>10</th>\n",
       "      <td>Raw Ethanol</td>\n",
       "      <td>-0.070474</td>\n",
       "      <td>0.665653</td>\n",
       "      <td>True</td>\n",
       "      <td>11</td>\n",
       "    </tr>\n",
       "    <tr>\n",
       "      <th>11</th>\n",
       "      <td>Raw H2</td>\n",
       "      <td>-0.074641</td>\n",
       "      <td>0.647138</td>\n",
       "      <td>True</td>\n",
       "      <td>12</td>\n",
       "    </tr>\n",
       "    <tr>\n",
       "      <th>12</th>\n",
       "      <td>NC2.5</td>\n",
       "      <td>-0.236109</td>\n",
       "      <td>0.142440</td>\n",
       "      <td>True</td>\n",
       "      <td>13</td>\n",
       "    </tr>\n",
       "    <tr>\n",
       "      <th>13</th>\n",
       "      <td>eCO2[ppm]</td>\n",
       "      <td>-0.439448</td>\n",
       "      <td>0.004553</td>\n",
       "      <td>True</td>\n",
       "      <td>14</td>\n",
       "    </tr>\n",
       "  </tbody>\n",
       "</table>\n",
       "</div>"
      ],
      "text/plain": [
       "       column_name  pearsonr_correlation  pearsonr_pvalue  has_drifted  rank\n",
       "0           y_pred              0.669386         0.000002         True     1\n",
       "1   Temperature[C]              0.431029         0.005492         True     2\n",
       "2      Humidity[%]              0.367993         0.019479         True     3\n",
       "3        TVOC[ppb]              0.360745         0.022207         True     4\n",
       "4    Pressure[hPa]              0.356186         0.024081         True     5\n",
       "5            PM2.5              0.349932         0.026864         True     6\n",
       "6            PM1.0              0.349166         0.027222         True     7\n",
       "7            NC0.5              0.346329         0.028584         True     8\n",
       "8            NC1.0              0.266665         0.096246         True     9\n",
       "9     y_pred_proba              0.033686         0.836517         True    10\n",
       "10     Raw Ethanol             -0.070474         0.665653         True    11\n",
       "11          Raw H2             -0.074641         0.647138         True    12\n",
       "12           NC2.5             -0.236109         0.142440         True    13\n",
       "13       eCO2[ppm]             -0.439448         0.004553         True    14"
      ]
     },
     "execution_count": 59,
     "metadata": {},
     "output_type": "execute_result"
    }
   ],
   "source": [
    "correlation_ranking(reference_data, df2_nanny, method='jensen_shannon')"
   ]
  },
  {
   "attachments": {},
   "cell_type": "markdown",
   "metadata": {},
   "source": [
    "### Multivariate Drift Detection"
   ]
  },
  {
   "cell_type": "code",
   "execution_count": 75,
   "metadata": {},
   "outputs": [],
   "source": [
    "\n",
    "def plot_multivariate_drift(reference_df, analysis_df, lower_threshold=0.1, upper_threshold=2):\n",
    "    constant_threshold = nml.thresholds.ConstantThreshold(lower=lower_threshold, upper=upper_threshold)\n",
    "    # define feature column names\n",
    "    feature_column_names = reference_data.columns.tolist()\n",
    "    feature_column_names.remove('y_true')\n",
    "    feature_column_names.remove('UTC')\n",
    "    feature_column_names.remove('y_pred_proba')\n",
    "    feature_column_names.remove('y_pred')\n",
    "    #define drift calculator\n",
    "    calc = nml.DataReconstructionDriftCalculator(\n",
    "        column_names=feature_column_names,\n",
    "        # timestamp_column_name='timestamp',\n",
    "        # chunk_size=1000,\n",
    "        chunker = nml.SizeBasedChunker(chunk_size=1000 , incomplete='append'),\n",
    "        #thresholds = constant_threshold,\n",
    "        imputer_categorical=SimpleImputer(strategy='constant', fill_value='missing'),\n",
    "        imputer_continuous=SimpleImputer(strategy='median'),\n",
    "    )\n",
    "    calc.fit(reference_df)\n",
    "    results = calc.calculate(analysis_df)\n",
    "    # display results\n",
    "    # display(results.filter(period='analysis').to_df())\n",
    "    # display(results.filter(period='reference').to_df())\n",
    "    figure = results.plot()\n",
    "    figure.show()"
   ]
  },
  {
   "cell_type": "code",
   "execution_count": 76,
   "metadata": {},
   "outputs": [
    {
     "data": {
      "application/vnd.plotly.v1+json": {
       "config": {
        "plotlyServerURL": "https://plot.ly"
       },
       "data": [
        {
         "hoverinfo": "skip",
         "legendgroup": "metric_reference",
         "line": {
          "color": "#00c8e5",
          "shape": "hv",
          "width": 2
         },
         "mode": "lines",
         "name": "Metric",
         "showlegend": true,
         "type": "scatter",
         "x": [
          0,
          1,
          2,
          3,
          4,
          5,
          6,
          7,
          8,
          9,
          10,
          11,
          12,
          13,
          14,
          15,
          16,
          17,
          18,
          19,
          20
         ],
         "y": [
          1.1058563354015365,
          1.1389359282488232,
          1.1714500959108354,
          1.6526969400379972,
          2.884113806237897,
          3.7459219366970515,
          0.5745497056705414,
          0.5636131109463247,
          0.8426244815321493,
          0.6896643367266584,
          0.8972766133776601,
          0.8586451041445408,
          0.5577976296203158,
          0.4280231697834846,
          0.3789566603948215,
          1.012844782653042,
          0.8397890678088619,
          0.8209247210694605,
          0.8164086063163886,
          0.8038637600362192,
          0.8038637600362192
         ]
        },
        {
         "customdata": [
          [
           "Data reconstruction drift",
           "<b style=\"color:#00c8e5;line-height:60px\">Reference</b>",
           "",
           "[0:999]",
           "Chunk index: <b>0</b>",
           1.1059,
           0.1013
          ],
          [
           "Data reconstruction drift",
           "<b style=\"color:#00c8e5;line-height:60px\">Reference</b>",
           "",
           "[1000:1999]",
           "Chunk index: <b>1</b>",
           1.1389,
           0.1013
          ],
          [
           "Data reconstruction drift",
           "<b style=\"color:#00c8e5;line-height:60px\">Reference</b>",
           "",
           "[2000:2999]",
           "Chunk index: <b>2</b>",
           1.1715,
           0.1013
          ],
          [
           "Data reconstruction drift",
           "<b style=\"color:#00c8e5;line-height:60px\">Reference</b>",
           "",
           "[3000:3999]",
           "Chunk index: <b>3</b>",
           1.6527,
           0.1013
          ],
          [
           "Data reconstruction drift",
           "<b style=\"color:#00c8e5;line-height:60px\">Reference</b>",
           "",
           "[4000:4999]",
           "Chunk index: <b>4</b>",
           2.8841,
           0.1013
          ],
          [
           "Data reconstruction drift",
           "<b style=\"color:#00c8e5;line-height:60px\">Reference</b>",
           "<span style=\"color:#AD0000\">⚠ <b>Drift detected</b></span>",
           "[5000:5999]",
           "Chunk index: <b>5</b>",
           3.7459,
           0.1013
          ],
          [
           "Data reconstruction drift",
           "<b style=\"color:#00c8e5;line-height:60px\">Reference</b>",
           "",
           "[6000:6999]",
           "Chunk index: <b>6</b>",
           0.5745,
           0.1013
          ],
          [
           "Data reconstruction drift",
           "<b style=\"color:#00c8e5;line-height:60px\">Reference</b>",
           "",
           "[7000:7999]",
           "Chunk index: <b>7</b>",
           0.5636,
           0.1013
          ],
          [
           "Data reconstruction drift",
           "<b style=\"color:#00c8e5;line-height:60px\">Reference</b>",
           "",
           "[8000:8999]",
           "Chunk index: <b>8</b>",
           0.8426,
           0.1013
          ],
          [
           "Data reconstruction drift",
           "<b style=\"color:#00c8e5;line-height:60px\">Reference</b>",
           "",
           "[9000:9999]",
           "Chunk index: <b>9</b>",
           0.6897,
           0.1013
          ],
          [
           "Data reconstruction drift",
           "<b style=\"color:#00c8e5;line-height:60px\">Reference</b>",
           "",
           "[10000:10999]",
           "Chunk index: <b>10</b>",
           0.8973,
           0.1013
          ],
          [
           "Data reconstruction drift",
           "<b style=\"color:#00c8e5;line-height:60px\">Reference</b>",
           "",
           "[11000:11999]",
           "Chunk index: <b>11</b>",
           0.8586,
           0.1013
          ],
          [
           "Data reconstruction drift",
           "<b style=\"color:#00c8e5;line-height:60px\">Reference</b>",
           "",
           "[12000:12999]",
           "Chunk index: <b>12</b>",
           0.5578,
           0.1013
          ],
          [
           "Data reconstruction drift",
           "<b style=\"color:#00c8e5;line-height:60px\">Reference</b>",
           "",
           "[13000:13999]",
           "Chunk index: <b>13</b>",
           0.428,
           0.1013
          ],
          [
           "Data reconstruction drift",
           "<b style=\"color:#00c8e5;line-height:60px\">Reference</b>",
           "",
           "[14000:14999]",
           "Chunk index: <b>14</b>",
           0.379,
           0.1013
          ],
          [
           "Data reconstruction drift",
           "<b style=\"color:#00c8e5;line-height:60px\">Reference</b>",
           "",
           "[15000:15999]",
           "Chunk index: <b>15</b>",
           1.0128,
           0.1013
          ],
          [
           "Data reconstruction drift",
           "<b style=\"color:#00c8e5;line-height:60px\">Reference</b>",
           "",
           "[16000:16999]",
           "Chunk index: <b>16</b>",
           0.8398,
           0.1013
          ],
          [
           "Data reconstruction drift",
           "<b style=\"color:#00c8e5;line-height:60px\">Reference</b>",
           "",
           "[17000:17999]",
           "Chunk index: <b>17</b>",
           0.8209,
           0.1013
          ],
          [
           "Data reconstruction drift",
           "<b style=\"color:#00c8e5;line-height:60px\">Reference</b>",
           "",
           "[18000:18999]",
           "Chunk index: <b>18</b>",
           0.8164,
           0.1013
          ],
          [
           "Data reconstruction drift",
           "<b style=\"color:#00c8e5;line-height:60px\">Reference</b>",
           "",
           "[19000:20875]",
           "Chunk index: <b>19</b>",
           0.8039,
           0.074
          ]
         ],
         "hovertemplate": "%{customdata[1]} &nbsp; &nbsp; %{customdata[2]} <br />Chunk: <b>%{customdata[3]}</b> &nbsp; &nbsp; %{customdata[4]} <br />%{customdata[0]}: <b>%{customdata[5]}</b><br />Confidence band: +/- <b>%{customdata[6]}</b><br /><extra></extra>",
         "legendgroup": "metric_reference",
         "marker": {
          "color": "#00c8e5",
          "size": 5,
          "symbol": "circle"
         },
         "mode": "markers",
         "name": "Metric",
         "showlegend": false,
         "type": "scatter",
         "x": [
          0.5,
          1.5,
          2.5,
          3.5,
          4.5,
          5.5,
          6.5,
          7.5,
          8.5,
          9.5,
          10.5,
          11.5,
          12.5,
          13.5,
          14.5,
          15.5,
          16.5,
          17.5,
          18.5,
          19.5
         ],
         "y": [
          1.1058563354015365,
          1.1389359282488232,
          1.1714500959108354,
          1.6526969400379972,
          2.884113806237897,
          3.7459219366970515,
          0.5745497056705414,
          0.5636131109463247,
          0.8426244815321493,
          0.6896643367266584,
          0.8972766133776601,
          0.8586451041445408,
          0.5577976296203158,
          0.4280231697834846,
          0.3789566603948215,
          1.012844782653042,
          0.8397890678088619,
          0.8209247210694605,
          0.8164086063163886,
          0.8038637600362192,
          0.8038637600362192
         ]
        },
        {
         "hoverinfo": "skip",
         "legendgroup": "metric_analysis",
         "line": {
          "color": "#00c8e5",
          "shape": "hv",
          "width": 2
         },
         "mode": "lines",
         "name": "Metric",
         "showlegend": false,
         "type": "scatter",
         "x": [
          20,
          21,
          22,
          23,
          24,
          25,
          26,
          27,
          28,
          29,
          30,
          31,
          32,
          33,
          34,
          35,
          36,
          37,
          38,
          39,
          40
         ],
         "y": [
          0.8029533448822712,
          0.8008869894024682,
          0.7975430865962235,
          0.811244689525217,
          0.8051805848108862,
          0.7971724525535531,
          0.8445476916386713,
          0.8456292201799823,
          0.8576564397486343,
          0.9537329285519525,
          1.098512791203389,
          0.8818657087275596,
          0.9935167903800552,
          1.1066510475490723,
          1.1839284804076669,
          1.217664126702636,
          1.0032073784870672,
          0.9532955242730246,
          0.9234012023627429,
          1.2377604158953188,
          1.2377604158953188
         ]
        },
        {
         "customdata": [
          [
           "Data reconstruction drift",
           "<b style=\"color:#3b0280;line-height:60px\">Analysis</b>",
           "",
           "[0:999]",
           "Chunk index: <b>0</b>",
           0.803,
           0.1013
          ],
          [
           "Data reconstruction drift",
           "<b style=\"color:#3b0280;line-height:60px\">Analysis</b>",
           "",
           "[1000:1999]",
           "Chunk index: <b>1</b>",
           0.8009,
           0.1013
          ],
          [
           "Data reconstruction drift",
           "<b style=\"color:#3b0280;line-height:60px\">Analysis</b>",
           "",
           "[2000:2999]",
           "Chunk index: <b>2</b>",
           0.7975,
           0.1013
          ],
          [
           "Data reconstruction drift",
           "<b style=\"color:#3b0280;line-height:60px\">Analysis</b>",
           "",
           "[3000:3999]",
           "Chunk index: <b>3</b>",
           0.8112,
           0.1013
          ],
          [
           "Data reconstruction drift",
           "<b style=\"color:#3b0280;line-height:60px\">Analysis</b>",
           "",
           "[4000:4999]",
           "Chunk index: <b>4</b>",
           0.8052,
           0.1013
          ],
          [
           "Data reconstruction drift",
           "<b style=\"color:#3b0280;line-height:60px\">Analysis</b>",
           "",
           "[5000:5999]",
           "Chunk index: <b>5</b>",
           0.7972,
           0.1013
          ],
          [
           "Data reconstruction drift",
           "<b style=\"color:#3b0280;line-height:60px\">Analysis</b>",
           "",
           "[6000:6999]",
           "Chunk index: <b>6</b>",
           0.8445,
           0.1013
          ],
          [
           "Data reconstruction drift",
           "<b style=\"color:#3b0280;line-height:60px\">Analysis</b>",
           "",
           "[7000:7999]",
           "Chunk index: <b>7</b>",
           0.8456,
           0.1013
          ],
          [
           "Data reconstruction drift",
           "<b style=\"color:#3b0280;line-height:60px\">Analysis</b>",
           "",
           "[8000:8999]",
           "Chunk index: <b>8</b>",
           0.8577,
           0.1013
          ],
          [
           "Data reconstruction drift",
           "<b style=\"color:#3b0280;line-height:60px\">Analysis</b>",
           "",
           "[9000:9999]",
           "Chunk index: <b>9</b>",
           0.9537,
           0.1013
          ],
          [
           "Data reconstruction drift",
           "<b style=\"color:#3b0280;line-height:60px\">Analysis</b>",
           "",
           "[10000:10999]",
           "Chunk index: <b>10</b>",
           1.0985,
           0.1013
          ],
          [
           "Data reconstruction drift",
           "<b style=\"color:#3b0280;line-height:60px\">Analysis</b>",
           "",
           "[11000:11999]",
           "Chunk index: <b>11</b>",
           0.8819,
           0.1013
          ],
          [
           "Data reconstruction drift",
           "<b style=\"color:#3b0280;line-height:60px\">Analysis</b>",
           "",
           "[12000:12999]",
           "Chunk index: <b>12</b>",
           0.9935,
           0.1013
          ],
          [
           "Data reconstruction drift",
           "<b style=\"color:#3b0280;line-height:60px\">Analysis</b>",
           "",
           "[13000:13999]",
           "Chunk index: <b>13</b>",
           1.1067,
           0.1013
          ],
          [
           "Data reconstruction drift",
           "<b style=\"color:#3b0280;line-height:60px\">Analysis</b>",
           "",
           "[14000:14999]",
           "Chunk index: <b>14</b>",
           1.1839,
           0.1013
          ],
          [
           "Data reconstruction drift",
           "<b style=\"color:#3b0280;line-height:60px\">Analysis</b>",
           "",
           "[15000:15999]",
           "Chunk index: <b>15</b>",
           1.2177,
           0.1013
          ],
          [
           "Data reconstruction drift",
           "<b style=\"color:#3b0280;line-height:60px\">Analysis</b>",
           "",
           "[16000:16999]",
           "Chunk index: <b>16</b>",
           1.0032,
           0.1013
          ],
          [
           "Data reconstruction drift",
           "<b style=\"color:#3b0280;line-height:60px\">Analysis</b>",
           "",
           "[17000:17999]",
           "Chunk index: <b>17</b>",
           0.9533,
           0.1013
          ],
          [
           "Data reconstruction drift",
           "<b style=\"color:#3b0280;line-height:60px\">Analysis</b>",
           "",
           "[18000:18999]",
           "Chunk index: <b>18</b>",
           0.9234,
           0.1013
          ],
          [
           "Data reconstruction drift",
           "<b style=\"color:#3b0280;line-height:60px\">Analysis</b>",
           "",
           "[19000:20875]",
           "Chunk index: <b>19</b>",
           1.2378,
           0.074
          ]
         ],
         "hovertemplate": "%{customdata[1]} &nbsp; &nbsp; %{customdata[2]} <br />Chunk: <b>%{customdata[3]}</b> &nbsp; &nbsp; %{customdata[4]} <br />%{customdata[0]}: <b>%{customdata[5]}</b><br />Confidence band: +/- <b>%{customdata[6]}</b><br /><extra></extra>",
         "legendgroup": "metric_analysis",
         "marker": {
          "color": "#00c8e5",
          "size": 5,
          "symbol": "circle"
         },
         "mode": "markers",
         "name": "Metric",
         "showlegend": false,
         "type": "scatter",
         "x": [
          20.5,
          21.5,
          22.5,
          23.5,
          24.5,
          25.5,
          26.5,
          27.5,
          28.5,
          29.5,
          30.5,
          31.5,
          32.5,
          33.5,
          34.5,
          35.5,
          36.5,
          37.5,
          38.5,
          39.5
         ],
         "y": [
          0.8029533448822712,
          0.8008869894024682,
          0.7975430865962235,
          0.811244689525217,
          0.8051805848108862,
          0.7971724525535531,
          0.8445476916386713,
          0.8456292201799823,
          0.8576564397486343,
          0.9537329285519525,
          1.098512791203389,
          0.8818657087275596,
          0.9935167903800552,
          1.1066510475490723,
          1.1839284804076669,
          1.217664126702636,
          1.0032073784870672,
          0.9532955242730246,
          0.9234012023627429,
          1.2377604158953188,
          1.2377604158953188
         ]
        },
        {
         "hoverinfo": "skip",
         "legendgroup": "alert",
         "marker": {
          "color": "#DD4040",
          "size": 8,
          "symbol": "diamond"
         },
         "mode": "markers",
         "name": "Alert",
         "showlegend": true,
         "type": "scatter",
         "x": [],
         "y": []
        },
        {
         "hoverinfo": "skip",
         "legendgroup": "thresh",
         "line": {
          "color": "#DD4040",
          "dash": "dash",
          "width": 2
         },
         "mode": "lines",
         "name": "Threshold",
         "showlegend": false,
         "type": "scatter",
         "x": [
          0,
          1,
          2,
          3,
          4,
          5,
          6,
          7,
          8,
          9,
          10,
          11,
          12,
          13,
          14,
          15,
          16,
          17,
          18,
          19,
          20
         ],
         "y": [
          3.5058542807604853,
          3.5058542807604853,
          3.5058542807604853,
          3.5058542807604853,
          3.5058542807604853,
          3.5058542807604853,
          3.5058542807604853,
          3.5058542807604853,
          3.5058542807604853,
          3.5058542807604853,
          3.5058542807604853,
          3.5058542807604853,
          3.5058542807604853,
          3.5058542807604853,
          3.5058542807604853,
          3.5058542807604853,
          3.5058542807604853,
          3.5058542807604853,
          3.5058542807604853,
          3.5058542807604853,
          3.5058542807604853
         ]
        },
        {
         "hoverinfo": "skip",
         "legendgroup": "thresh",
         "line": {
          "color": "#DD4040",
          "dash": "dash",
          "width": 2
         },
         "mode": "lines",
         "name": "Threshold",
         "showlegend": false,
         "type": "scatter",
         "x": [
          0,
          1,
          2,
          3,
          4,
          5,
          6,
          7,
          8,
          9,
          10,
          11,
          12,
          13,
          14,
          15,
          16,
          17,
          18,
          19,
          20
         ],
         "y": [
          -1.3274586014990242,
          -1.3274586014990242,
          -1.3274586014990242,
          -1.3274586014990242,
          -1.3274586014990242,
          -1.3274586014990242,
          -1.3274586014990242,
          -1.3274586014990242,
          -1.3274586014990242,
          -1.3274586014990242,
          -1.3274586014990242,
          -1.3274586014990242,
          -1.3274586014990242,
          -1.3274586014990242,
          -1.3274586014990242,
          -1.3274586014990242,
          -1.3274586014990242,
          -1.3274586014990242,
          -1.3274586014990242,
          -1.3274586014990242,
          -1.3274586014990242
         ]
        },
        {
         "hoverinfo": "skip",
         "legendgroup": "thresh",
         "line": {
          "color": "#DD4040",
          "dash": "dash",
          "width": 2
         },
         "mode": "lines",
         "name": "Threshold",
         "showlegend": false,
         "type": "scatter",
         "x": [
          20,
          21,
          22,
          23,
          24,
          25,
          26,
          27,
          28,
          29,
          30,
          31,
          32,
          33,
          34,
          35,
          36,
          37,
          38,
          39,
          40
         ],
         "y": [
          3.5058542807604853,
          3.5058542807604853,
          3.5058542807604853,
          3.5058542807604853,
          3.5058542807604853,
          3.5058542807604853,
          3.5058542807604853,
          3.5058542807604853,
          3.5058542807604853,
          3.5058542807604853,
          3.5058542807604853,
          3.5058542807604853,
          3.5058542807604853,
          3.5058542807604853,
          3.5058542807604853,
          3.5058542807604853,
          3.5058542807604853,
          3.5058542807604853,
          3.5058542807604853,
          3.5058542807604853,
          3.5058542807604853
         ]
        },
        {
         "hoverinfo": "skip",
         "legendgroup": "thresh",
         "line": {
          "color": "#DD4040",
          "dash": "dash",
          "width": 2
         },
         "mode": "lines",
         "name": "Threshold",
         "showlegend": false,
         "type": "scatter",
         "x": [
          20,
          21,
          22,
          23,
          24,
          25,
          26,
          27,
          28,
          29,
          30,
          31,
          32,
          33,
          34,
          35,
          36,
          37,
          38,
          39,
          40
         ],
         "y": [
          -1.3274586014990242,
          -1.3274586014990242,
          -1.3274586014990242,
          -1.3274586014990242,
          -1.3274586014990242,
          -1.3274586014990242,
          -1.3274586014990242,
          -1.3274586014990242,
          -1.3274586014990242,
          -1.3274586014990242,
          -1.3274586014990242,
          -1.3274586014990242,
          -1.3274586014990242,
          -1.3274586014990242,
          -1.3274586014990242,
          -1.3274586014990242,
          -1.3274586014990242,
          -1.3274586014990242,
          -1.3274586014990242,
          -1.3274586014990242,
          -1.3274586014990242
         ]
        },
        {
         "hoverinfo": "skip",
         "line": {
          "color": "rgba(0,0,0,0)",
          "shape": "hv"
         },
         "mode": "lines",
         "name": "Confidence band",
         "showlegend": false,
         "type": "scatter",
         "x": [
          0,
          1,
          2,
          3,
          4,
          5,
          6,
          7,
          8,
          9,
          10,
          11,
          12,
          13,
          14,
          15,
          16,
          17,
          18,
          19,
          20
         ],
         "y": [
          1.2071619962073394,
          1.2402415890546261,
          1.2727557567166383,
          1.7540026008437999,
          2.9854194670437,
          3.8472275975028545,
          0.6758553664763443,
          0.6649187717521275,
          0.9439301423379521,
          0.7909699975324612,
          0.9985822741834629,
          0.9599507649503436,
          0.6591032904261186,
          0.5293288305892874,
          0.48026232120062434,
          1.1141504434588447,
          0.9410947286146647,
          0.9222303818752633,
          0.9177142671221914,
          0.8778272332408829,
          0.8778272332408829
         ]
        },
        {
         "fill": "tonexty",
         "fillcolor": "rgba(0.0, 0.7843137254901961, 0.8980392156862745, 0.2)",
         "hoverinfo": "skip",
         "line": {
          "color": "rgba(0,0,0,0)",
          "shape": "hv"
         },
         "mode": "lines",
         "name": "Confidence band",
         "showlegend": true,
         "type": "scatter",
         "x": [
          0,
          1,
          2,
          3,
          4,
          5,
          6,
          7,
          8,
          9,
          10,
          11,
          12,
          13,
          14,
          15,
          16,
          17,
          18,
          19,
          20
         ],
         "y": [
          1.0045506745957336,
          1.0376302674430202,
          1.0701444351050324,
          1.5513912792321944,
          2.782808145432094,
          3.6446162758912486,
          0.4732440448647386,
          0.4623074501405219,
          0.7413188207263465,
          0.5883586759208556,
          0.7959709525718572,
          0.7573394433387379,
          0.4564919688145129,
          0.32671750897768176,
          0.2776509995890187,
          0.9115391218472392,
          0.738483407003059,
          0.7196190602636576,
          0.7151029455105857,
          0.7299002868315555,
          0.7299002868315555
         ]
        },
        {
         "hoverinfo": "skip",
         "line": {
          "color": "rgba(0,0,0,0)",
          "shape": "hv"
         },
         "mode": "lines",
         "name": "Confidence band",
         "showlegend": false,
         "type": "scatter",
         "x": [
          20,
          21,
          22,
          23,
          24,
          25,
          26,
          27,
          28,
          29,
          30,
          31,
          32,
          33,
          34,
          35,
          36,
          37,
          38,
          39,
          40
         ],
         "y": [
          0.904259005688074,
          0.902192650208271,
          0.8988487474020264,
          0.9125503503310198,
          0.906486245616689,
          0.8984781133593559,
          0.9458533524444741,
          0.9469348809857852,
          0.9589621005544371,
          1.0550385893577552,
          1.199818452009192,
          0.9831713695333625,
          1.0948224511858582,
          1.207956708354875,
          1.2852341412134698,
          1.318969787508439,
          1.1045130392928701,
          1.0546011850788273,
          1.0247068631685456,
          1.3117238890999825,
          1.3117238890999825
         ]
        },
        {
         "fill": "tonexty",
         "fillcolor": "rgba(0.0, 0.7843137254901961, 0.8980392156862745, 0.2)",
         "hoverinfo": "skip",
         "line": {
          "color": "rgba(0,0,0,0)",
          "shape": "hv"
         },
         "mode": "lines",
         "name": "Confidence band",
         "showlegend": false,
         "type": "scatter",
         "x": [
          20,
          21,
          22,
          23,
          24,
          25,
          26,
          27,
          28,
          29,
          30,
          31,
          32,
          33,
          34,
          35,
          36,
          37,
          38,
          39,
          40
         ],
         "y": [
          0.7016476840764684,
          0.6995813285966653,
          0.6962374257904207,
          0.7099390287194142,
          0.7038749240050833,
          0.6958667917477502,
          0.7432420308328684,
          0.7443235593741795,
          0.7563507789428314,
          0.8524272677461496,
          0.9972071303975861,
          0.7805600479217568,
          0.8922111295742524,
          1.0053453867432696,
          1.082622819601864,
          1.116358465896833,
          0.9019017176812644,
          0.8519898634672217,
          0.8220955415569401,
          1.1637969426906551,
          1.1637969426906551
         ]
        }
       ],
       "layout": {
        "annotations": [
         {
          "showarrow": false,
          "text": "Reference",
          "x": 9.5,
          "xshift": 10,
          "y": 1.01,
          "yref": "y domain"
         },
         {
          "showarrow": false,
          "text": "Analysis",
          "x": 29.5,
          "xshift": 15,
          "y": 1.01,
          "yref": "y domain"
         }
        ],
        "hoverlabel": {
         "bgcolor": "white",
         "font": {
          "size": 14
         }
        },
        "legend": {
         "itemclick": false,
         "itemdoubleclick": false,
         "traceorder": "grouped"
        },
        "paper_bgcolor": "rgba(255,255,255,1)",
        "plot_bgcolor": "rgba(255,255,255,1)",
        "shapes": [
         {
          "layer": "below",
          "line": {
           "color": "#666666",
           "width": 1
          },
          "type": "line",
          "x0": 20,
          "x1": 20,
          "xref": "x",
          "y0": 0,
          "y1": 1,
          "yref": "y domain"
         }
        ],
        "template": {
         "data": {
          "bar": [
           {
            "error_x": {
             "color": "#2a3f5f"
            },
            "error_y": {
             "color": "#2a3f5f"
            },
            "marker": {
             "line": {
              "color": "#E5ECF6",
              "width": 0.5
             },
             "pattern": {
              "fillmode": "overlay",
              "size": 10,
              "solidity": 0.2
             }
            },
            "type": "bar"
           }
          ],
          "barpolar": [
           {
            "marker": {
             "line": {
              "color": "#E5ECF6",
              "width": 0.5
             },
             "pattern": {
              "fillmode": "overlay",
              "size": 10,
              "solidity": 0.2
             }
            },
            "type": "barpolar"
           }
          ],
          "carpet": [
           {
            "aaxis": {
             "endlinecolor": "#2a3f5f",
             "gridcolor": "white",
             "linecolor": "white",
             "minorgridcolor": "white",
             "startlinecolor": "#2a3f5f"
            },
            "baxis": {
             "endlinecolor": "#2a3f5f",
             "gridcolor": "white",
             "linecolor": "white",
             "minorgridcolor": "white",
             "startlinecolor": "#2a3f5f"
            },
            "type": "carpet"
           }
          ],
          "choropleth": [
           {
            "colorbar": {
             "outlinewidth": 0,
             "ticks": ""
            },
            "type": "choropleth"
           }
          ],
          "contour": [
           {
            "colorbar": {
             "outlinewidth": 0,
             "ticks": ""
            },
            "colorscale": [
             [
              0,
              "#0d0887"
             ],
             [
              0.1111111111111111,
              "#46039f"
             ],
             [
              0.2222222222222222,
              "#7201a8"
             ],
             [
              0.3333333333333333,
              "#9c179e"
             ],
             [
              0.4444444444444444,
              "#bd3786"
             ],
             [
              0.5555555555555556,
              "#d8576b"
             ],
             [
              0.6666666666666666,
              "#ed7953"
             ],
             [
              0.7777777777777778,
              "#fb9f3a"
             ],
             [
              0.8888888888888888,
              "#fdca26"
             ],
             [
              1,
              "#f0f921"
             ]
            ],
            "type": "contour"
           }
          ],
          "contourcarpet": [
           {
            "colorbar": {
             "outlinewidth": 0,
             "ticks": ""
            },
            "type": "contourcarpet"
           }
          ],
          "heatmap": [
           {
            "colorbar": {
             "outlinewidth": 0,
             "ticks": ""
            },
            "colorscale": [
             [
              0,
              "#0d0887"
             ],
             [
              0.1111111111111111,
              "#46039f"
             ],
             [
              0.2222222222222222,
              "#7201a8"
             ],
             [
              0.3333333333333333,
              "#9c179e"
             ],
             [
              0.4444444444444444,
              "#bd3786"
             ],
             [
              0.5555555555555556,
              "#d8576b"
             ],
             [
              0.6666666666666666,
              "#ed7953"
             ],
             [
              0.7777777777777778,
              "#fb9f3a"
             ],
             [
              0.8888888888888888,
              "#fdca26"
             ],
             [
              1,
              "#f0f921"
             ]
            ],
            "type": "heatmap"
           }
          ],
          "heatmapgl": [
           {
            "colorbar": {
             "outlinewidth": 0,
             "ticks": ""
            },
            "colorscale": [
             [
              0,
              "#0d0887"
             ],
             [
              0.1111111111111111,
              "#46039f"
             ],
             [
              0.2222222222222222,
              "#7201a8"
             ],
             [
              0.3333333333333333,
              "#9c179e"
             ],
             [
              0.4444444444444444,
              "#bd3786"
             ],
             [
              0.5555555555555556,
              "#d8576b"
             ],
             [
              0.6666666666666666,
              "#ed7953"
             ],
             [
              0.7777777777777778,
              "#fb9f3a"
             ],
             [
              0.8888888888888888,
              "#fdca26"
             ],
             [
              1,
              "#f0f921"
             ]
            ],
            "type": "heatmapgl"
           }
          ],
          "histogram": [
           {
            "marker": {
             "pattern": {
              "fillmode": "overlay",
              "size": 10,
              "solidity": 0.2
             }
            },
            "type": "histogram"
           }
          ],
          "histogram2d": [
           {
            "colorbar": {
             "outlinewidth": 0,
             "ticks": ""
            },
            "colorscale": [
             [
              0,
              "#0d0887"
             ],
             [
              0.1111111111111111,
              "#46039f"
             ],
             [
              0.2222222222222222,
              "#7201a8"
             ],
             [
              0.3333333333333333,
              "#9c179e"
             ],
             [
              0.4444444444444444,
              "#bd3786"
             ],
             [
              0.5555555555555556,
              "#d8576b"
             ],
             [
              0.6666666666666666,
              "#ed7953"
             ],
             [
              0.7777777777777778,
              "#fb9f3a"
             ],
             [
              0.8888888888888888,
              "#fdca26"
             ],
             [
              1,
              "#f0f921"
             ]
            ],
            "type": "histogram2d"
           }
          ],
          "histogram2dcontour": [
           {
            "colorbar": {
             "outlinewidth": 0,
             "ticks": ""
            },
            "colorscale": [
             [
              0,
              "#0d0887"
             ],
             [
              0.1111111111111111,
              "#46039f"
             ],
             [
              0.2222222222222222,
              "#7201a8"
             ],
             [
              0.3333333333333333,
              "#9c179e"
             ],
             [
              0.4444444444444444,
              "#bd3786"
             ],
             [
              0.5555555555555556,
              "#d8576b"
             ],
             [
              0.6666666666666666,
              "#ed7953"
             ],
             [
              0.7777777777777778,
              "#fb9f3a"
             ],
             [
              0.8888888888888888,
              "#fdca26"
             ],
             [
              1,
              "#f0f921"
             ]
            ],
            "type": "histogram2dcontour"
           }
          ],
          "mesh3d": [
           {
            "colorbar": {
             "outlinewidth": 0,
             "ticks": ""
            },
            "type": "mesh3d"
           }
          ],
          "parcoords": [
           {
            "line": {
             "colorbar": {
              "outlinewidth": 0,
              "ticks": ""
             }
            },
            "type": "parcoords"
           }
          ],
          "pie": [
           {
            "automargin": true,
            "type": "pie"
           }
          ],
          "scatter": [
           {
            "fillpattern": {
             "fillmode": "overlay",
             "size": 10,
             "solidity": 0.2
            },
            "type": "scatter"
           }
          ],
          "scatter3d": [
           {
            "line": {
             "colorbar": {
              "outlinewidth": 0,
              "ticks": ""
             }
            },
            "marker": {
             "colorbar": {
              "outlinewidth": 0,
              "ticks": ""
             }
            },
            "type": "scatter3d"
           }
          ],
          "scattercarpet": [
           {
            "marker": {
             "colorbar": {
              "outlinewidth": 0,
              "ticks": ""
             }
            },
            "type": "scattercarpet"
           }
          ],
          "scattergeo": [
           {
            "marker": {
             "colorbar": {
              "outlinewidth": 0,
              "ticks": ""
             }
            },
            "type": "scattergeo"
           }
          ],
          "scattergl": [
           {
            "marker": {
             "colorbar": {
              "outlinewidth": 0,
              "ticks": ""
             }
            },
            "type": "scattergl"
           }
          ],
          "scattermapbox": [
           {
            "marker": {
             "colorbar": {
              "outlinewidth": 0,
              "ticks": ""
             }
            },
            "type": "scattermapbox"
           }
          ],
          "scatterpolar": [
           {
            "marker": {
             "colorbar": {
              "outlinewidth": 0,
              "ticks": ""
             }
            },
            "type": "scatterpolar"
           }
          ],
          "scatterpolargl": [
           {
            "marker": {
             "colorbar": {
              "outlinewidth": 0,
              "ticks": ""
             }
            },
            "type": "scatterpolargl"
           }
          ],
          "scatterternary": [
           {
            "marker": {
             "colorbar": {
              "outlinewidth": 0,
              "ticks": ""
             }
            },
            "type": "scatterternary"
           }
          ],
          "surface": [
           {
            "colorbar": {
             "outlinewidth": 0,
             "ticks": ""
            },
            "colorscale": [
             [
              0,
              "#0d0887"
             ],
             [
              0.1111111111111111,
              "#46039f"
             ],
             [
              0.2222222222222222,
              "#7201a8"
             ],
             [
              0.3333333333333333,
              "#9c179e"
             ],
             [
              0.4444444444444444,
              "#bd3786"
             ],
             [
              0.5555555555555556,
              "#d8576b"
             ],
             [
              0.6666666666666666,
              "#ed7953"
             ],
             [
              0.7777777777777778,
              "#fb9f3a"
             ],
             [
              0.8888888888888888,
              "#fdca26"
             ],
             [
              1,
              "#f0f921"
             ]
            ],
            "type": "surface"
           }
          ],
          "table": [
           {
            "cells": {
             "fill": {
              "color": "#EBF0F8"
             },
             "line": {
              "color": "white"
             }
            },
            "header": {
             "fill": {
              "color": "#C8D4E3"
             },
             "line": {
              "color": "white"
             }
            },
            "type": "table"
           }
          ]
         },
         "layout": {
          "annotationdefaults": {
           "arrowcolor": "#2a3f5f",
           "arrowhead": 0,
           "arrowwidth": 1
          },
          "autotypenumbers": "strict",
          "coloraxis": {
           "colorbar": {
            "outlinewidth": 0,
            "ticks": ""
           }
          },
          "colorscale": {
           "diverging": [
            [
             0,
             "#8e0152"
            ],
            [
             0.1,
             "#c51b7d"
            ],
            [
             0.2,
             "#de77ae"
            ],
            [
             0.3,
             "#f1b6da"
            ],
            [
             0.4,
             "#fde0ef"
            ],
            [
             0.5,
             "#f7f7f7"
            ],
            [
             0.6,
             "#e6f5d0"
            ],
            [
             0.7,
             "#b8e186"
            ],
            [
             0.8,
             "#7fbc41"
            ],
            [
             0.9,
             "#4d9221"
            ],
            [
             1,
             "#276419"
            ]
           ],
           "sequential": [
            [
             0,
             "#0d0887"
            ],
            [
             0.1111111111111111,
             "#46039f"
            ],
            [
             0.2222222222222222,
             "#7201a8"
            ],
            [
             0.3333333333333333,
             "#9c179e"
            ],
            [
             0.4444444444444444,
             "#bd3786"
            ],
            [
             0.5555555555555556,
             "#d8576b"
            ],
            [
             0.6666666666666666,
             "#ed7953"
            ],
            [
             0.7777777777777778,
             "#fb9f3a"
            ],
            [
             0.8888888888888888,
             "#fdca26"
            ],
            [
             1,
             "#f0f921"
            ]
           ],
           "sequentialminus": [
            [
             0,
             "#0d0887"
            ],
            [
             0.1111111111111111,
             "#46039f"
            ],
            [
             0.2222222222222222,
             "#7201a8"
            ],
            [
             0.3333333333333333,
             "#9c179e"
            ],
            [
             0.4444444444444444,
             "#bd3786"
            ],
            [
             0.5555555555555556,
             "#d8576b"
            ],
            [
             0.6666666666666666,
             "#ed7953"
            ],
            [
             0.7777777777777778,
             "#fb9f3a"
            ],
            [
             0.8888888888888888,
             "#fdca26"
            ],
            [
             1,
             "#f0f921"
            ]
           ]
          },
          "colorway": [
           "#636efa",
           "#EF553B",
           "#00cc96",
           "#ab63fa",
           "#FFA15A",
           "#19d3f3",
           "#FF6692",
           "#B6E880",
           "#FF97FF",
           "#FECB52"
          ],
          "font": {
           "color": "#2a3f5f"
          },
          "geo": {
           "bgcolor": "white",
           "lakecolor": "white",
           "landcolor": "#E5ECF6",
           "showlakes": true,
           "showland": true,
           "subunitcolor": "white"
          },
          "hoverlabel": {
           "align": "left"
          },
          "hovermode": "closest",
          "mapbox": {
           "style": "light"
          },
          "paper_bgcolor": "white",
          "plot_bgcolor": "#E5ECF6",
          "polar": {
           "angularaxis": {
            "gridcolor": "white",
            "linecolor": "white",
            "ticks": ""
           },
           "bgcolor": "#E5ECF6",
           "radialaxis": {
            "gridcolor": "white",
            "linecolor": "white",
            "ticks": ""
           }
          },
          "scene": {
           "xaxis": {
            "backgroundcolor": "#E5ECF6",
            "gridcolor": "white",
            "gridwidth": 2,
            "linecolor": "white",
            "showbackground": true,
            "ticks": "",
            "zerolinecolor": "white"
           },
           "yaxis": {
            "backgroundcolor": "#E5ECF6",
            "gridcolor": "white",
            "gridwidth": 2,
            "linecolor": "white",
            "showbackground": true,
            "ticks": "",
            "zerolinecolor": "white"
           },
           "zaxis": {
            "backgroundcolor": "#E5ECF6",
            "gridcolor": "white",
            "gridwidth": 2,
            "linecolor": "white",
            "showbackground": true,
            "ticks": "",
            "zerolinecolor": "white"
           }
          },
          "shapedefaults": {
           "line": {
            "color": "#2a3f5f"
           }
          },
          "ternary": {
           "aaxis": {
            "gridcolor": "white",
            "linecolor": "white",
            "ticks": ""
           },
           "baxis": {
            "gridcolor": "white",
            "linecolor": "white",
            "ticks": ""
           },
           "bgcolor": "#E5ECF6",
           "caxis": {
            "gridcolor": "white",
            "linecolor": "white",
            "ticks": ""
           }
          },
          "title": {
           "x": 0.05
          },
          "xaxis": {
           "automargin": true,
           "gridcolor": "white",
           "linecolor": "white",
           "ticks": "",
           "title": {
            "standoff": 15
           },
           "zerolinecolor": "white",
           "zerolinewidth": 2
          },
          "yaxis": {
           "automargin": true,
           "gridcolor": "white",
           "linecolor": "white",
           "ticks": "",
           "title": {
            "standoff": 15
           },
           "zerolinecolor": "white",
           "zerolinewidth": 2
          }
         }
        },
        "title": {
         "text": "Multivariate drift (PCA reconstruction error)"
        },
        "xaxis": {
         "linecolor": "#3b0280",
         "matches": "x",
         "mirror": true,
         "showgrid": false,
         "title": {
          "text": "Chunk"
         },
         "zeroline": false
        },
        "yaxis": {
         "linecolor": "#3b0280",
         "mirror": true,
         "showgrid": false,
         "title": {
          "text": "Data reconstruction drift"
         },
         "zeroline": false
        }
       }
      }
     },
     "metadata": {},
     "output_type": "display_data"
    }
   ],
   "source": [
    "plot_multivariate_drift(reference_data, df2_nanny)"
   ]
  },
  {
   "attachments": {},
   "cell_type": "markdown",
   "metadata": {},
   "source": [
    "# Retrain"
   ]
  },
  {
   "cell_type": "code",
   "execution_count": null,
   "metadata": {},
   "outputs": [],
   "source": [
    "# # combine xtrain_prepro, xtest_prepro and df2_prepro\n",
    "# x_retrain = preprocessing(pd.concat([xtrain, xtest, df2.drop(columns=['Fire Alarm'])], axis=0), reset=True)\n",
    "# # combine ytrain_prepro, ytest and df2_y\n",
    "# y_retrain = np.concatenate((ytrain_prepro, ytest, df2['Fire Alarm']), axis=0)"
   ]
  },
  {
   "cell_type": "code",
   "execution_count": null,
   "metadata": {},
   "outputs": [],
   "source": [
    "# # logistic regression grid_params\n",
    "# grid_params = {\n",
    "#     'penalty': ['l1', 'l2'],\n",
    "#     'C': [0.001, 0.01, 0.1, 1, 10, 100, 1000]\n",
    "#     }\n",
    "# # grid search on retrain dataset\n",
    "# grid_search(x=x_retrain, y=y_retrain, clf=LogisticRegression(random_state=420), param_grid=grid_params)\n",
    "# # train model on retrain dataset\n",
    "# training(x=x_retrain, y=y_retrain, clf=LogisticRegression(random_state=420))"
   ]
  },
  {
   "cell_type": "code",
   "execution_count": null,
   "metadata": {},
   "outputs": [],
   "source": [
    "# # decision tree grid_params\n",
    "# grid_params = {\n",
    "#     'max_depth': [3, 4, 5, 6, 7, 8, 9, 10],\n",
    "#     'min_samples_split': [2, 3, 4, 5, 6, 7, 8, 9, 10]\n",
    "#     }\n",
    "# # grid search on retrain dataset\n",
    "# grid_search(x=x_retrain, y=y_retrain, clf=DecisionTreeClassifier(random_state=420), param_grid=grid_params)\n",
    "# # train model on retrain dataset\n",
    "# training(x=x_retrain, y=y_retrain, clf=DecisionTreeClassifier(random_state=420))"
   ]
  },
  {
   "cell_type": "code",
   "execution_count": null,
   "metadata": {},
   "outputs": [],
   "source": [
    "# # random forest grid_params\n",
    "# grid_params = {\n",
    "#     'n_estimators': [100, 200, 300, 400, 500],\n",
    "#     'max_depth': [3, 4, 5, 6, 7, 8, 9, 10]\n",
    "#     }\n",
    "# # grid search on retrain dataset\n",
    "# grid_search(x=x_retrain, y=y_retrain, clf=RandomForestClassifier(random_state=420), param_grid=grid_params)\n",
    "# # train model on retrain dataset\n",
    "# training(x=x_retrain, y=y_retrain, clf=RandomForestClassifier(random_state=420))"
   ]
  },
  {
   "cell_type": "code",
   "execution_count": null,
   "metadata": {},
   "outputs": [],
   "source": [
    "# predict_new_data(df3_prepro, df3_y, LogisticRegression(random_state=420))"
   ]
  },
  {
   "cell_type": "code",
   "execution_count": null,
   "metadata": {},
   "outputs": [],
   "source": [
    "# predict_new_data(df3_prepro, df3_y, DecisionTreeClassifier(random_state=420))"
   ]
  },
  {
   "cell_type": "code",
   "execution_count": null,
   "metadata": {},
   "outputs": [],
   "source": [
    "# predict_new_data(df3_prepro, df3_y, DecisionTreeClassifier(random_state=420))"
   ]
  }
 ],
 "metadata": {
  "kernelspec": {
   "display_name": "nova",
   "language": "python",
   "name": "python3"
  },
  "language_info": {
   "codemirror_mode": {
    "name": "ipython",
    "version": 3
   },
   "file_extension": ".py",
   "mimetype": "text/x-python",
   "name": "python",
   "nbconvert_exporter": "python",
   "pygments_lexer": "ipython3",
   "version": "3.9.16"
  },
  "orig_nbformat": 4
 },
 "nbformat": 4,
 "nbformat_minor": 2
}
